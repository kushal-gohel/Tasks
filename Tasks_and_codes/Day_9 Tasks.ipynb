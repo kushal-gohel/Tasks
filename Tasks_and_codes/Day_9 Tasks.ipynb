{
 "cells": [
  {
   "cell_type": "markdown",
   "id": "621b9884",
   "metadata": {},
   "source": [
    "# To create a calculator tool"
   ]
  },
  {
   "cell_type": "code",
   "execution_count": null,
   "id": "3d3f76a4",
   "metadata": {},
   "outputs": [],
   "source": [
    "from pydantic import BaseModel, Field\n",
    "\n",
    "class add(BaseModel):\n",
    "    \"\"\"Add two integers.\"\"\"\n",
    "\n",
    "    a: int = Field(..., description=\"First integer\")\n",
    "    b: int = Field(..., description=\"Second integer\")\n",
    "\n",
    "class multiply(BaseModel):\n",
    "    \"\"\"Multiply two integers.\"\"\"\n",
    "\n",
    "    a: int = Field(..., description=\"First integer\")\n",
    "    b: int = Field(..., description=\"Second integer\")\n",
    "\n",
    "class subtract(BaseModel):\n",
    "    \"\"\"Subtract two integers.\"\"\"\n",
    "\n",
    "    a: int = Field(..., description=\"First integer\")\n",
    "    b: int = Field(..., description=\"Second integer\")\n",
    "\n",
    "class divide(BaseModel):\n",
    "    \"\"\"Divide two integers.\"\"\"\n",
    "\n",
    "    a: int = Field(..., description=\"First integer\")\n",
    "    b: int = Field(..., description=\"Second integer\")"
   ]
  },
  {
   "cell_type": "markdown",
   "id": "875a98e9",
   "metadata": {},
   "source": [
    "## Custom tool for addition, subtraction, division and multiplication"
   ]
  },
  {
   "cell_type": "markdown",
   "id": "78028c21",
   "metadata": {},
   "source": [
    "### Usign structured tool"
   ]
  },
  {
   "cell_type": "code",
   "execution_count": 38,
   "id": "9e232b6b",
   "metadata": {},
   "outputs": [],
   "source": [
    "from langchain_core.tools import tool\n",
    "\n",
    "def add_numbers(a: int, b: int) -> int:\n",
    "    \"\"\"\n",
    "    Adds two numbers together.\n",
    "\n",
    "    Args:\n",
    "        a (int): The first number.\n",
    "        b (int): The second number.\n",
    "\n",
    "    Returns:\n",
    "        int: The sum of the two numbers.\n",
    "    \"\"\"\n",
    "    return a + b\n",
    "\n",
    "def subtract_numbers(a: int, b: int) -> int:\n",
    "    \"\"\"\n",
    "    Subtracts the second number from the first.\n",
    "\n",
    "    Args:\n",
    "        a (int): The first number.\n",
    "        b (int): The second number.\n",
    "\n",
    "    Returns:\n",
    "        int: The result of subtracting b from a.\n",
    "    \"\"\"\n",
    "    return a - b\n",
    "\n",
    "def multiply_numbers(a: int, b: int) -> int:\n",
    "    \"\"\"\n",
    "    Multiplies two numbers together.\n",
    "\n",
    "    Args:\n",
    "        a (int): The first number.\n",
    "        b (int): The second number.\n",
    "\n",
    "    Returns:\n",
    "        int: The product of the two numbers.\n",
    "    \"\"\"\n",
    "    return a * b\n",
    "\n",
    "def divide_numbers(a: int, b: int) -> float:\n",
    "    \"\"\"\n",
    "    Divides the first number by the second.\n",
    "\n",
    "    Args:\n",
    "        a (int): The numerator.\n",
    "        b (int): The denominator.\n",
    "\n",
    "    Returns:\n",
    "        float: The result of dividing a by b.\n",
    "    \n",
    "    Raises:\n",
    "        ValueError: If b is zero, as division by zero is not allowed.\n",
    "    \"\"\"\n",
    "    if b == 0:\n",
    "        raise ValueError(\"Cannot divide by zero.\")\n",
    "    return a / b"
   ]
  },
  {
   "cell_type": "code",
   "execution_count": 42,
   "id": "82dd1eb6",
   "metadata": {},
   "outputs": [],
   "source": [
    "from langchain_core.tools import tool\n",
    "from langchain_core.tools import StructuredTool\n",
    "\n",
    "add_tool = StructuredTool.from_function(\n",
    "    func = add_numbers,\n",
    "    name = \"add_numbers\",\n",
    "    description = \"Adds two numbers together.\",\n",
    "    args_schema = add\n",
    ")\n",
    "\n",
    "subtract_tool = StructuredTool.from_function(\n",
    "    func = subtract_numbers,\n",
    "    name = \"subtract_numbers\",\n",
    "    description = \"Subtracts the second number from the first.\",\n",
    "    args_schema = subtract\n",
    ")\n",
    "\n",
    "multiply_tool = StructuredTool.from_function(\n",
    "    func = multiply_numbers,\n",
    "    name = \"multiply_numbers\",\n",
    "    description = \"Multiplies two numbers together.\",\n",
    "    args_schema = multiply\n",
    ")\n",
    "\n",
    "divide_tool = StructuredTool.from_function(\n",
    "    func = divide_numbers,\n",
    "    name = \"divide_numbers\",\n",
    "    description = \"Divides the first number by the second.\",\n",
    "    args_schema = divide\n",
    ")"
   ]
  },
  {
   "cell_type": "code",
   "execution_count": 47,
   "id": "b067f122",
   "metadata": {},
   "outputs": [],
   "source": [
    "def math1():\n",
    "    a = input(\"Enter first number: \")\n",
    "    b = input(\"Enter second number: \")\n",
    "\n",
    "    subtract_result = subtract_tool.invoke({\"a\": int(a), \"b\": int(b)})\n",
    "    add_result = add_tool.invoke({\"a\": int(a), \"b\": int(b)})\n",
    "    multiply_result = multiply_tool.invoke({\"a\": int(a), \"b\": int(b)})\n",
    "    divide_result = divide_tool.invoke({\"a\": int(a), \"b\": int(b)})\n",
    "\n",
    "    print(f\"Subtraction Result: {subtract_result}\")\n",
    "    print(f\"Addition Result: {add_result}\")\n",
    "    print(f\"Multiplication Result: {multiply_result}\")\n",
    "    print(f\"Division Result: {divide_result}\")\n"
   ]
  },
  {
   "cell_type": "code",
   "execution_count": 48,
   "id": "b616ef15",
   "metadata": {},
   "outputs": [
    {
     "name": "stdout",
     "output_type": "stream",
     "text": [
      "Subtraction Result: 0\n",
      "Addition Result: 10\n",
      "Multiplication Result: 25\n",
      "Division Result: 1.0\n"
     ]
    }
   ],
   "source": [
    "math1()"
   ]
  },
  {
   "cell_type": "markdown",
   "id": "d1f609bf",
   "metadata": {},
   "source": [
    "### Using BaseTool"
   ]
  },
  {
   "cell_type": "code",
   "execution_count": 159,
   "id": "d58d82ea",
   "metadata": {},
   "outputs": [],
   "source": [
    "from langchain.tools import BaseTool\n",
    "from typing import Type\n",
    "\n",
    "class add_tool(BaseTool):\n",
    "    name: str = \"add\"\n",
    "    description: str = \"Adds two integers.\"\n",
    "    args_schema: Type[add] = add\n",
    "\n",
    "    def _run(self, a: int, b: int) -> int:\n",
    "        return a+b\n",
    "    \n",
    "class subtract_tool(BaseTool):\n",
    "    name: str = \"subtract\"\n",
    "    description: str = \"Subtracts two integers.\"\n",
    "    args_schema: Type[subtract] = subtract\n",
    "\n",
    "    def _run(self, a: int, b: int) -> int:\n",
    "        return a-b\n",
    "\n",
    "class multiply_tool(BaseTool):\n",
    "    name: str = \"multiply\"\n",
    "    description: str = \"Multiplies two integers.\"\n",
    "    args_schema: Type[multiply] = multiply\n",
    "\n",
    "    def _run(self, a: int, b: int) -> int:\n",
    "        return a*b\n",
    "    \n",
    "class divide_tool(BaseTool):\n",
    "    name: str = \"divide\"\n",
    "    description: str = \"Divides two integers.\"\n",
    "    args_schema: Type[divide] = divide\n",
    "\n",
    "    def _run(self, a: int, b: int) -> float:\n",
    "        if b == 0:\n",
    "            raise ValueError(\"Cannot divide by zero.\")\n",
    "        return a/b\n",
    "    \n"
   ]
  },
  {
   "cell_type": "code",
   "execution_count": 160,
   "id": "4ceac888",
   "metadata": {},
   "outputs": [],
   "source": [
    "addition = add_tool()\n",
    "subtraction = subtract_tool()\n",
    "multiplication = multiply_tool()\n",
    "division = divide_tool()"
   ]
  },
  {
   "cell_type": "code",
   "execution_count": 161,
   "id": "50fd286c",
   "metadata": {},
   "outputs": [
    {
     "name": "stdout",
     "output_type": "stream",
     "text": [
      "Addition Result: 8\n",
      "Subtraction Result: 2\n",
      "Multiplication Result: 15\n",
      "Division Result: 1.6666666666666667\n"
     ]
    }
   ],
   "source": [
    "addition_result = addition.invoke({\"a\": 5, \"b\": 3})\n",
    "subtraction_result = subtraction.invoke({\"a\": 5, \"b\": 3})\n",
    "multiplication_result = multiplication.invoke({\"a\": 5, \"b\": 3})\n",
    "division_result = division.invoke({\"a\": 5, \"b\": 3})\n",
    "\n",
    "\n",
    "print(f\"Addition Result: {addition_result}\")\n",
    "print(f\"Subtraction Result: {subtraction_result}\")\n",
    "print(f\"Multiplication Result: {multiplication_result}\")\n",
    "print(f\"Division Result: {division_result}\")"
   ]
  },
  {
   "cell_type": "markdown",
   "id": "f5bad510",
   "metadata": {},
   "source": [
    "### Tool Calling in chatbot"
   ]
  },
  {
   "cell_type": "code",
   "execution_count": 126,
   "id": "0355ecd7",
   "metadata": {},
   "outputs": [],
   "source": [
    "import os\n",
    "\n",
    "GROQ_API_KEY = os.getenv(\"GROQ_API_KEY\")\n",
    "os.environ[\"OPENAI_API_BASE\"] = \"https://api.groq.com/openai/v1\"\n"
   ]
  },
  {
   "cell_type": "markdown",
   "id": "24d98dfa",
   "metadata": {},
   "source": [
    "#### Using base tool to bind  into the chatbot"
   ]
  },
  {
   "cell_type": "code",
   "execution_count": 127,
   "id": "56f3dae3",
   "metadata": {},
   "outputs": [
    {
     "data": {
      "text/plain": [
       "('add', 'subtract', 'multiply', 'divide')"
      ]
     },
     "execution_count": 127,
     "metadata": {},
     "output_type": "execute_result"
    }
   ],
   "source": [
    "addition.name, subtraction.name, multiplication.name, division.name"
   ]
  },
  {
   "cell_type": "code",
   "execution_count": 128,
   "id": "b26b8f2f",
   "metadata": {},
   "outputs": [
    {
     "name": "stdout",
     "output_type": "stream",
     "text": [
      "add:  {'a': {'description': 'First integer', 'title': 'A', 'type': 'integer'}, 'b': {'description': 'Second integer', 'title': 'B', 'type': 'integer'}}\n",
      "subtract:  {'a': {'description': 'First integer', 'title': 'A', 'type': 'integer'}, 'b': {'description': 'Second integer', 'title': 'B', 'type': 'integer'}}\n",
      "multiplication:  {'a': {'description': 'First integer', 'title': 'A', 'type': 'integer'}, 'b': {'description': 'Second integer', 'title': 'B', 'type': 'integer'}}\n",
      "Division:  {'a': {'description': 'First integer', 'title': 'A', 'type': 'integer'}, 'b': {'description': 'Second integer', 'title': 'B', 'type': 'integer'}}\n"
     ]
    }
   ],
   "source": [
    "print(\"add: \", addition.args) \n",
    "print(\"subtract: \", subtraction.args) \n",
    "print(\"multiplication: \", multiplication.args)\n",
    "print(\"Division: \", division.args)"
   ]
  },
  {
   "cell_type": "code",
   "execution_count": 185,
   "id": "4ff66a6a",
   "metadata": {},
   "outputs": [],
   "source": [
    "from langchain_groq import ChatGroq\n",
    "from dotenv import load_dotenv\n",
    "load_dotenv()  # Load environment variables from .env file\n",
    "\n",
    "llm = ChatGroq(\n",
    "    model=\"gemma2-9b-it\",\n",
    "    temperature=0.7,\n",
    ")\n"
   ]
  },
  {
   "cell_type": "code",
   "execution_count": 186,
   "id": "3b4ac0dc",
   "metadata": {},
   "outputs": [],
   "source": [
    "llm_with_tools = llm.bind_tools([addition, subtraction, multiplication, division])"
   ]
  },
  {
   "cell_type": "markdown",
   "id": "80e6bda0",
   "metadata": {},
   "source": [
    "#### Tool Calling"
   ]
  },
  {
   "cell_type": "code",
   "execution_count": 188,
   "id": "b90e73c5",
   "metadata": {},
   "outputs": [
    {
     "data": {
      "text/plain": [
       "'8'"
      ]
     },
     "execution_count": 188,
     "metadata": {},
     "output_type": "execute_result"
    }
   ],
   "source": [
    "from langchain_core.messages import HumanMessage\n",
    "\n",
    "query = HumanMessage('What is the sum of 5 and 3?')\n",
    "messages = [query]\n",
    "result = llm_with_tools.invoke(\"What is the sum of 5 and 3?\")\n",
    "messages.append(result)\n",
    "messages\n",
    "\n",
    "if result.tool_calls[0]['name'] == \"add\":\n",
    "    tool_result = addition.invoke(result.tool_calls[0])\n",
    "if result.tool_calls[0]['name'] == \"subtract\":\n",
    "    tool_result = subtraction.invoke(result.tool_calls[0])\n",
    "if result.tool_calls[0]['name'] == \"multiply\":\n",
    "    tool_result = multiplication.invoke(result.tool_calls[0])\n",
    "if result.tool_calls[0]['name'] == \"divide\":\n",
    "    tool_result = division.invoke(result.tool_calls[0])\n",
    "\n",
    "messages.append(tool_result)\n",
    "\n",
    "llm_with_tools.invoke(messages).content"
   ]
  },
  {
   "cell_type": "code",
   "execution_count": 189,
   "id": "6d2983a5",
   "metadata": {},
   "outputs": [
    {
     "data": {
      "text/plain": [
       "{'name': 'add',\n",
       " 'args': {'a': 5, 'b': 3},\n",
       " 'id': 'q6j3bywy0',\n",
       " 'type': 'tool_call'}"
      ]
     },
     "execution_count": 189,
     "metadata": {},
     "output_type": "execute_result"
    }
   ],
   "source": [
    "result.tool_calls[0]"
   ]
  },
  {
   "cell_type": "code",
   "execution_count": 191,
   "id": "f5793de7",
   "metadata": {},
   "outputs": [
    {
     "data": {
      "text/plain": [
       "{'a': 5, 'b': 3}"
      ]
     },
     "execution_count": 191,
     "metadata": {},
     "output_type": "execute_result"
    }
   ],
   "source": [
    "result.tool_calls[0]['args']"
   ]
  },
  {
   "cell_type": "markdown",
   "id": "bccd9bc0",
   "metadata": {},
   "source": [
    "#### Tool Execution"
   ]
  },
  {
   "cell_type": "code",
   "execution_count": 174,
   "id": "cbf71382",
   "metadata": {},
   "outputs": [
    {
     "data": {
      "text/plain": [
       "ToolMessage(content='8', name='add', tool_call_id='eemesa4ab')"
      ]
     },
     "execution_count": 174,
     "metadata": {},
     "output_type": "execute_result"
    }
   ],
   "source": [
    "addition.invoke(result.tool_calls[0])"
   ]
  },
  {
   "cell_type": "code",
   "execution_count": null,
   "id": "c436f0cb",
   "metadata": {},
   "outputs": [
    {
     "name": "stdout",
     "output_type": "stream",
     "text": [
      "Addition:  content='8' name='add' tool_call_id='eemesa4ab'\n"
     ]
    }
   ],
   "source": []
  },
  {
   "cell_type": "markdown",
   "id": "332a933b",
   "metadata": {},
   "source": [
    "# Multi-Tool Agent Assistant (Web Search + Calculator + Weather)"
   ]
  },
  {
   "cell_type": "code",
   "execution_count": 214,
   "id": "b793ae9e",
   "metadata": {},
   "outputs": [],
   "source": [
    "from dotenv import load_dotenv\n",
    "import os \n",
    "load_dotenv()\n",
    "\n",
    "SERP_API_KEY = os.getenv(\"SERPAPI_API_KEY\")"
   ]
  },
  {
   "cell_type": "code",
   "execution_count": 237,
   "id": "66e61895",
   "metadata": {},
   "outputs": [
    {
     "name": "stdout",
     "output_type": "stream",
     "text": [
      "Found existing installation: google_search_results 2.4.2\n",
      "Uninstalling google_search_results-2.4.2:\n",
      "  Successfully uninstalled google_search_results-2.4.2\n",
      "Note: you may need to restart the kernel to use updated packages.\n"
     ]
    },
    {
     "name": "stderr",
     "output_type": "stream",
     "text": [
      "WARNING: Skipping serpapi as it is not installed.\n"
     ]
    }
   ],
   "source": [
    "pip uninstall serpapi google-search-results -y\n"
   ]
  },
  {
   "cell_type": "code",
   "execution_count": 238,
   "id": "48cbbdc0",
   "metadata": {},
   "outputs": [
    {
     "name": "stdout",
     "output_type": "stream",
     "text": [
      "Collecting google-search-results\n",
      "  Using cached google_search_results-2.4.2-py3-none-any.whl\n",
      "Requirement already satisfied: requests in c:\\users\\kushal\\anaconda3\\envs\\fapienv\\lib\\site-packages (from google-search-results) (2.32.4)\n",
      "Requirement already satisfied: charset_normalizer<4,>=2 in c:\\users\\kushal\\anaconda3\\envs\\fapienv\\lib\\site-packages (from requests->google-search-results) (3.3.2)\n",
      "Requirement already satisfied: idna<4,>=2.5 in c:\\users\\kushal\\anaconda3\\envs\\fapienv\\lib\\site-packages (from requests->google-search-results) (3.10)\n",
      "Requirement already satisfied: urllib3<3,>=1.21.1 in c:\\users\\kushal\\anaconda3\\envs\\fapienv\\lib\\site-packages (from requests->google-search-results) (2.5.0)\n",
      "Requirement already satisfied: certifi>=2017.4.17 in c:\\users\\kushal\\anaconda3\\envs\\fapienv\\lib\\site-packages (from requests->google-search-results) (2025.6.15)\n",
      "Installing collected packages: google-search-results\n",
      "Successfully installed google-search-results-2.4.2\n",
      "Note: you may need to restart the kernel to use updated packages.\n"
     ]
    }
   ],
   "source": [
    "pip install google-search-results"
   ]
  },
  {
   "cell_type": "code",
   "execution_count": 244,
   "id": "38dfe425",
   "metadata": {},
   "outputs": [
    {
     "name": "stdout",
     "output_type": "stream",
     "text": [
      "Requirement already satisfied: langchain in c:\\users\\kushal\\anaconda3\\envs\\fapienv\\lib\\site-packages (0.3.26)\n",
      "Collecting serpapi\n",
      "  Using cached serpapi-0.1.5-py2.py3-none-any.whl.metadata (10 kB)\n",
      "Requirement already satisfied: langchain-core<1.0.0,>=0.3.66 in c:\\users\\kushal\\anaconda3\\envs\\fapienv\\lib\\site-packages (from langchain) (0.3.68)\n",
      "Requirement already satisfied: langchain-text-splitters<1.0.0,>=0.3.8 in c:\\users\\kushal\\anaconda3\\envs\\fapienv\\lib\\site-packages (from langchain) (0.3.8)\n",
      "Requirement already satisfied: langsmith>=0.1.17 in c:\\users\\kushal\\anaconda3\\envs\\fapienv\\lib\\site-packages (from langchain) (0.4.4)\n",
      "Requirement already satisfied: pydantic<3.0.0,>=2.7.4 in c:\\users\\kushal\\anaconda3\\envs\\fapienv\\lib\\site-packages (from langchain) (2.11.7)\n",
      "Requirement already satisfied: SQLAlchemy<3,>=1.4 in c:\\users\\kushal\\anaconda3\\envs\\fapienv\\lib\\site-packages (from langchain) (2.0.41)\n",
      "Requirement already satisfied: requests<3,>=2 in c:\\users\\kushal\\anaconda3\\envs\\fapienv\\lib\\site-packages (from langchain) (2.32.4)\n",
      "Requirement already satisfied: PyYAML>=5.3 in c:\\users\\kushal\\anaconda3\\envs\\fapienv\\lib\\site-packages (from langchain) (6.0.2)\n",
      "Requirement already satisfied: tenacity!=8.4.0,<10.0.0,>=8.1.0 in c:\\users\\kushal\\anaconda3\\envs\\fapienv\\lib\\site-packages (from langchain-core<1.0.0,>=0.3.66->langchain) (9.1.2)\n",
      "Requirement already satisfied: jsonpatch<2.0,>=1.33 in c:\\users\\kushal\\anaconda3\\envs\\fapienv\\lib\\site-packages (from langchain-core<1.0.0,>=0.3.66->langchain) (1.33)\n",
      "Requirement already satisfied: packaging<25,>=23.2 in c:\\users\\kushal\\anaconda3\\envs\\fapienv\\lib\\site-packages (from langchain-core<1.0.0,>=0.3.66->langchain) (24.2)\n",
      "Requirement already satisfied: typing-extensions>=4.7 in c:\\users\\kushal\\anaconda3\\envs\\fapienv\\lib\\site-packages (from langchain-core<1.0.0,>=0.3.66->langchain) (4.12.2)\n",
      "Requirement already satisfied: jsonpointer>=1.9 in c:\\users\\kushal\\anaconda3\\envs\\fapienv\\lib\\site-packages (from jsonpatch<2.0,>=1.33->langchain-core<1.0.0,>=0.3.66->langchain) (3.0.0)\n",
      "Requirement already satisfied: annotated-types>=0.6.0 in c:\\users\\kushal\\anaconda3\\envs\\fapienv\\lib\\site-packages (from pydantic<3.0.0,>=2.7.4->langchain) (0.7.0)\n",
      "Requirement already satisfied: pydantic-core==2.33.2 in c:\\users\\kushal\\anaconda3\\envs\\fapienv\\lib\\site-packages (from pydantic<3.0.0,>=2.7.4->langchain) (2.33.2)\n",
      "Requirement already satisfied: typing-inspection>=0.4.0 in c:\\users\\kushal\\anaconda3\\envs\\fapienv\\lib\\site-packages (from pydantic<3.0.0,>=2.7.4->langchain) (0.4.1)\n",
      "Requirement already satisfied: charset_normalizer<4,>=2 in c:\\users\\kushal\\anaconda3\\envs\\fapienv\\lib\\site-packages (from requests<3,>=2->langchain) (3.3.2)\n",
      "Requirement already satisfied: idna<4,>=2.5 in c:\\users\\kushal\\anaconda3\\envs\\fapienv\\lib\\site-packages (from requests<3,>=2->langchain) (3.10)\n",
      "Requirement already satisfied: urllib3<3,>=1.21.1 in c:\\users\\kushal\\anaconda3\\envs\\fapienv\\lib\\site-packages (from requests<3,>=2->langchain) (2.5.0)\n",
      "Requirement already satisfied: certifi>=2017.4.17 in c:\\users\\kushal\\anaconda3\\envs\\fapienv\\lib\\site-packages (from requests<3,>=2->langchain) (2025.6.15)\n",
      "Requirement already satisfied: greenlet>=1 in c:\\users\\kushal\\anaconda3\\envs\\fapienv\\lib\\site-packages (from SQLAlchemy<3,>=1.4->langchain) (3.2.3)\n",
      "Requirement already satisfied: httpx<1,>=0.23.0 in c:\\users\\kushal\\anaconda3\\envs\\fapienv\\lib\\site-packages (from langsmith>=0.1.17->langchain) (0.28.1)\n",
      "Requirement already satisfied: orjson<4.0.0,>=3.9.14 in c:\\users\\kushal\\anaconda3\\envs\\fapienv\\lib\\site-packages (from langsmith>=0.1.17->langchain) (3.10.18)\n",
      "Requirement already satisfied: requests-toolbelt<2.0.0,>=1.0.0 in c:\\users\\kushal\\anaconda3\\envs\\fapienv\\lib\\site-packages (from langsmith>=0.1.17->langchain) (1.0.0)\n",
      "Requirement already satisfied: zstandard<0.24.0,>=0.23.0 in c:\\users\\kushal\\anaconda3\\envs\\fapienv\\lib\\site-packages (from langsmith>=0.1.17->langchain) (0.23.0)\n",
      "Requirement already satisfied: anyio in c:\\users\\kushal\\anaconda3\\envs\\fapienv\\lib\\site-packages (from httpx<1,>=0.23.0->langsmith>=0.1.17->langchain) (4.7.0)\n",
      "Requirement already satisfied: httpcore==1.* in c:\\users\\kushal\\anaconda3\\envs\\fapienv\\lib\\site-packages (from httpx<1,>=0.23.0->langsmith>=0.1.17->langchain) (1.0.9)\n",
      "Requirement already satisfied: h11>=0.16 in c:\\users\\kushal\\anaconda3\\envs\\fapienv\\lib\\site-packages (from httpcore==1.*->httpx<1,>=0.23.0->langsmith>=0.1.17->langchain) (0.16.0)\n",
      "Requirement already satisfied: sniffio>=1.1 in c:\\users\\kushal\\anaconda3\\envs\\fapienv\\lib\\site-packages (from anyio->httpx<1,>=0.23.0->langsmith>=0.1.17->langchain) (1.3.0)\n",
      "Using cached serpapi-0.1.5-py2.py3-none-any.whl (10 kB)\n",
      "Installing collected packages: serpapi\n",
      "Successfully installed serpapi-0.1.5\n",
      "Note: you may need to restart the kernel to use updated packages.\n"
     ]
    }
   ],
   "source": [
    "pip install --upgrade langchain serpapi\n"
   ]
  },
  {
   "cell_type": "markdown",
   "id": "efbdbe30",
   "metadata": {},
   "source": [
    "### Creating tools for search and calculation"
   ]
  },
  {
   "cell_type": "code",
   "execution_count": 9,
   "id": "e0e7e73d",
   "metadata": {},
   "outputs": [],
   "source": [
    "from langchain.utilities.serpapi import SerpAPIWrapper"
   ]
  },
  {
   "cell_type": "code",
   "execution_count": null,
   "id": "f3611e70",
   "metadata": {},
   "outputs": [],
   "source": [
    "from typing import Type\n",
    "from pydantic import BaseModel, Field\n",
    "from langchain.tools import BaseTool\n",
    "# from langchain.utilities.serpapi import SerpAPIWrapper # We will not use this directly\n",
    "import serpapi # Import the serpapi library directly\n",
    "import os # To access environment variables for API key\n",
    "\n",
    "# Creating a pydantic base model for the input schema\n",
    "class CelsiusToFahrenheitInput(BaseModel):\n",
    "    \"\"\"Input schema for Celsius to Fahrenheit conversion.\"\"\"\n",
    "    celsius: float = Field(..., description=\"Temperature in Celsius\")\n",
    "\n",
    "class WeatherInput(BaseModel):\n",
    "    \"\"\"Input schema for weather tool.\"\"\"\n",
    "    location: str = Field(..., description=\"Location to fetch the weather for\")\n",
    "\n",
    "# Creating a tool class for Celsius to Fahrenheit conversion\n",
    "class CelsiusToFahrenheitTool(BaseTool):\n",
    "    name: str = \"celsius_to_fahrenheit\"\n",
    "    description: str = \"Converts Celsius to Fahrenheit.\"\n",
    "    args_schema: Type[BaseModel] = CelsiusToFahrenheitInput\n",
    "\n",
    "    def _run(self, celsius: float) -> float:\n",
    "        celsius = float(celsius)\n",
    "        return (celsius * 9/5) + 32\n",
    "\n",
    "class WeatherTool(BaseTool):\n",
    "    name: str = \"weather\"\n",
    "    description: str = \"Fetches the current weather for a given location using SerpAPI.\"\n",
    "    args_schema: Type[BaseModel] = WeatherInput\n",
    "\n",
    "    def _run(self, location: str) -> str:\n",
    "        try:\n",
    "            api_key = os.getenv(\"SERPAPI_API_KEY\")\n",
    "            if not api_key:\n",
    "                return \"Error: SERPAPI_API_KEY not found in environment variables.\"\n",
    "\n",
    "            params = {\n",
    "                \"q\": f\"temperature in {location}\",\n",
    "                \"engine\": \"google\",\n",
    "                \"api_key\": api_key\n",
    "            }\n",
    "            search_results = serpapi.search(params)\n",
    "            \n",
    "            # Structured results are in \"answer_box\"\n",
    "            if \"answer_box\" in search_results and \"temperature\" in search_results[\"answer_box\"]:\n",
    "                return f\"The temperature in {location} is {search_results['answer_box']['temperature']}.\"\n",
    "            else:\n",
    "                return f\"Could not find temperature information for {location}.\"\n",
    "\n",
    "        except Exception as e:\n",
    "            return f\"Error occurred: {str(e)}\"\n",
    "\n",
    "    def _arun(self, location: str):\n",
    "        raise NotImplementedError(\"Async version not implemented.\")\n",
    "\n"
   ]
  },
  {
   "cell_type": "code",
   "execution_count": 11,
   "id": "c523e615",
   "metadata": {},
   "outputs": [],
   "source": [
    "from langchain.agents import initialize_agent, AgentType\n",
    "from langchain_groq import ChatGroq\n",
    "from dotenv import load_dotenv\n",
    "load_dotenv()  # Load environment variables from .env file\n",
    "\n",
    "llm = ChatGroq(\n",
    "    model=\"gemma2-9b-it\",\n",
    "    temperature=0.7,\n",
    ")\n",
    "\n",
    "# Instantiate Tools\n",
    "celsius_tool = CelsiusToFahrenheitTool()\n",
    "weather_tool = WeatherTool()\n",
    "\n",
    "# Initialize the Agent with tools\n",
    "agent = initialize_agent(\n",
    "    tools=[celsius_tool, weather_tool],\n",
    "    llm=llm,\n",
    "    agent=AgentType.ZERO_SHOT_REACT_DESCRIPTION,\n",
    "    verbose=True\n",
    ")"
   ]
  },
  {
   "cell_type": "code",
   "execution_count": 12,
   "id": "5cb69791",
   "metadata": {},
   "outputs": [
    {
     "name": "stdout",
     "output_type": "stream",
     "text": [
      "\n",
      "\n",
      "\u001b[1m> Entering new AgentExecutor chain...\u001b[0m\n",
      "\u001b[32;1m\u001b[1;3mThought: I need to get the weather in New York and convert 5°C to Fahrenheit.\n",
      "Action: weather\n",
      "Action Input: New York\u001b[0m\n",
      "Observation: \u001b[33;1m\u001b[1;3mThe temperature in New York is 77.\u001b[0m\n",
      "Thought:\u001b[32;1m\u001b[1;3mThought: Now I need to convert 5°C to Fahrenheit. \n",
      "Action: celsius_to_fahrenheit\n",
      "Action Input: 5\u001b[0m\n",
      "Observation: \u001b[36;1m\u001b[1;3m41.0\u001b[0m\n",
      "Thought:\u001b[32;1m\u001b[1;3mThought: I now know the final answer\n",
      "Final Answer: The weather in New York is 77 degrees and 5°C is 41 degrees Fahrenheit.  \n",
      "\u001b[0m\n",
      "\n",
      "\u001b[1m> Finished chain.\u001b[0m\n",
      "The weather in New York is 77 degrees and 5°C is 41 degrees Fahrenheit.\n"
     ]
    }
   ],
   "source": [
    "response = agent.run(\"What’s the weather in New York and what’s 5°C in Fahrenheit?\")\n",
    "print(response)"
   ]
  },
  {
   "cell_type": "code",
   "execution_count": null,
   "id": "52bfdcae",
   "metadata": {},
   "outputs": [],
   "source": []
  }
 ],
 "metadata": {
  "kernelspec": {
   "display_name": "fapienv",
   "language": "python",
   "name": "python3"
  },
  "language_info": {
   "codemirror_mode": {
    "name": "ipython",
    "version": 3
   },
   "file_extension": ".py",
   "mimetype": "text/x-python",
   "name": "python",
   "nbconvert_exporter": "python",
   "pygments_lexer": "ipython3",
   "version": "3.11.13"
  }
 },
 "nbformat": 4,
 "nbformat_minor": 5
}
