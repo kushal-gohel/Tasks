{
 "cells": [
  {
   "cell_type": "markdown",
   "id": "7a3ad89f",
   "metadata": {},
   "source": [
    "# **AGNO AI**"
   ]
  },
  {
   "cell_type": "code",
   "execution_count": 14,
   "id": "aa2ea288",
   "metadata": {},
   "outputs": [
    {
     "name": "stdout",
     "output_type": "stream",
     "text": [
      "Requirement already satisfied: agno in c:\\users\\kushal\\anaconda3\\envs\\fapienv\\lib\\site-packages (1.7.1)\n",
      "Requirement already satisfied: groq in c:\\users\\kushal\\anaconda3\\envs\\fapienv\\lib\\site-packages (0.29.0)\n",
      "Requirement already satisfied: docstring-parser in c:\\users\\kushal\\anaconda3\\envs\\fapienv\\lib\\site-packages (from agno) (0.16)\n",
      "Requirement already satisfied: gitpython in c:\\users\\kushal\\anaconda3\\envs\\fapienv\\lib\\site-packages (from agno) (3.1.44)\n",
      "Requirement already satisfied: httpx in c:\\users\\kushal\\anaconda3\\envs\\fapienv\\lib\\site-packages (from agno) (0.28.1)\n",
      "Requirement already satisfied: pydantic-settings in c:\\users\\kushal\\anaconda3\\envs\\fapienv\\lib\\site-packages (from agno) (2.10.1)\n",
      "Requirement already satisfied: pydantic in c:\\users\\kushal\\anaconda3\\envs\\fapienv\\lib\\site-packages (from agno) (2.11.7)\n",
      "Requirement already satisfied: python-dotenv in c:\\users\\kushal\\anaconda3\\envs\\fapienv\\lib\\site-packages (from agno) (1.1.1)\n",
      "Requirement already satisfied: python-multipart in c:\\users\\kushal\\anaconda3\\envs\\fapienv\\lib\\site-packages (from agno) (0.0.20)\n",
      "Requirement already satisfied: pyyaml in c:\\users\\kushal\\anaconda3\\envs\\fapienv\\lib\\site-packages (from agno) (6.0.2)\n",
      "Requirement already satisfied: rich in c:\\users\\kushal\\anaconda3\\envs\\fapienv\\lib\\site-packages (from agno) (14.0.0)\n",
      "Requirement already satisfied: tomli in c:\\users\\kushal\\anaconda3\\envs\\fapienv\\lib\\site-packages (from agno) (2.2.1)\n",
      "Requirement already satisfied: typer in c:\\users\\kushal\\anaconda3\\envs\\fapienv\\lib\\site-packages (from agno) (0.16.0)\n",
      "Requirement already satisfied: typing-extensions in c:\\users\\kushal\\anaconda3\\envs\\fapienv\\lib\\site-packages (from agno) (4.12.2)\n",
      "Requirement already satisfied: anyio<5,>=3.5.0 in c:\\users\\kushal\\anaconda3\\envs\\fapienv\\lib\\site-packages (from groq) (4.7.0)\n",
      "Requirement already satisfied: distro<2,>=1.7.0 in c:\\users\\kushal\\anaconda3\\envs\\fapienv\\lib\\site-packages (from groq) (1.9.0)\n",
      "Requirement already satisfied: sniffio in c:\\users\\kushal\\anaconda3\\envs\\fapienv\\lib\\site-packages (from groq) (1.3.0)\n",
      "Requirement already satisfied: idna>=2.8 in c:\\users\\kushal\\anaconda3\\envs\\fapienv\\lib\\site-packages (from anyio<5,>=3.5.0->groq) (3.10)\n",
      "Requirement already satisfied: certifi in c:\\users\\kushal\\anaconda3\\envs\\fapienv\\lib\\site-packages (from httpx->agno) (2025.6.15)\n",
      "Requirement already satisfied: httpcore==1.* in c:\\users\\kushal\\anaconda3\\envs\\fapienv\\lib\\site-packages (from httpx->agno) (1.0.9)\n",
      "Requirement already satisfied: h11>=0.16 in c:\\users\\kushal\\anaconda3\\envs\\fapienv\\lib\\site-packages (from httpcore==1.*->httpx->agno) (0.16.0)\n",
      "Requirement already satisfied: annotated-types>=0.6.0 in c:\\users\\kushal\\anaconda3\\envs\\fapienv\\lib\\site-packages (from pydantic->agno) (0.7.0)\n",
      "Requirement already satisfied: pydantic-core==2.33.2 in c:\\users\\kushal\\anaconda3\\envs\\fapienv\\lib\\site-packages (from pydantic->agno) (2.33.2)\n",
      "Requirement already satisfied: typing-inspection>=0.4.0 in c:\\users\\kushal\\anaconda3\\envs\\fapienv\\lib\\site-packages (from pydantic->agno) (0.4.1)\n",
      "Requirement already satisfied: gitdb<5,>=4.0.1 in c:\\users\\kushal\\anaconda3\\envs\\fapienv\\lib\\site-packages (from gitpython->agno) (4.0.12)\n",
      "Requirement already satisfied: smmap<6,>=3.0.1 in c:\\users\\kushal\\anaconda3\\envs\\fapienv\\lib\\site-packages (from gitdb<5,>=4.0.1->gitpython->agno) (5.0.2)\n",
      "Requirement already satisfied: markdown-it-py>=2.2.0 in c:\\users\\kushal\\anaconda3\\envs\\fapienv\\lib\\site-packages (from rich->agno) (3.0.0)\n",
      "Requirement already satisfied: pygments<3.0.0,>=2.13.0 in c:\\users\\kushal\\anaconda3\\envs\\fapienv\\lib\\site-packages (from rich->agno) (2.19.1)\n",
      "Requirement already satisfied: mdurl~=0.1 in c:\\users\\kushal\\anaconda3\\envs\\fapienv\\lib\\site-packages (from markdown-it-py>=2.2.0->rich->agno) (0.1.2)\n",
      "Requirement already satisfied: click>=8.0.0 in c:\\users\\kushal\\anaconda3\\envs\\fapienv\\lib\\site-packages (from typer->agno) (8.2.1)\n",
      "Requirement already satisfied: shellingham>=1.3.0 in c:\\users\\kushal\\anaconda3\\envs\\fapienv\\lib\\site-packages (from typer->agno) (1.5.4)\n",
      "Requirement already satisfied: colorama in c:\\users\\kushal\\anaconda3\\envs\\fapienv\\lib\\site-packages (from click>=8.0.0->typer->agno) (0.4.6)\n"
     ]
    }
   ],
   "source": [
    "! pip install agno groq"
   ]
  },
  {
   "cell_type": "markdown",
   "id": "5745f6e2",
   "metadata": {},
   "source": [
    "### Trial Balls"
   ]
  },
  {
   "cell_type": "markdown",
   "id": "2414031a",
   "metadata": {},
   "source": [
    "##### Example 1 : Normal Chatbot"
   ]
  },
  {
   "cell_type": "code",
   "execution_count": 1,
   "id": "c9c5ee8c",
   "metadata": {},
   "outputs": [
    {
     "data": {
      "text/html": [
       "<pre style=\"white-space:pre;overflow-x:auto;line-height:normal;font-family:Menlo,'DejaVu Sans Mono',consolas,'Courier New',monospace\">c:\\Users\\KUSHAL\\anaconda3\\envs\\fapienv\\Lib\\site-packages\\rich\\live.py:231: UserWarning: install \"ipywidgets\" for \n",
       "Jupyter support\n",
       "  warnings.warn('install \"ipywidgets\" for Jupyter support')\n",
       "</pre>\n"
      ],
      "text/plain": [
       "c:\\Users\\KUSHAL\\anaconda3\\envs\\fapienv\\Lib\\site-packages\\rich\\live.py:231: UserWarning: install \"ipywidgets\" for \n",
       "Jupyter support\n",
       "  warnings.warn('install \"ipywidgets\" for Jupyter support')\n"
      ]
     },
     "metadata": {},
     "output_type": "display_data"
    },
    {
     "data": {
      "text/html": [
       "<pre style=\"white-space:pre;overflow-x:auto;line-height:normal;font-family:Menlo,'DejaVu Sans Mono',consolas,'Courier New',monospace\"></pre>\n"
      ],
      "text/plain": []
     },
     "metadata": {},
     "output_type": "display_data"
    }
   ],
   "source": [
    "from agno.agent import Agent\n",
    "from agno.models.groq import Groq\n",
    "import os\n",
    "from agno.models.groq import Groq\n",
    "from dotenv import load_dotenv\n",
    "load_dotenv()\n",
    "\n",
    "GROQ_API_KEY = os.getenv(\"GROQ_API_KEY\")\n",
    "# Initializat the Groq model\n",
    "agent = Agent(\n",
    "    model=Groq(id=\"llama-3.3-70b-versatile\"),\n",
    "    \n",
    "    markdown=True\n",
    ")\n",
    "\n",
    "# Print the response in the terminal\n",
    "agent.print_response(\"Share a 2 sentence horror story.\")"
   ]
  },
  {
   "cell_type": "markdown",
   "id": "ae9bd5ec",
   "metadata": {},
   "source": [
    "##### Example 2: Along with Tool"
   ]
  },
  {
   "cell_type": "code",
   "execution_count": 44,
   "id": "ecb0f706",
   "metadata": {},
   "outputs": [
    {
     "name": "stdout",
     "output_type": "stream",
     "text": [
      "Collecting ddgs\n",
      "  Downloading ddgs-9.0.0-py3-none-any.whl.metadata (15 kB)\n",
      "Requirement already satisfied: click>=8.1.8 in c:\\users\\kushal\\anaconda3\\envs\\fapienv\\lib\\site-packages (from ddgs) (8.2.1)\n",
      "Requirement already satisfied: primp>=0.15.0 in c:\\users\\kushal\\anaconda3\\envs\\fapienv\\lib\\site-packages (from ddgs) (0.15.0)\n",
      "Requirement already satisfied: lxml>=5.3.0 in c:\\users\\kushal\\anaconda3\\envs\\fapienv\\lib\\site-packages (from ddgs) (6.0.0)\n",
      "Requirement already satisfied: colorama in c:\\users\\kushal\\anaconda3\\envs\\fapienv\\lib\\site-packages (from click>=8.1.8->ddgs) (0.4.6)\n",
      "Downloading ddgs-9.0.0-py3-none-any.whl (17 kB)\n",
      "Installing collected packages: ddgs\n",
      "Successfully installed ddgs-9.0.0\n",
      "Note: you may need to restart the kernel to use updated packages.\n"
     ]
    },
    {
     "name": "stderr",
     "output_type": "stream",
     "text": [
      "c:\\Users\\KUSHAL\\anaconda3\\envs\\fapienv\\Lib\\site-packages\\IPython\\utils\\_process_win32.py:138: ResourceWarning: unclosed file <_io.BufferedWriter name=3>\n",
      "  res = process_handler(cmd, _system_body)\n",
      "ResourceWarning: Enable tracemalloc to get the object allocation traceback\n",
      "c:\\Users\\KUSHAL\\anaconda3\\envs\\fapienv\\Lib\\site-packages\\IPython\\utils\\_process_win32.py:138: ResourceWarning: unclosed file <_io.BufferedReader name=4>\n",
      "  res = process_handler(cmd, _system_body)\n",
      "ResourceWarning: Enable tracemalloc to get the object allocation traceback\n",
      "c:\\Users\\KUSHAL\\anaconda3\\envs\\fapienv\\Lib\\site-packages\\IPython\\utils\\_process_win32.py:138: ResourceWarning: unclosed file <_io.BufferedReader name=5>\n",
      "  res = process_handler(cmd, _system_body)\n",
      "ResourceWarning: Enable tracemalloc to get the object allocation traceback\n"
     ]
    }
   ],
   "source": [
    "pip install ddgs"
   ]
  },
  {
   "cell_type": "code",
   "execution_count": null,
   "id": "9c1d28bb",
   "metadata": {},
   "outputs": [
    {
     "name": "stdout",
     "output_type": "stream",
     "text": [
      "\u001b[?25l\u001b[32m▰▱▱▱▱▱▱\u001b[0m Thinking...\n",
      "\u001b[36m┌─\u001b[0m\u001b[36m Message \u001b[0m\u001b[36m──────────────────────────────────────────────────────────────────\u001b[0m\u001b[36m─┐\u001b[0m\n",
      "\u001b[36m│\u001b[0m                                                                             \u001b[36m│\u001b[0m\n",
      "\u001b[36m│\u001b[0m \u001b[32mWho won the India vs England Second Test Match 2025?\u001b[0m                        \u001b[36m│\u001b[0m\n",
      "\u001b[36m│\u001b[0m                                                                             \u001b[36m│\u001b[0m\n",
      "\u001b[2K\u001b[1A\u001b[2K\u001b[1A\u001b[2K\u001b[1A\u001b[2K\u001b[1A\u001b[2K\u001b[1A\u001b[2K\u001b[32m▰▰▱▱▱▱▱\u001b[0m Thinking...───────────┘\u001b[0m\n",
      "\u001b[36m┌─\u001b[0m\u001b[36m Message \u001b[0m\u001b[36m──────────────────────────────────────────────────────────────────\u001b[0m\u001b[36m─┐\u001b[0m\n",
      "\u001b[36m│\u001b[0m                                                                             \u001b[36m│\u001b[0m\n",
      "\u001b[36m│\u001b[0m \u001b[32mWho won the India vs England Second Test Match 2025?\u001b[0m                        \u001b[36m│\u001b[0m\n",
      "\u001b[36m│\u001b[0m                                                                             \u001b[36m│\u001b[0m\n",
      "\u001b[2K\u001b[1A\u001b[2K\u001b[1A\u001b[2K\u001b[1A\u001b[2K\u001b[1A\u001b[2K\u001b[1A\u001b[2K\u001b[32m▰▰▰▱▱▱▱\u001b[0m Thinking...───────────┘\u001b[0m\n",
      "\u001b[36m┌─\u001b[0m\u001b[36m Message \u001b[0m\u001b[36m──────────────────────────────────────────────────────────────────\u001b[0m\u001b[36m─┐\u001b[0m\n",
      "\u001b[36m│\u001b[0m                                                                             \u001b[36m│\u001b[0m\n",
      "\u001b[36m│\u001b[0m \u001b[32mWho won the India vs England Second Test Match 2025?\u001b[0m                        \u001b[36m│\u001b[0m\n",
      "\u001b[36m│\u001b[0m                                                                             \u001b[36m│\u001b[0m\n",
      "\u001b[2K\u001b[1A\u001b[2K\u001b[1A\u001b[2K\u001b[1A\u001b[2K\u001b[1A\u001b[2K\u001b[1A\u001b[2Kc:\\Users\\KUSHAL\\anaconda3\\envs\\fapienv\\Lib\\site-packages\\agno\\tools\\duckduckgo.\n",
      "py:71: RuntimeWarning: This package (`duckduckgo_search`) has been renamed to \n",
      "`ddgs`! Use `pip install ddgs` instead.\n",
      "  ddgs = DDGS(\n",
      "\u001b[32m▰▰▰▰▱▱▱\u001b[0m Thinking...\n",
      "\u001b[36m┌─\u001b[0m\u001b[36m Message \u001b[0m\u001b[36m──────────────────────────────────────────────────────────────────\u001b[0m\u001b[36m─┐\u001b[0m\n",
      "\u001b[36m│\u001b[0m                                                                             \u001b[36m│\u001b[0m\n",
      "\u001b[36m│\u001b[0m \u001b[32mWho won the India vs England Second Test Match 2025?\u001b[0m                        \u001b[36m│\u001b[0m\n",
      "\u001b[36m│\u001b[0m                                                                             \u001b[36m│\u001b[0m\n",
      "\u001b[2K\u001b[1A\u001b[2K\u001b[1A\u001b[2K\u001b[1A\u001b[2K\u001b[1A\u001b[2K\u001b[1A\u001b[2K\u001b[32m▰▰▰▰▱▱▱\u001b[0m Thinking...───────────┘\u001b[0m\n",
      "\u001b[36m┌─\u001b[0m\u001b[36m Message \u001b[0m\u001b[36m──────────────────────────────────────────────────────────────────\u001b[0m\u001b[36m─┐\u001b[0m\n",
      "\u001b[36m│\u001b[0m                                                                             \u001b[36m│\u001b[0m\n",
      "\u001b[36m│\u001b[0m \u001b[32mWho won the India vs England Second Test Match 2025?\u001b[0m                        \u001b[36m│\u001b[0m\n",
      "\u001b[36m│\u001b[0m                                                                             \u001b[36m│\u001b[0m\n",
      "\u001b[2K\u001b[1A\u001b[2K\u001b[1A\u001b[2K\u001b[1A\u001b[2K\u001b[1A\u001b[2K\u001b[1A\u001b[2K\u001b[32m▰▰▰▰▰▰▱\u001b[0m Thinking...───────────┘\u001b[0m\n",
      "\u001b[36m┌─\u001b[0m\u001b[36m Message \u001b[0m\u001b[36m──────────────────────────────────────────────────────────────────\u001b[0m\u001b[36m─┐\u001b[0m\n",
      "\u001b[36m│\u001b[0m                                                                             \u001b[36m│\u001b[0m\n",
      "\u001b[36m│\u001b[0m \u001b[32mWho won the India vs England Second Test Match 2025?\u001b[0m                        \u001b[36m│\u001b[0m\n",
      "\u001b[36m│\u001b[0m                                                                             \u001b[36m│\u001b[0m\n",
      "\u001b[2K\u001b[1A\u001b[2K\u001b[1A\u001b[2K\u001b[1A\u001b[2K\u001b[1A\u001b[2K\u001b[1A\u001b[2K\u001b[32m▰▰▰▰▰▰▰\u001b[0m Thinking...───────────┘\u001b[0m\n",
      "\u001b[36m┌─\u001b[0m\u001b[36m Message \u001b[0m\u001b[36m──────────────────────────────────────────────────────────────────\u001b[0m\u001b[36m─┐\u001b[0m\n",
      "\u001b[36m│\u001b[0m                                                                             \u001b[36m│\u001b[0m\n",
      "\u001b[36m│\u001b[0m \u001b[32mWho won the India vs England Second Test Match 2025?\u001b[0m                        \u001b[36m│\u001b[0m\n",
      "\u001b[36m│\u001b[0m                                                                             \u001b[36m│\u001b[0m\n",
      "\u001b[2K\u001b[1A\u001b[2K\u001b[1A\u001b[2K\u001b[1A\u001b[2K\u001b[1A\u001b[2K\u001b[1A\u001b[2K\u001b[32m▰▱▱▱▱▱▱\u001b[0m Thinking...───────────┘\u001b[0m\n",
      "\u001b[36m┌─\u001b[0m\u001b[36m Message \u001b[0m\u001b[36m──────────────────────────────────────────────────────────────────\u001b[0m\u001b[36m─┐\u001b[0m\n",
      "\u001b[36m│\u001b[0m                                                                             \u001b[36m│\u001b[0m\n",
      "\u001b[36m│\u001b[0m \u001b[32mWho won the India vs England Second Test Match 2025?\u001b[0m                        \u001b[36m│\u001b[0m\n",
      "\u001b[36m│\u001b[0m                                                                             \u001b[36m│\u001b[0m\n",
      "\u001b[2K\u001b[1A\u001b[2K\u001b[1A\u001b[2K\u001b[1A\u001b[2K\u001b[1A\u001b[2K\u001b[1A\u001b[2K\u001b[32m▰▰▱▱▱▱▱\u001b[0m Thinking...───────────┘\u001b[0m\n",
      "\u001b[36m┌─\u001b[0m\u001b[36m Message \u001b[0m\u001b[36m──────────────────────────────────────────────────────────────────\u001b[0m\u001b[36m─┐\u001b[0m\n",
      "\u001b[36m│\u001b[0m                                                                             \u001b[36m│\u001b[0m\n",
      "\u001b[36m│\u001b[0m \u001b[32mWho won the India vs England Second Test Match 2025?\u001b[0m                        \u001b[36m│\u001b[0m\n",
      "\u001b[36m│\u001b[0m                                                                             \u001b[36m│\u001b[0m\n",
      "\u001b[2K\u001b[1A\u001b[2K\u001b[1A\u001b[2K\u001b[1A\u001b[2K\u001b[1A\u001b[2K\u001b[1A\u001b[2K\u001b[32m▰▰▰▱▱▱▱\u001b[0m Thinking...───────────┘\u001b[0m\n",
      "\u001b[36m┌─\u001b[0m\u001b[36m Message \u001b[0m\u001b[36m──────────────────────────────────────────────────────────────────\u001b[0m\u001b[36m─┐\u001b[0m\n",
      "\u001b[36m│\u001b[0m                                                                             \u001b[36m│\u001b[0m\n",
      "\u001b[36m│\u001b[0m \u001b[32mWho won the India vs England Second Test Match 2025?\u001b[0m                        \u001b[36m│\u001b[0m\n",
      "\u001b[36m│\u001b[0m                                                                             \u001b[36m│\u001b[0m\n",
      "\u001b[2K\u001b[1A\u001b[2K\u001b[1A\u001b[2K\u001b[1A\u001b[2K\u001b[1A\u001b[2K\u001b[1A\u001b[2K\u001b[32m▰▰▰▰▱▱▱\u001b[0m Thinking...───────────┘\u001b[0m\n",
      "\u001b[36m┌─\u001b[0m\u001b[36m Message \u001b[0m\u001b[36m──────────────────────────────────────────────────────────────────\u001b[0m\u001b[36m─┐\u001b[0m\n",
      "\u001b[36m│\u001b[0m                                                                             \u001b[36m│\u001b[0m\n",
      "\u001b[36m│\u001b[0m \u001b[32mWho won the India vs England Second Test Match 2025?\u001b[0m                        \u001b[36m│\u001b[0m\n",
      "\u001b[36m│\u001b[0m                                                                             \u001b[36m│\u001b[0m\n",
      "\u001b[2K\u001b[1A\u001b[2K\u001b[1A\u001b[2K\u001b[1A\u001b[2K\u001b[1A\u001b[2K\u001b[1A\u001b[2K\u001b[32m▰▰▰▰▰▱▱\u001b[0m Thinking...───────────┘\u001b[0m\n",
      "\u001b[36m┌─\u001b[0m\u001b[36m Message \u001b[0m\u001b[36m──────────────────────────────────────────────────────────────────\u001b[0m\u001b[36m─┐\u001b[0m\n",
      "\u001b[36m│\u001b[0m                                                                             \u001b[36m│\u001b[0m\n",
      "\u001b[36m│\u001b[0m \u001b[32mWho won the India vs England Second Test Match 2025?\u001b[0m                        \u001b[36m│\u001b[0m\n",
      "\u001b[36m│\u001b[0m                                                                             \u001b[36m│\u001b[0m\n",
      "\u001b[2K\u001b[1A\u001b[2K\u001b[1A\u001b[2K\u001b[1A\u001b[2K\u001b[1A\u001b[2K\u001b[1A\u001b[2K\u001b[32m▰▰▰▰▰▰▰\u001b[0m Thinking...───────────┘\u001b[0m\n",
      "\u001b[36m┌─\u001b[0m\u001b[36m Message \u001b[0m\u001b[36m──────────────────────────────────────────────────────────────────\u001b[0m\u001b[36m─┐\u001b[0m\n",
      "\u001b[36m│\u001b[0m                                                                             \u001b[36m│\u001b[0m\n",
      "\u001b[36m│\u001b[0m \u001b[32mWho won the India vs England Second Test Match 2025?\u001b[0m                        \u001b[36m│\u001b[0m\n",
      "\u001b[36m│\u001b[0m                                                                             \u001b[36m│\u001b[0m\n",
      "\u001b[2K\u001b[1A\u001b[2K\u001b[1A\u001b[2K\u001b[1A\u001b[2K\u001b[1A\u001b[2K\u001b[1A\u001b[2K\u001b[32m▰▱▱▱▱▱▱\u001b[0m Thinking...───────────┘\u001b[0m\n",
      "\u001b[36m┌─\u001b[0m\u001b[36m Message \u001b[0m\u001b[36m──────────────────────────────────────────────────────────────────\u001b[0m\u001b[36m─┐\u001b[0m\n",
      "\u001b[36m│\u001b[0m                                                                             \u001b[36m│\u001b[0m\n",
      "\u001b[36m│\u001b[0m \u001b[32mWho won the India vs England Second Test Match 2025?\u001b[0m                        \u001b[36m│\u001b[0m\n",
      "\u001b[36m│\u001b[0m                                                                             \u001b[36m│\u001b[0m\n",
      "\u001b[2K\u001b[1A\u001b[2K\u001b[1A\u001b[2K\u001b[1A\u001b[2K\u001b[1A\u001b[2K\u001b[1A\u001b[2K\u001b[36m┌─\u001b[0m\u001b[36m Message \u001b[0m\u001b[36m──────────────────────────────────────────────────────────────────\u001b[0m\u001b[36m─┐\u001b[0m\n",
      "\u001b[36m│\u001b[0m                                                                             \u001b[36m│\u001b[0m\n",
      "\u001b[36m│\u001b[0m \u001b[32mWho won the India vs England Second Test Match 2025?\u001b[0m                        \u001b[36m│\u001b[0m\n",
      "\u001b[36m│\u001b[0m                                                                             \u001b[36m│\u001b[0m\n",
      "\u001b[36m└─────────────────────────────────────────────────────────────────────────────┘\u001b[0m\n",
      "\u001b[33m┌─\u001b[0m\u001b[33m Tool Calls \u001b[0m\u001b[33m───────────────────────────────────────────────────────────────\u001b[0m\u001b[33m─┐\u001b[0m\n",
      "\u001b[33m│\u001b[0m                                                                             \u001b[33m│\u001b[0m\n",
      "\u001b[33m│\u001b[0m • duckduckgo_search(query=India vs England Second Test Match 2025 result)   \u001b[33m│\u001b[0m\n",
      "\u001b[33m│\u001b[0m                                                                             \u001b[33m│\u001b[0m\n",
      "\u001b[33m└─────────────────────────────────────────────────────────────────────────────┘\u001b[0m\n",
      "\u001b[34m┌─\u001b[0m\u001b[34m Response (3.6s) \u001b[0m\u001b[34m──────────────────────────────────────────────────────────\u001b[0m\u001b[34m─┐\u001b[0m\n",
      "\u001b[34m│\u001b[0m                                                                             \u001b[34m│\u001b[0m\n",
      "\u001b[34m│\u001b[0m India won the 2nd Test Match by 336 Runs .                                  \u001b[34m│\u001b[0m\n",
      "\u001b[34m│\u001b[0m                                                                             \u001b[34m│\u001b[0m\n",
      "\u001b[34m└─────────────────────────────────────────────────────────────────────────────┘\u001b[0m\n",
      "\u001b[?25h"
     ]
    }
   ],
   "source": [
    "from agno.agent import Agent\n",
    "from agno.models.groq import Groq\n",
    "from agno.tools.duckduckgo import DuckDuckGoTools\n",
    "\n",
    "import os\n",
    "from dotenv import load_dotenv\n",
    "load_dotenv()\n",
    "\n",
    "os.environ[\"GROQ_API_KEY\"] = os.getenv(\"GROQ_API_KEY\")\n",
    "\n",
    "agent = Agent(\n",
    "    model=Groq(id=\"gemma2-9b-it\"),\n",
    "    description=\"A helpful assistant that can answer questions and search the web.\",\n",
    "    tools=[DuckDuckGoTools()],\n",
    "    markdown=True\n",
    ")\n",
    "\n",
    "agent.print_response(\"Who won the India vs England Second Test Match 2025?\")"
   ]
  },
  {
   "cell_type": "markdown",
   "id": "22e2dda4",
   "metadata": {},
   "source": [
    "##### Example 3: MultiAgent Tool"
   ]
  },
  {
   "cell_type": "code",
   "execution_count": 53,
   "id": "a0926ca2",
   "metadata": {},
   "outputs": [],
   "source": [
    "## Refer multi_agents_agno.py"
   ]
  },
  {
   "cell_type": "markdown",
   "id": "81cdae67",
   "metadata": {},
   "source": [
    "##### Example 4: Knowledge Base PDF URL"
   ]
  },
  {
   "cell_type": "code",
   "execution_count": 2,
   "id": "e7090821",
   "metadata": {},
   "outputs": [
    {
     "name": "stdout",
     "output_type": "stream",
     "text": [
      "Requirement already satisfied: agno in c:\\users\\kushal\\anaconda3\\envs\\fapienv\\lib\\site-packages (1.7.1)\n",
      "Requirement already satisfied: openai in c:\\users\\kushal\\anaconda3\\envs\\fapienv\\lib\\site-packages (1.93.2)\n",
      "Requirement already satisfied: python-dotenv in c:\\users\\kushal\\anaconda3\\envs\\fapienv\\lib\\site-packages (1.1.1)\n",
      "Requirement already satisfied: docstring-parser in c:\\users\\kushal\\anaconda3\\envs\\fapienv\\lib\\site-packages (from agno) (0.16)\n",
      "Requirement already satisfied: gitpython in c:\\users\\kushal\\anaconda3\\envs\\fapienv\\lib\\site-packages (from agno) (3.1.44)\n",
      "Requirement already satisfied: httpx in c:\\users\\kushal\\anaconda3\\envs\\fapienv\\lib\\site-packages (from agno) (0.28.1)\n",
      "Requirement already satisfied: pydantic-settings in c:\\users\\kushal\\anaconda3\\envs\\fapienv\\lib\\site-packages (from agno) (2.10.1)\n",
      "Requirement already satisfied: pydantic in c:\\users\\kushal\\anaconda3\\envs\\fapienv\\lib\\site-packages (from agno) (2.11.7)\n",
      "Requirement already satisfied: python-multipart in c:\\users\\kushal\\anaconda3\\envs\\fapienv\\lib\\site-packages (from agno) (0.0.20)\n",
      "Requirement already satisfied: pyyaml in c:\\users\\kushal\\anaconda3\\envs\\fapienv\\lib\\site-packages (from agno) (6.0.2)\n",
      "Requirement already satisfied: rich in c:\\users\\kushal\\anaconda3\\envs\\fapienv\\lib\\site-packages (from agno) (14.0.0)\n",
      "Requirement already satisfied: tomli in c:\\users\\kushal\\anaconda3\\envs\\fapienv\\lib\\site-packages (from agno) (2.2.1)\n",
      "Requirement already satisfied: typer in c:\\users\\kushal\\anaconda3\\envs\\fapienv\\lib\\site-packages (from agno) (0.16.0)\n",
      "Requirement already satisfied: typing-extensions in c:\\users\\kushal\\anaconda3\\envs\\fapienv\\lib\\site-packages (from agno) (4.12.2)\n",
      "Requirement already satisfied: anyio<5,>=3.5.0 in c:\\users\\kushal\\anaconda3\\envs\\fapienv\\lib\\site-packages (from openai) (4.7.0)\n",
      "Requirement already satisfied: distro<2,>=1.7.0 in c:\\users\\kushal\\anaconda3\\envs\\fapienv\\lib\\site-packages (from openai) (1.9.0)\n",
      "Requirement already satisfied: jiter<1,>=0.4.0 in c:\\users\\kushal\\anaconda3\\envs\\fapienv\\lib\\site-packages (from openai) (0.10.0)\n",
      "Requirement already satisfied: sniffio in c:\\users\\kushal\\anaconda3\\envs\\fapienv\\lib\\site-packages (from openai) (1.3.0)\n",
      "Requirement already satisfied: tqdm>4 in c:\\users\\kushal\\anaconda3\\envs\\fapienv\\lib\\site-packages (from openai) (4.67.1)\n",
      "Requirement already satisfied: idna>=2.8 in c:\\users\\kushal\\anaconda3\\envs\\fapienv\\lib\\site-packages (from anyio<5,>=3.5.0->openai) (3.10)\n",
      "Requirement already satisfied: certifi in c:\\users\\kushal\\anaconda3\\envs\\fapienv\\lib\\site-packages (from httpx->agno) (2025.6.15)\n",
      "Requirement already satisfied: httpcore==1.* in c:\\users\\kushal\\anaconda3\\envs\\fapienv\\lib\\site-packages (from httpx->agno) (1.0.9)\n",
      "Requirement already satisfied: h11>=0.16 in c:\\users\\kushal\\anaconda3\\envs\\fapienv\\lib\\site-packages (from httpcore==1.*->httpx->agno) (0.16.0)\n",
      "Requirement already satisfied: annotated-types>=0.6.0 in c:\\users\\kushal\\anaconda3\\envs\\fapienv\\lib\\site-packages (from pydantic->agno) (0.7.0)\n",
      "Requirement already satisfied: pydantic-core==2.33.2 in c:\\users\\kushal\\anaconda3\\envs\\fapienv\\lib\\site-packages (from pydantic->agno) (2.33.2)\n",
      "Requirement already satisfied: typing-inspection>=0.4.0 in c:\\users\\kushal\\anaconda3\\envs\\fapienv\\lib\\site-packages (from pydantic->agno) (0.4.1)\n",
      "Requirement already satisfied: colorama in c:\\users\\kushal\\anaconda3\\envs\\fapienv\\lib\\site-packages (from tqdm>4->openai) (0.4.6)\n",
      "Requirement already satisfied: gitdb<5,>=4.0.1 in c:\\users\\kushal\\anaconda3\\envs\\fapienv\\lib\\site-packages (from gitpython->agno) (4.0.12)\n",
      "Requirement already satisfied: smmap<6,>=3.0.1 in c:\\users\\kushal\\anaconda3\\envs\\fapienv\\lib\\site-packages (from gitdb<5,>=4.0.1->gitpython->agno) (5.0.2)\n",
      "Requirement already satisfied: markdown-it-py>=2.2.0 in c:\\users\\kushal\\anaconda3\\envs\\fapienv\\lib\\site-packages (from rich->agno) (3.0.0)\n",
      "Requirement already satisfied: pygments<3.0.0,>=2.13.0 in c:\\users\\kushal\\anaconda3\\envs\\fapienv\\lib\\site-packages (from rich->agno) (2.19.1)\n",
      "Requirement already satisfied: mdurl~=0.1 in c:\\users\\kushal\\anaconda3\\envs\\fapienv\\lib\\site-packages (from markdown-it-py>=2.2.0->rich->agno) (0.1.2)\n",
      "Requirement already satisfied: click>=8.0.0 in c:\\users\\kushal\\anaconda3\\envs\\fapienv\\lib\\site-packages (from typer->agno) (8.2.1)\n",
      "Requirement already satisfied: shellingham>=1.3.0 in c:\\users\\kushal\\anaconda3\\envs\\fapienv\\lib\\site-packages (from typer->agno) (1.5.4)\n",
      "Note: you may need to restart the kernel to use updated packages.\n"
     ]
    }
   ],
   "source": [
    "pip install agno openai python-dotenv"
   ]
  },
  {
   "cell_type": "code",
   "execution_count": null,
   "id": "595feac0",
   "metadata": {},
   "outputs": [
    {
     "name": "stdout",
     "output_type": "stream",
     "text": [
      "👋 Hi! I’d love to get to know you a bit before we begin.\n",
      "✅ Got it! I'll remember this next time.\n",
      "\n"
     ]
    },
    {
     "ename": "AttributeError",
     "evalue": "'Agent' object has no attribute 'chat'",
     "output_type": "error",
     "traceback": [
      "\u001b[31m---------------------------------------------------------------------------\u001b[39m",
      "\u001b[31mAttributeError\u001b[39m                            Traceback (most recent call last)",
      "\u001b[36mCell\u001b[39m\u001b[36m \u001b[39m\u001b[32mIn[2]\u001b[39m\u001b[32m, line 63\u001b[39m\n\u001b[32m     60\u001b[39m     \u001b[38;5;28mprint\u001b[39m(\u001b[33m\"\u001b[39m\u001b[33m👋 Bye! I’ll remember everything for next time.\u001b[39m\u001b[33m\"\u001b[39m)\n\u001b[32m     61\u001b[39m     \u001b[38;5;28;01mbreak\u001b[39;00m\n\u001b[32m---> \u001b[39m\u001b[32m63\u001b[39m response = agent.chat(personalized_prompt(user_input))\n\u001b[32m     64\u001b[39m \u001b[38;5;28mprint\u001b[39m(\u001b[33mf\u001b[39m\u001b[33m\"\u001b[39m\u001b[38;5;130;01m\\n\u001b[39;00m\u001b[38;5;132;01m{\u001b[39;00mresponse\u001b[38;5;132;01m}\u001b[39;00m\u001b[38;5;130;01m\\n\u001b[39;00m\u001b[33m\"\u001b[39m)\n",
      "\u001b[31mAttributeError\u001b[39m: 'Agent' object has no attribute 'chat'"
     ]
    }
   ],
   "source": [
    "from agno.agent import Agent\n",
    "from agno.models.groq import Groq\n",
    "import json\n",
    "import os\n",
    "from dotenv import load_dotenv\n",
    "\n",
    "load_dotenv()\n",
    "groq_api_key = os.getenv(\"GROQ_API_KEY\")\n",
    "\n",
    "# === Persistent User Profile ===\n",
    "USER_PROFILE_PATH = \"user_profile.json\"\n",
    "\n",
    "def load_user_profile():\n",
    "    if os.path.exists(USER_PROFILE_PATH):\n",
    "        with open(USER_PROFILE_PATH, \"r\") as f:\n",
    "            return json.load(f)\n",
    "    else:\n",
    "        return {\"name\": None, \"language\": None, \"editor\": None}\n",
    "\n",
    "def save_user_profile(profile):\n",
    "    with open(USER_PROFILE_PATH, \"w\") as f:\n",
    "        json.dump(profile, f)\n",
    "\n",
    "user_profile = load_user_profile()\n",
    "\n",
    "# === Initialize Agent ===\n",
    "agent = Agent(\n",
    "    model=Groq(id=\"llama3-8b-8192\"),\n",
    "    name=\"Personal Assistant\",\n",
    "    role=\"A helpful assistant that remembers user preferences and responds personally.\",\n",
    "    markdown=True\n",
    ")\n",
    "\n",
    "# === First-Time Setup ===\n",
    "if not all(user_profile.values()):\n",
    "    print(\"👋 Hi! I’d love to get to know you a bit before we begin.\")\n",
    "\n",
    "    user_profile[\"name\"] = input(\"What’s your name? \")\n",
    "    user_profile[\"language\"] = input(\"Preferred language (e.g., English, Hindi, Spanish): \")\n",
    "    user_profile[\"tone\"] = input(\"What tone would you like me to use? (e.g., friendly, professional): \")\n",
    "\n",
    "    save_user_profile(user_profile)\n",
    "    print(\"✅ Got it! I'll remember this next time.\\n\")\n",
    "\n",
    "# === Custom Prompt with Personalization ===\n",
    "def personalized_prompt(user_input):\n",
    "    return f\"\"\"\n",
    "You are chatting with {user_profile['name']}, who prefers to talk in {user_profile['language']} and wants to talk in a {user_profile['tone']} tone.\n",
    "\n",
    "Respond in a helpful way and remember their preferences in how you speak and what you recommend.\n",
    "\n",
    "User: {user_input}\n",
    "\"\"\"\n",
    "\n",
    "# === Chat Loop ===\n",
    "while True:\n",
    "    user_input = input(f\"{user_profile['name']} > \")\n",
    "\n",
    "    if user_input.lower() in [\"exit\", \"quit\"]:\n",
    "        print(\"👋 Bye! I’ll remember everything for next time.\")\n",
    "        break\n",
    "\n",
    "    response = agent.chat(personalized_prompt(user_input))\n",
    "    print(f\"\\n{response}\\n\")"
   ]
  },
  {
   "cell_type": "code",
   "execution_count": 2,
   "id": "c77cd281",
   "metadata": {},
   "outputs": [
    {
     "name": "stdout",
     "output_type": "stream",
     "text": [
      "Collecting pypdf\n",
      "  Using cached pypdf-5.7.0-py3-none-any.whl.metadata (7.2 kB)\n",
      "Using cached pypdf-5.7.0-py3-none-any.whl (305 kB)\n",
      "Installing collected packages: pypdf\n",
      "Successfully installed pypdf-5.7.0\n",
      "Note: you may need to restart the kernel to use updated packages.\n"
     ]
    }
   ],
   "source": [
    "pip install pypdf"
   ]
  },
  {
   "cell_type": "code",
   "execution_count": 4,
   "id": "5ef5c7a5",
   "metadata": {},
   "outputs": [
    {
     "name": "stdout",
     "output_type": "stream",
     "text": [
      "Collecting pgvector\n",
      "  Downloading pgvector-0.4.1-py3-none-any.whl.metadata (18 kB)\n",
      "Requirement already satisfied: numpy in c:\\users\\kushal\\anaconda3\\envs\\fapienv\\lib\\site-packages (from pgvector) (2.3.1)\n",
      "Downloading pgvector-0.4.1-py3-none-any.whl (27 kB)\n",
      "Installing collected packages: pgvector\n",
      "Successfully installed pgvector-0.4.1\n",
      "Note: you may need to restart the kernel to use updated packages.\n"
     ]
    }
   ],
   "source": [
    "pip install pgvector"
   ]
  },
  {
   "cell_type": "code",
   "execution_count": 40,
   "id": "c21a3635",
   "metadata": {},
   "outputs": [
    {
     "data": {
      "text/html": [
       "<pre style=\"white-space:pre;overflow-x:auto;line-height:normal;font-family:Menlo,'DejaVu Sans Mono',consolas,'Courier New',monospace\"></pre>\n"
      ],
      "text/plain": []
     },
     "metadata": {},
     "output_type": "display_data"
    },
    {
     "data": {
      "text/html": [
       "<pre style=\"white-space:pre;overflow-x:auto;line-height:normal;font-family:Menlo,'DejaVu Sans Mono',consolas,'Courier New',monospace\"></pre>\n"
      ],
      "text/plain": []
     },
     "metadata": {},
     "output_type": "display_data"
    },
    {
     "data": {
      "text/html": [
       "<pre style=\"white-space:pre;overflow-x:auto;line-height:normal;font-family:Menlo,'DejaVu Sans Mono',consolas,'Courier New',monospace\"></pre>\n"
      ],
      "text/plain": []
     },
     "metadata": {},
     "output_type": "display_data"
    }
   ],
   "source": [
    "from agno.agent import Agent\n",
    "from agno.models.groq import Groq\n",
    "import os\n",
    "from dotenv import load_dotenv\n",
    "load_dotenv()\n",
    "\n",
    "# === Initialize Agent ===\n",
    "agent = Agent(\n",
    "    model=Groq(id=\"llama3-8b-8192\"),\n",
    "    add_history_to_messages=True,\n",
    "    num_history_responses=3,\n",
    "    markdown=True\n",
    ")\n",
    "\n",
    "agent.print_response(\"My name is Kushal\")\n",
    "agent.print_response(\"I live in Ahmedabad.\")\n",
    "agent.print_response(\"What is my name?\", stream=True)"
   ]
  },
  {
   "cell_type": "code",
   "execution_count": 42,
   "id": "e89b6102",
   "metadata": {},
   "outputs": [
    {
     "name": "stdout",
     "output_type": "stream",
     "text": [
      "Requirement already satisfied: agno in c:\\users\\kushal\\anaconda3\\envs\\fapienv\\lib\\site-packages (1.7.1)\n",
      "Requirement already satisfied: openai in c:\\users\\kushal\\anaconda3\\envs\\fapienv\\lib\\site-packages (1.93.3)\n",
      "Requirement already satisfied: docstring-parser in c:\\users\\kushal\\anaconda3\\envs\\fapienv\\lib\\site-packages (from agno) (0.16)\n",
      "Requirement already satisfied: gitpython in c:\\users\\kushal\\anaconda3\\envs\\fapienv\\lib\\site-packages (from agno) (3.1.44)\n",
      "Requirement already satisfied: httpx in c:\\users\\kushal\\anaconda3\\envs\\fapienv\\lib\\site-packages (from agno) (0.28.1)\n",
      "Requirement already satisfied: pydantic-settings in c:\\users\\kushal\\anaconda3\\envs\\fapienv\\lib\\site-packages (from agno) (2.10.1)\n",
      "Requirement already satisfied: pydantic in c:\\users\\kushal\\anaconda3\\envs\\fapienv\\lib\\site-packages (from agno) (2.11.7)\n",
      "Requirement already satisfied: python-dotenv in c:\\users\\kushal\\anaconda3\\envs\\fapienv\\lib\\site-packages (from agno) (1.1.1)\n",
      "Requirement already satisfied: python-multipart in c:\\users\\kushal\\anaconda3\\envs\\fapienv\\lib\\site-packages (from agno) (0.0.20)\n",
      "Requirement already satisfied: pyyaml in c:\\users\\kushal\\anaconda3\\envs\\fapienv\\lib\\site-packages (from agno) (6.0.2)\n",
      "Requirement already satisfied: rich in c:\\users\\kushal\\anaconda3\\envs\\fapienv\\lib\\site-packages (from agno) (14.0.0)\n",
      "Requirement already satisfied: tomli in c:\\users\\kushal\\anaconda3\\envs\\fapienv\\lib\\site-packages (from agno) (2.2.1)\n",
      "Requirement already satisfied: typer in c:\\users\\kushal\\anaconda3\\envs\\fapienv\\lib\\site-packages (from agno) (0.16.0)\n",
      "Requirement already satisfied: typing-extensions in c:\\users\\kushal\\anaconda3\\envs\\fapienv\\lib\\site-packages (from agno) (4.12.2)\n",
      "Requirement already satisfied: anyio<5,>=3.5.0 in c:\\users\\kushal\\anaconda3\\envs\\fapienv\\lib\\site-packages (from openai) (4.7.0)\n",
      "Requirement already satisfied: distro<2,>=1.7.0 in c:\\users\\kushal\\anaconda3\\envs\\fapienv\\lib\\site-packages (from openai) (1.9.0)\n",
      "Requirement already satisfied: jiter<1,>=0.4.0 in c:\\users\\kushal\\anaconda3\\envs\\fapienv\\lib\\site-packages (from openai) (0.10.0)\n",
      "Requirement already satisfied: sniffio in c:\\users\\kushal\\anaconda3\\envs\\fapienv\\lib\\site-packages (from openai) (1.3.0)\n",
      "Requirement already satisfied: tqdm>4 in c:\\users\\kushal\\anaconda3\\envs\\fapienv\\lib\\site-packages (from openai) (4.67.1)\n",
      "Requirement already satisfied: idna>=2.8 in c:\\users\\kushal\\anaconda3\\envs\\fapienv\\lib\\site-packages (from anyio<5,>=3.5.0->openai) (3.10)\n",
      "Requirement already satisfied: certifi in c:\\users\\kushal\\anaconda3\\envs\\fapienv\\lib\\site-packages (from httpx->agno) (2025.6.15)\n",
      "Requirement already satisfied: httpcore==1.* in c:\\users\\kushal\\anaconda3\\envs\\fapienv\\lib\\site-packages (from httpx->agno) (1.0.9)\n",
      "Requirement already satisfied: h11>=0.16 in c:\\users\\kushal\\anaconda3\\envs\\fapienv\\lib\\site-packages (from httpcore==1.*->httpx->agno) (0.16.0)\n",
      "Requirement already satisfied: annotated-types>=0.6.0 in c:\\users\\kushal\\anaconda3\\envs\\fapienv\\lib\\site-packages (from pydantic->agno) (0.7.0)\n",
      "Requirement already satisfied: pydantic-core==2.33.2 in c:\\users\\kushal\\anaconda3\\envs\\fapienv\\lib\\site-packages (from pydantic->agno) (2.33.2)\n",
      "Requirement already satisfied: typing-inspection>=0.4.0 in c:\\users\\kushal\\anaconda3\\envs\\fapienv\\lib\\site-packages (from pydantic->agno) (0.4.1)\n",
      "Requirement already satisfied: colorama in c:\\users\\kushal\\anaconda3\\envs\\fapienv\\lib\\site-packages (from tqdm>4->openai) (0.4.6)\n",
      "Requirement already satisfied: gitdb<5,>=4.0.1 in c:\\users\\kushal\\anaconda3\\envs\\fapienv\\lib\\site-packages (from gitpython->agno) (4.0.12)\n",
      "Requirement already satisfied: smmap<6,>=3.0.1 in c:\\users\\kushal\\anaconda3\\envs\\fapienv\\lib\\site-packages (from gitdb<5,>=4.0.1->gitpython->agno) (5.0.2)\n",
      "Requirement already satisfied: markdown-it-py>=2.2.0 in c:\\users\\kushal\\anaconda3\\envs\\fapienv\\lib\\site-packages (from rich->agno) (3.0.0)\n",
      "Requirement already satisfied: pygments<3.0.0,>=2.13.0 in c:\\users\\kushal\\anaconda3\\envs\\fapienv\\lib\\site-packages (from rich->agno) (2.19.1)\n",
      "Requirement already satisfied: mdurl~=0.1 in c:\\users\\kushal\\anaconda3\\envs\\fapienv\\lib\\site-packages (from markdown-it-py>=2.2.0->rich->agno) (0.1.2)\n",
      "Requirement already satisfied: click>=8.0.0 in c:\\users\\kushal\\anaconda3\\envs\\fapienv\\lib\\site-packages (from typer->agno) (8.2.1)\n",
      "Requirement already satisfied: shellingham>=1.3.0 in c:\\users\\kushal\\anaconda3\\envs\\fapienv\\lib\\site-packages (from typer->agno) (1.5.4)\n",
      "Note: you may need to restart the kernel to use updated packages.\n"
     ]
    }
   ],
   "source": [
    "pip install agno openai"
   ]
  },
  {
   "cell_type": "code",
   "execution_count": null,
   "id": "f4de3c86",
   "metadata": {},
   "outputs": [
    {
     "name": "stdout",
     "output_type": "stream",
     "text": [
      "RunResponse(content='\\n\\n**Final Answer:**\\n\\nArtificial intelligence (AI) is rapidly transforming the healthcare landscape, offering exciting possibilities for improving patient care, streamlining processes, and driving innovation. From diagnosing diseases with greater accuracy to personalizing treatment plans, AI is already making a tangible impact. Imagine AI-powered systems analyzing medical images to detect early signs of cancer or using data to predict patient risk factors. While these advancements promise a brighter future, they also raise important ethical considerations and challenges regarding data privacy and job displacement.  \\n\\n\\n\\n\\n', content_type='str', thinking=None, reasoning_content=\"## Understanding the User's Request\\nThe user's explicit instructions provide the framework for the task. The word limit ensures brevity, while the request for a 'blog introduction' implies an informal and accessible tone.\\nAction: I will analyze the user's request for a blog introduction on Artificial Intelligence in Healthcare.\\nResult: The user seeks a concise (under 200 words) and engaging introduction to the topic of AI in healthcare.\\n\\n## Defining the Scope\\nA comprehensive introduction needs to provide a foundational understanding of AI in healthcare. Covering its applications, examples, benefits, and challenges allows for a well-rounded overview within the word limit.\\nAction: I will outline the key aspects to cover in the introduction.\\nResult: The introduction will touch on:\\n1.  Briefly explain what AI is and its potential applications in healthcare\\n2. Highlight some specific examples of AI in action within healthcare\\n3. Briefly mention the potential benefits and challenges of AI in healthcare\\n\\n## Crafting the Introduction\\nThe introduction combines a concise explanation of AI and its potentials, provides specific examples, and acknowledges the ethical considerations. It aims to be engaging and informative while adhering to the word limit.\\nAction: I will write the introduction incorporating the defined scope.\\nResult: Artificial intelligence (AI) is rapidly transforming the healthcare landscape, offering exciting possibilities for improving patient care, streamlining processes, and driving innovation. From diagnosing diseases with greater accuracy to personalizing treatment plans, AI is already making a tangible impact.  Imagine AI-powered systems analyzing medical images to detect early signs of cancer or using data to predict patient risk factors. While these advancements promise a brighter future, they also raise important ethical considerations and challenges regarding data privacy and job displacement. \\n\\n\", messages=[Message(role='system', content='<instructions>\\nYou are a clear, friendly blog writer. Given a topic, write a short introduction (≤200 words). Then internally review it for clarity, tone, and conciseness, and produce a final polished version. Output only the final introduction (simple, readable language).\\n</instructions>', name=None, tool_call_id=None, tool_calls=None, audio=None, images=None, videos=None, files=None, audio_output=None, image_output=None, thinking=None, redacted_thinking=None, provider_data=None, citations=None, reasoning_content=None, tool_name=None, tool_args=None, tool_call_error=None, stop_after_tool_call=False, add_to_agent_memory=True, from_history=False, metrics=MessageMetrics(input_tokens=0, output_tokens=0, total_tokens=0, audio_tokens=0, input_audio_tokens=0, output_audio_tokens=0, cached_tokens=0, cache_write_tokens=0, reasoning_tokens=0, prompt_tokens=0, completion_tokens=0, prompt_tokens_details=None, completion_tokens_details=None, additional_metrics=None, time=None, time_to_first_token=None, timer=None), references=None, created_at=1752153378), Message(role='user', content='Topic: Artificial Intelligence in Healthcare', name=None, tool_call_id=None, tool_calls=None, audio=None, images=None, videos=None, files=None, audio_output=None, image_output=None, thinking=None, redacted_thinking=None, provider_data=None, citations=None, reasoning_content=None, tool_name=None, tool_args=None, tool_call_error=None, stop_after_tool_call=False, add_to_agent_memory=True, from_history=False, metrics=MessageMetrics(input_tokens=0, output_tokens=0, total_tokens=0, audio_tokens=0, input_audio_tokens=0, output_audio_tokens=0, cached_tokens=0, cache_write_tokens=0, reasoning_tokens=0, prompt_tokens=0, completion_tokens=0, prompt_tokens_details=None, completion_tokens_details=None, additional_metrics=None, time=None, time_to_first_token=None, timer=None), references=None, created_at=1752153378, show_full_reasoning=True), Message(role='assistant', content='\\n\\n**Final Answer:**\\n\\nArtificial intelligence (AI) is rapidly transforming the healthcare landscape, offering exciting possibilities for improving patient care, streamlining processes, and driving innovation. From diagnosing diseases with greater accuracy to personalizing treatment plans, AI is already making a tangible impact. Imagine AI-powered systems analyzing medical images to detect early signs of cancer or using data to predict patient risk factors. While these advancements promise a brighter future, they also raise important ethical considerations and challenges regarding data privacy and job displacement.  \\n\\n\\n\\n\\n', name=None, tool_call_id=None, tool_calls=None, audio=None, images=None, videos=None, files=None, audio_output=None, image_output=None, thinking=None, redacted_thinking=None, provider_data=None, citations=None, reasoning_content=None, tool_name=None, tool_args=None, tool_call_error=None, stop_after_tool_call=False, add_to_agent_memory=True, from_history=False, metrics=MessageMetrics(input_tokens=657, output_tokens=103, total_tokens=760, audio_tokens=0, input_audio_tokens=0, output_audio_tokens=0, cached_tokens=0, cache_write_tokens=0, reasoning_tokens=0, prompt_tokens=0, completion_tokens=0, prompt_tokens_details=None, completion_tokens_details=None, additional_metrics={'completion_time': 0.187272727, 'prompt_time': 0.028916394, 'queue_time': 0.28526510299999996, 'total_time': 0.216189121}, time=0.952212000000145, time_to_first_token=None, timer=<agno.utils.timer.Timer object at 0x00000208E427B910>), references=None, created_at=1752153381)], metrics={'input_tokens': [657], 'output_tokens': [103], 'total_tokens': [760], 'audio_tokens': [0], 'input_audio_tokens': [0], 'output_audio_tokens': [0], 'cached_tokens': [0], 'cache_write_tokens': [0], 'reasoning_tokens': [0], 'prompt_tokens': [0], 'completion_tokens': [0], 'additional_metrics': [{'completion_time': 0.187272727, 'prompt_time': 0.028916394, 'queue_time': 0.28526510299999996, 'total_time': 0.216189121}], 'time': [0.952212000000145]}, model='gemma2-9b-it', model_provider='Groq', run_id='20f23d7e-7ef0-4711-8ac1-678fc9abcef7', agent_id='b311ef53-5031-430c-b2d3-9480990cfe67', agent_name=None, session_id='38aea46c-a588-4f6c-b91a-22a505777147', team_session_id=None, workflow_id=None, tools=[], formatted_tool_calls=None, images=None, videos=None, audio=None, response_audio=None, citations=None, extra_data=RunResponseExtraData(references=None, add_messages=None, reasoning_steps=[ReasoningStep(title=\"Understanding the User's Request\", action=\"I will analyze the user's request for a blog introduction on Artificial Intelligence in Healthcare.\", result='The user seeks a concise (under 200 words) and engaging introduction to the topic of AI in healthcare.', reasoning=\"The user's explicit instructions provide the framework for the task. The word limit ensures brevity, while the request for a 'blog introduction' implies an informal and accessible tone.\", next_action=<NextAction.CONTINUE: 'continue'>, confidence=1.0), ReasoningStep(title='Defining the Scope', action='I will outline the key aspects to cover in the introduction.', result='The introduction will touch on:\\n1.  Briefly explain what AI is and its potential applications in healthcare\\n2. Highlight some specific examples of AI in action within healthcare\\n3. Briefly mention the potential benefits and challenges of AI in healthcare', reasoning='A comprehensive introduction needs to provide a foundational understanding of AI in healthcare. Covering its applications, examples, benefits, and challenges allows for a well-rounded overview within the word limit.', next_action=<NextAction.CONTINUE: 'continue'>, confidence=0.9), ReasoningStep(title='Crafting the Introduction', action='I will write the introduction incorporating the defined scope.', result='Artificial intelligence (AI) is rapidly transforming the healthcare landscape, offering exciting possibilities for improving patient care, streamlining processes, and driving innovation. From diagnosing diseases with greater accuracy to personalizing treatment plans, AI is already making a tangible impact.  Imagine AI-powered systems analyzing medical images to detect early signs of cancer or using data to predict patient risk factors. While these advancements promise a brighter future, they also raise important ethical considerations and challenges regarding data privacy and job displacement. ', reasoning='The introduction combines a concise explanation of AI and its potentials, provides specific examples, and acknowledges the ethical considerations. It aims to be engaging and informative while adhering to the word limit.', next_action=<NextAction.FINAL_ANSWER: 'final_answer'>, confidence=0.95)], reasoning_messages=[Message(role='system', content='You are a meticulous, thoughtful, and logical Reasoning Agent who solves complex problems through clear, structured, step-by-step analysis.\\n<instructions>\\nStep 1 - Problem Analysis:\\n- Restate the user\\'s task clearly in your own words to ensure full comprehension.\\n- Identify explicitly what information is required and what tools or resources might be necessary.\\n\\nStep 2 - Decompose and Strategize:\\n- Break down the problem into clearly defined subtasks.\\n- Develop at least two distinct strategies or approaches to solving the problem to ensure thoroughness.\\n\\nStep 3 - Intent Clarification and Planning:\\n- Clearly articulate the user\\'s intent behind their request.\\n- Select the most suitable strategy from Step 2, clearly justifying your choice based on alignment with the user\\'s intent and task constraints.\\n- Formulate a detailed step-by-step action plan outlining the sequence of actions needed to solve the problem.\\n\\nStep 4 - Execute the Action Plan:\\nFor each planned step, document:\\n1. **Title**: Concise title summarizing the step.\\n2. **Action**: Explicitly state your next action in the first person (\\'I will...\\').\\n3. **Result**: Execute your action using necessary tools and provide a concise summary of the outcome.\\n4. **Reasoning**: Clearly explain your rationale, covering:\\n    - Necessity: Why this action is required.\\n    - Considerations: Highlight key considerations, potential challenges, and mitigation strategies.\\n    - Progression: How this step logically follows from or builds upon previous actions.\\n    - Assumptions: Explicitly state any assumptions made and justify their validity.\\n5. **Next Action**: Clearly select your next step from:\\n    - **continue**: If further steps are needed.\\n    - **validate**: When you reach a potential answer, signaling it\\'s ready for validation.\\n    - **final_answer**: Only if you have confidently validated the solution.\\n    - **reset**: Immediately restart analysis if a critical error or incorrect result is identified.\\n6. **Confidence Score**: Provide a numeric confidence score (0.0–1.0) indicating your certainty in the step’s correctness and its outcome.\\n\\nStep 5 - Validation (mandatory before finalizing an answer):\\n- Explicitly validate your solution by:\\n    - Cross-verifying with alternative approaches (developed in Step 2).\\n    - Using additional available tools or methods to independently confirm accuracy.\\n- Clearly document validation results and reasoning behind the validation method chosen.\\n- If validation fails or discrepancies arise, explicitly identify errors, reset your analysis, and revise your plan accordingly.\\n\\nStep 6 - Provide the Final Answer:\\n- Once thoroughly validated and confident, deliver your solution clearly and succinctly.\\n- Restate briefly how your answer addresses the user\\'s original intent and resolves the stated task.\\n\\nGeneral Operational Guidelines:\\n- Ensure your analysis remains:\\n    - **Complete**: Address all elements of the task.\\n    - **Comprehensive**: Explore diverse perspectives and anticipate potential outcomes.\\n    - **Logical**: Maintain coherence between all steps.\\n    - **Actionable**: Present clearly implementable steps and actions.\\n    - **Insightful**: Offer innovative and unique perspectives where applicable.\\n- Always explicitly handle errors and mistakes by resetting or revising steps immediately.\\n- Adhere strictly to a minimum of 1 and maximum of 10 steps to ensure effective task resolution.\\n- Execute necessary tools proactively and without hesitation, clearly documenting tool usage.\\n- Only create a single instance of ReasoningSteps for your response.        \\n</instructions>\\n\\nProvide your output as a JSON containing the following fields:\\n<json_fields>\\n[\"reasoning_steps\"]\\n</json_fields>\\n\\nHere are the properties for each field:\\n<json_field_properties>\\n{\\n  \"reasoning_steps\": {\\n    \"description\": \"A list of reasoning steps\",\\n    \"items\": {\\n      \"$ref\": \"#/$defs/ReasoningStep\"\\n    },\\n    \"type\": \"array\"\\n  },\\n  \"$defs\": {\\n    \"NextAction\": {\\n      \"type\": \"string\",\\n      \"enum\": [\\n        \"continue\",\\n        \"validate\",\\n        \"final_answer\",\\n        \"reset\"\\n      ],\\n      \"description\": \"\"\\n    },\\n    \"ReasoningStep\": {\\n      \"title\": {\\n        \"anyOf\": [\\n          {\\n            \"type\": \"string\"\\n          },\\n          {\\n            \"type\": \"null\"\\n          }\\n        ],\\n        \"default\": null,\\n        \"description\": \"A concise title summarizing the step\\'s purpose\"\\n      },\\n      \"action\": {\\n        \"anyOf\": [\\n          {\\n            \"type\": \"string\"\\n          },\\n          {\\n            \"type\": \"null\"\\n          }\\n        ],\\n        \"default\": null,\\n        \"description\": \"The action derived from this step. Talk in first person like I will ...\"\\n      },\\n      \"result\": {\\n        \"anyOf\": [\\n          {\\n            \"type\": \"string\"\\n          },\\n          {\\n            \"type\": \"null\"\\n          }\\n        ],\\n        \"default\": null,\\n        \"description\": \"The result of executing the action. Talk in first person like I did this and got ... \"\\n      },\\n      \"reasoning\": {\\n        \"anyOf\": [\\n          {\\n            \"type\": \"string\"\\n          },\\n          {\\n            \"type\": \"null\"\\n          }\\n        ],\\n        \"default\": null,\\n        \"description\": \"The thought process and considerations behind this step\"\\n      },\\n      \"next_action\": {\\n        \"anyOf\": [\\n          {\\n            \"$ref\": \"#/$defs/NextAction\"\\n          },\\n          {\\n            \"type\": \"null\"\\n          }\\n        ],\\n        \"default\": null,\\n        \"description\": \"Indicates whether to continue reasoning, validate the provided result, or confirm that the result is the final answer\"\\n      },\\n      \"confidence\": {\\n        \"anyOf\": [\\n          {\\n            \"type\": \"number\"\\n          },\\n          {\\n            \"type\": \"null\"\\n          }\\n        ],\\n        \"default\": null,\\n        \"description\": \"Confidence score for this step (0.0 to 1.0)\"\\n      }\\n    }\\n  }\\n}\\n</json_field_properties>\\nStart your response with `{` and end it with `}`.\\nYour output will be passed to json.loads() to convert it to a Python object.\\nMake sure it only contains valid JSON.', name=None, tool_call_id=None, tool_calls=None, audio=None, images=None, videos=None, files=None, audio_output=None, image_output=None, thinking=None, redacted_thinking=None, provider_data=None, citations=None, reasoning_content=None, tool_name=None, tool_args=None, tool_call_error=None, stop_after_tool_call=False, add_to_agent_memory=True, from_history=False, metrics=MessageMetrics(input_tokens=0, output_tokens=0, total_tokens=0, audio_tokens=0, input_audio_tokens=0, output_audio_tokens=0, cached_tokens=0, cache_write_tokens=0, reasoning_tokens=0, prompt_tokens=0, completion_tokens=0, prompt_tokens_details=None, completion_tokens_details=None, additional_metrics=None, time=None, time_to_first_token=None, timer=None), references=None, created_at=1752153378), Message(role='system', content='<instructions>\\nYou are a clear, friendly blog writer. Given a topic, write a short introduction (≤200 words). Then internally review it for clarity, tone, and conciseness, and produce a final polished version. Output only the final introduction (simple, readable language).\\n</instructions>', name=None, tool_call_id=None, tool_calls=None, audio=None, images=None, videos=None, files=None, audio_output=None, image_output=None, thinking=None, redacted_thinking=None, provider_data=None, citations=None, reasoning_content=None, tool_name=None, tool_args=None, tool_call_error=None, stop_after_tool_call=False, add_to_agent_memory=True, from_history=False, metrics=MessageMetrics(input_tokens=0, output_tokens=0, total_tokens=0, audio_tokens=0, input_audio_tokens=0, output_audio_tokens=0, cached_tokens=0, cache_write_tokens=0, reasoning_tokens=0, prompt_tokens=0, completion_tokens=0, prompt_tokens_details=None, completion_tokens_details=None, additional_metrics=None, time=None, time_to_first_token=None, timer=None), references=None, created_at=1752153378), Message(role='user', content='Topic: Artificial Intelligence in Healthcare', name=None, tool_call_id=None, tool_calls=None, audio=None, images=None, videos=None, files=None, audio_output=None, image_output=None, thinking=None, redacted_thinking=None, provider_data=None, citations=None, reasoning_content=None, tool_name=None, tool_args=None, tool_call_error=None, stop_after_tool_call=False, add_to_agent_memory=True, from_history=False, metrics=MessageMetrics(input_tokens=0, output_tokens=0, total_tokens=0, audio_tokens=0, input_audio_tokens=0, output_audio_tokens=0, cached_tokens=0, cache_write_tokens=0, reasoning_tokens=0, prompt_tokens=0, completion_tokens=0, prompt_tokens_details=None, completion_tokens_details=None, additional_metrics=None, time=None, time_to_first_token=None, timer=None), references=None, created_at=1752153378, show_full_reasoning=True), Message(role='assistant', content='{\\n  \"reasoning_steps\": [\\n    {\\n      \"title\": \"Understanding the User\\'s Request\",\\n      \"action\": \"I will analyze the user\\'s request for a blog introduction on Artificial Intelligence in Healthcare.\",\\n      \"result\": \"The user seeks a concise (under 200 words) and engaging introduction to the topic of AI in healthcare.\",\\n      \"reasoning\": \"The user\\'s explicit instructions provide the framework for the task. The word limit ensures brevity, while the request for a \\'blog introduction\\' implies an informal and accessible tone.\",\\n      \"next_action\": \"continue\",\\n      \"confidence\": 1.0\\n    },\\n    {\\n      \"title\": \"Defining the Scope\",\\n      \"action\": \"I will outline the key aspects to cover in the introduction.\",\\n      \"result\": \"The introduction will touch on:\\\\n1.  Briefly explain what AI is and its potential applications in healthcare\\\\n2. Highlight some specific examples of AI in action within healthcare\\\\n3. Briefly mention the potential benefits and challenges of AI in healthcare\",\\n      \"reasoning\": \"A comprehensive introduction needs to provide a foundational understanding of AI in healthcare. Covering its applications, examples, benefits, and challenges allows for a well-rounded overview within the word limit.\",\\n      \"next_action\": \"continue\",\\n      \"confidence\": 0.9\\n    },\\n    {\\n      \"title\": \"Crafting the Introduction\",\\n      \"action\": \"I will write the introduction incorporating the defined scope.\",\\n      \"result\": \"Artificial intelligence (AI) is rapidly transforming the healthcare landscape, offering exciting possibilities for improving patient care, streamlining processes, and driving innovation. From diagnosing diseases with greater accuracy to personalizing treatment plans, AI is already making a tangible impact.  Imagine AI-powered systems analyzing medical images to detect early signs of cancer or using data to predict patient risk factors. While these advancements promise a brighter future, they also raise important ethical considerations and challenges regarding data privacy and job displacement. \",\\n      \"reasoning\": \"The introduction combines a concise explanation of AI and its potentials, provides specific examples, and acknowledges the ethical considerations. It aims to be engaging and informative while adhering to the word limit.\",\\n      \"next_action\": \"final_answer\",\\n      \"confidence\": 0.95\\n    }\\n  ]\\n}', name=None, tool_call_id=None, tool_calls=None, audio=None, images=None, videos=None, files=None, audio_output=None, image_output=None, thinking=None, redacted_thinking=None, provider_data=None, citations=None, reasoning_content=None, tool_name=None, tool_args=None, tool_call_error=None, stop_after_tool_call=False, add_to_agent_memory=False, from_history=False, metrics=MessageMetrics(input_tokens=1547, output_tokens=504, total_tokens=2051, audio_tokens=0, input_audio_tokens=0, output_audio_tokens=0, cached_tokens=0, cache_write_tokens=0, reasoning_tokens=0, prompt_tokens=0, completion_tokens=0, prompt_tokens_details=None, completion_tokens_details=None, additional_metrics={'completion_time': 0.916363636, 'prompt_time': 0.053592151, 'queue_time': 0.270291858, 'total_time': 0.969955787}, time=1.82728909999787, time_to_first_token=None, timer=<agno.utils.timer.Timer object at 0x00000208E47C1590>), references=None, created_at=1752153378)]), created_at=1752136303, events=None, status=<RunStatus.running: 'RUNNING'>)\n"
     ]
    }
   ],
   "source": [
    "from agno.agent import Agent\n",
    "from agno.models.groq import Groq\n",
    "import os\n",
    "\n",
    "from dotenv import load_dotenv\n",
    "load_dotenv()\n",
    "\n",
    "groq_api_key = os.getenv(\"GROQ_API_KEY\")\n",
    "\n",
    "    \n",
    "\n",
    "# Define instructions: write an intro, then critique and improve it.\n",
    "instructions = (\n",
    "    \"You are a clear, friendly blog writer. \"\n",
    "    \"Given a topic, write a short introduction (≤200 words). \"\n",
    "    \"Then internally review it for clarity, tone, and conciseness, and produce a final polished version. \"\n",
    "    \"Output only the final introduction (simple, readable language).\"\n",
    ")\n",
    "\n",
    "# Initialize the agent with reasoning enabled (so it “thinks” step-by-step).\n",
    "agent = Agent(\n",
    "    model=Groq(id=\"gemma2-9b-it\"),      # use GPT-4 (replace with your model choice)\n",
    "    instructions=instructions,\n",
    "    reasoning=True,                     # enable internal chain-of-thought reasoning:contentReference[oaicite:1]{index=1}\n",
    "    markdown=False\n",
    ")\n",
    "\n",
    "# Run the agent on a topic.\n",
    "topic = \"Artificial Intelligence in Healthcare\"\n",
    "result = agent.run(f\"Topic: {topic}\", stream=False, show_full_reasoning=True)\n",
    "print(result)  # This will include the internal critique steps and the final intro:contentReference[oaicite:2]{index=2}:contentReference[oaicite:3]{index=3}\n"
   ]
  },
  {
   "cell_type": "code",
   "execution_count": 13,
   "id": "17a712c9",
   "metadata": {},
   "outputs": [
    {
     "data": {
      "text/html": [
       "<pre style=\"white-space:pre;overflow-x:auto;line-height:normal;font-family:Menlo,'DejaVu Sans Mono',consolas,'Courier New',monospace\">c:\\Users\\KUSHAL\\anaconda3\\envs\\fapienv\\Lib\\site-packages\\rich\\live.py:231: UserWarning: install \"ipywidgets\" for \n",
       "Jupyter support\n",
       "  warnings.warn('install \"ipywidgets\" for Jupyter support')\n",
       "</pre>\n"
      ],
      "text/plain": [
       "c:\\Users\\KUSHAL\\anaconda3\\envs\\fapienv\\Lib\\site-packages\\rich\\live.py:231: UserWarning: install \"ipywidgets\" for \n",
       "Jupyter support\n",
       "  warnings.warn('install \"ipywidgets\" for Jupyter support')\n"
      ]
     },
     "metadata": {},
     "output_type": "display_data"
    },
    {
     "data": {
      "text/html": [
       "<pre style=\"white-space:pre;overflow-x:auto;line-height:normal;font-family:Menlo,'DejaVu Sans Mono',consolas,'Courier New',monospace\"></pre>\n"
      ],
      "text/plain": []
     },
     "metadata": {},
     "output_type": "display_data"
    },
    {
     "name": "stdout",
     "output_type": "stream",
     "text": [
      "None\n"
     ]
    }
   ],
   "source": [
    "from textwrap import dedent\n",
    "from agno.agent import Agent\n",
    "from agno.models.groq import Groq\n",
    "from agno.models.huggingface import HuggingFace\n",
    "from agno.tools.thinking import ThinkingTools\n",
    "from agno.tools.yfinance import YFinanceTools\n",
    "import os \n",
    "from dotenv import load_dotenv\n",
    "\n",
    "load_dotenv()\n",
    "\n",
    "GROQ_API_KEY = os.getenv(\"GROQ_API_KEY\")\n",
    "\n",
    "thinking_agent = Agent(\n",
    "        model=Groq(id=\"deepseek-r1-distill-llama-70b\", api_key=GROQ_API_KEY),    \n",
    "        tools=[ ThinkingTools(add_instructions=True),\n",
    "        YFinanceTools(\n",
    "            stock_price=True,\n",
    "            analyst_recommendations=True,\n",
    "            company_info=True,\n",
    "            company_news=True,\n",
    "        ),\n",
    "    ],\n",
    "    instructions=\"Use tables where possible\",\n",
    "    show_tool_calls=True,\n",
    "    markdown=True,\n",
    ")\n",
    "\n",
    "result = thinking_agent.print_response(\"Write a report comparing NVDA to TSLA\")\n",
    "\n",
    "print(result)"
   ]
  },
  {
   "cell_type": "code",
   "execution_count": 12,
   "id": "c03eeae9",
   "metadata": {},
   "outputs": [],
   "source": [
    "import os\n",
    "from dotenv import load_dotenv\n",
    "load_dotenv()\n",
    "\n",
    "api_key = os.getenv(\"GROQ_API_KEY\")\n"
   ]
  },
  {
   "cell_type": "code",
   "execution_count": null,
   "id": "7cb4b65c",
   "metadata": {},
   "outputs": [],
   "source": []
  }
 ],
 "metadata": {
  "kernelspec": {
   "display_name": "fapienv",
   "language": "python",
   "name": "python3"
  },
  "language_info": {
   "codemirror_mode": {
    "name": "ipython",
    "version": 3
   },
   "file_extension": ".py",
   "mimetype": "text/x-python",
   "name": "python",
   "nbconvert_exporter": "python",
   "pygments_lexer": "ipython3",
   "version": "3.11.13"
  }
 },
 "nbformat": 4,
 "nbformat_minor": 5
}
