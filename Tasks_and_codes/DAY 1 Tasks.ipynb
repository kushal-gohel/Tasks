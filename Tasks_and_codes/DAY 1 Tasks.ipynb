{
 "cells": [
  {
   "cell_type": "code",
   "execution_count": 2,
   "id": "f025f1a5",
   "metadata": {},
   "outputs": [
    {
     "name": "stdout",
     "output_type": "stream",
     "text": [
      "Enter number: 5\n"
     ]
    }
   ],
   "source": [
    "n = int(input(\"Enter number: \"))\n",
    "\n",
    "def fact(n):\n",
    "  if n == 0:\n",
    "    return 1\n",
    "  else:\n",
    "    return n * fact(n-1)"
   ]
  },
  {
   "cell_type": "code",
   "execution_count": 3,
   "id": "a7f4a80a",
   "metadata": {},
   "outputs": [
    {
     "data": {
      "text/plain": [
       "120"
      ]
     },
     "execution_count": 3,
     "metadata": {},
     "output_type": "execute_result"
    }
   ],
   "source": [
    "fact(n)"
   ]
  },
  {
   "cell_type": "code",
   "execution_count": 15,
   "id": "08bcb75b",
   "metadata": {},
   "outputs": [],
   "source": [
    "def factorial(n):\n",
    "    result = 1\n",
    "    for i in range(1, n + 1):\n",
    "        result *= i\n",
    "    return result\n"
   ]
  },
  {
   "cell_type": "code",
   "execution_count": 20,
   "id": "d8f5657f",
   "metadata": {},
   "outputs": [
    {
     "data": {
      "text/plain": [
       "24"
      ]
     },
     "execution_count": 20,
     "metadata": {},
     "output_type": "execute_result"
    }
   ],
   "source": [
    "factorial(4)"
   ]
  },
  {
   "cell_type": "markdown",
   "id": "d69c3aeb",
   "metadata": {},
   "source": [
    "## rearrangement left"
   ]
  },
  {
   "cell_type": "markdown",
   "id": "be4b2e17",
   "metadata": {},
   "source": [
    "#### print the ten most frequent words sorted by count then alphabetically."
   ]
  },
  {
   "cell_type": "code",
   "execution_count": 91,
   "id": "a1926c14",
   "metadata": {},
   "outputs": [
    {
     "name": "stdout",
     "output_type": "stream",
     "text": [
      "file: 3\n",
      "plain: 3\n",
      "a: 2\n",
      "documents: 2\n",
      "is: 2\n",
      "always: 1\n",
      "and: 1\n",
      "are: 1\n",
      "be: 1\n",
      "document: 1\n"
     ]
    }
   ],
   "source": [
    "f = open(\"plain text file.txt\")\n",
    "x = f.read()\n",
    "words = x.split(' ')\n",
    "wcount = {}\n",
    "\n",
    "for word in words:\n",
    "    updated_word = \"\"\n",
    "    for char in word:\n",
    "        if char.isalnum():\n",
    "            updated_word += char.lower()\n",
    "            \n",
    "    if updated_word:\n",
    "        if updated_word in wcount:\n",
    "            wcount[updated_word]+=1\n",
    "        else:\n",
    "            wcount[updated_word] = 1\n",
    "items = list(wcount.items())\n",
    "\n",
    "#count sort and alphabetical sort\n",
    "for i in range(len(items)):\n",
    "    for j in range(i + 1, len(items)):\n",
    "        if (items[i][1] < items[j][1]) or (items[i][1] == items[j][1] and items[i][0] > items[j][0]):\n",
    "            items[i], items[j] = items[j], items[i]\n",
    "            \n",
    "# first 10 words\n",
    "for i in range(min(10, len(items))):\n",
    "    word, count = items[i]\n",
    "    print(f\"{word}: {count}\")\n",
    "\n"
   ]
  },
  {
   "cell_type": "markdown",
   "id": "c764ed4f",
   "metadata": {},
   "source": [
    "#### Contact book"
   ]
  },
  {
   "cell_type": "code",
   "execution_count": 140,
   "id": "caca0877",
   "metadata": {},
   "outputs": [
    {
     "name": "stdout",
     "output_type": "stream",
     "text": [
      " 1. Add \n",
      " 2. Search  \n",
      " 3. Delete \n",
      " 4. See All\n",
      "Enter the option: 7\n",
      "Not a valid option\n"
     ]
    }
   ],
   "source": [
    "contacts= {'kushal': 7359212203 , 'viraj': 7894561230 , 'riya' : 7418529630 }\n",
    "\n",
    "def add():\n",
    "    name = input(\"Enter name: \").strip()\n",
    "    number = int(input(\"Enter Number: \").strip())\n",
    "    contacts[name] = number\n",
    "    print(f'{name} added')\n",
    "    \n",
    "def search():\n",
    "    name = input(\"search: \").strip()\n",
    "    if name in contacts:\n",
    "        print(f'{name} : {contacts[name]}')\n",
    "    else:\n",
    "        print('Contact unavailable')\n",
    "        \n",
    "def delete():\n",
    "    name = input(\"Enter the name to delete:\").strip()\n",
    "    if name in contacts:\n",
    "        del contacts[name]\n",
    "        print(f'contact {name} deleted')\n",
    "        print(f'updated Contact list:{contacts}')\n",
    "\n",
    "def display_contacts():\n",
    "    if not contacts:\n",
    "        print(\"Contact book is empty.\")\n",
    "    else:\n",
    "        print(\"\\n Contact List:\")\n",
    "        for name in sorted(contacts):\n",
    "            print(f\"{name}: {contacts[name]}\")\n",
    "        print()\n",
    "        \n",
    "def menu():\n",
    "    print(\" 1. Add \\n 2. Search  \\n 3. Delete \\n 4. See All\")\n",
    "    options = [1, 2, 3, 4]\n",
    "    option = int(input(\"Enter the option: \"))\n",
    "    if option in options:\n",
    "        if option == 1:\n",
    "            add()\n",
    "        elif option == 2:\n",
    "            search()\n",
    "        elif option == 3:\n",
    "            delete()\n",
    "        elif option == 4:\n",
    "            display_contacts()\n",
    "    else:\n",
    "        print(\"Not a valid option\")\n",
    "menu()"
   ]
  },
  {
   "cell_type": "markdown",
   "id": "7250fc9d",
   "metadata": {},
   "source": [
    "#### File Handling read, update, delete"
   ]
  },
  {
   "cell_type": "code",
   "execution_count": 3,
   "id": "b8d65112",
   "metadata": {},
   "outputs": [
    {
     "data": {
      "text/html": [
       "<div>\n",
       "<style scoped>\n",
       "    .dataframe tbody tr th:only-of-type {\n",
       "        vertical-align: middle;\n",
       "    }\n",
       "\n",
       "    .dataframe tbody tr th {\n",
       "        vertical-align: top;\n",
       "    }\n",
       "\n",
       "    .dataframe thead th {\n",
       "        text-align: right;\n",
       "    }\n",
       "</style>\n",
       "<table border=\"1\" class=\"dataframe\">\n",
       "  <thead>\n",
       "    <tr style=\"text-align: right;\">\n",
       "      <th></th>\n",
       "      <th>TO DO TASK</th>\n",
       "      <th>Status</th>\n",
       "    </tr>\n",
       "  </thead>\n",
       "  <tbody>\n",
       "    <tr>\n",
       "      <th>0</th>\n",
       "      <td>Read the documentation</td>\n",
       "      <td>Pending</td>\n",
       "    </tr>\n",
       "    <tr>\n",
       "      <th>1</th>\n",
       "      <td>Do the Exercise</td>\n",
       "      <td>Pending</td>\n",
       "    </tr>\n",
       "    <tr>\n",
       "      <th>2</th>\n",
       "      <td>Submit the notebook</td>\n",
       "      <td>Pending</td>\n",
       "    </tr>\n",
       "    <tr>\n",
       "      <th>3</th>\n",
       "      <td>Ask for feedback</td>\n",
       "      <td>Pending</td>\n",
       "    </tr>\n",
       "    <tr>\n",
       "      <th>4</th>\n",
       "      <td>Read the feedback</td>\n",
       "      <td>Pending</td>\n",
       "    </tr>\n",
       "    <tr>\n",
       "      <th>5</th>\n",
       "      <td>Make Changes</td>\n",
       "      <td>Pending</td>\n",
       "    </tr>\n",
       "  </tbody>\n",
       "</table>\n",
       "</div>"
      ],
      "text/plain": [
       "               TO DO TASK   Status\n",
       "0  Read the documentation  Pending\n",
       "1         Do the Exercise  Pending\n",
       "2     Submit the notebook  Pending\n",
       "3        Ask for feedback  Pending\n",
       "4       Read the feedback  Pending\n",
       "5            Make Changes  Pending"
      ]
     },
     "execution_count": 3,
     "metadata": {},
     "output_type": "execute_result"
    }
   ],
   "source": [
    "import pandas as pd\n",
    "df= pd.read_csv('task4.csv')\n",
    "df['Status'] = df['Status'].fillna('Pending')\n",
    "df"
   ]
  },
  {
   "cell_type": "code",
   "execution_count": 4,
   "id": "55c67f9c",
   "metadata": {},
   "outputs": [
    {
     "data": {
      "text/html": [
       "<div>\n",
       "<style scoped>\n",
       "    .dataframe tbody tr th:only-of-type {\n",
       "        vertical-align: middle;\n",
       "    }\n",
       "\n",
       "    .dataframe tbody tr th {\n",
       "        vertical-align: top;\n",
       "    }\n",
       "\n",
       "    .dataframe thead th {\n",
       "        text-align: right;\n",
       "    }\n",
       "</style>\n",
       "<table border=\"1\" class=\"dataframe\">\n",
       "  <thead>\n",
       "    <tr style=\"text-align: right;\">\n",
       "      <th></th>\n",
       "      <th>TO DO TASK</th>\n",
       "      <th>Status</th>\n",
       "    </tr>\n",
       "  </thead>\n",
       "  <tbody>\n",
       "    <tr>\n",
       "      <th>0</th>\n",
       "      <td>Read the documentation</td>\n",
       "      <td>Pending</td>\n",
       "    </tr>\n",
       "    <tr>\n",
       "      <th>1</th>\n",
       "      <td>Do the Exercise</td>\n",
       "      <td>Pending</td>\n",
       "    </tr>\n",
       "    <tr>\n",
       "      <th>2</th>\n",
       "      <td>Submit the notebook</td>\n",
       "      <td>Pending</td>\n",
       "    </tr>\n",
       "    <tr>\n",
       "      <th>3</th>\n",
       "      <td>Ask for feedback</td>\n",
       "      <td>Pending</td>\n",
       "    </tr>\n",
       "    <tr>\n",
       "      <th>4</th>\n",
       "      <td>Read the feedback</td>\n",
       "      <td>Pending</td>\n",
       "    </tr>\n",
       "    <tr>\n",
       "      <th>5</th>\n",
       "      <td>Make Changes</td>\n",
       "      <td>Pending</td>\n",
       "    </tr>\n",
       "  </tbody>\n",
       "</table>\n",
       "</div>"
      ],
      "text/plain": [
       "               TO DO TASK   Status\n",
       "0  Read the documentation  Pending\n",
       "1         Do the Exercise  Pending\n",
       "2     Submit the notebook  Pending\n",
       "3        Ask for feedback  Pending\n",
       "4       Read the feedback  Pending\n",
       "5            Make Changes  Pending"
      ]
     },
     "execution_count": 4,
     "metadata": {},
     "output_type": "execute_result"
    }
   ],
   "source": [
    "df"
   ]
  },
  {
   "cell_type": "code",
   "execution_count": 12,
   "id": "1a5ec0ab",
   "metadata": {},
   "outputs": [],
   "source": [
    "def tdl():\n",
    "    df= pd.read_csv('task4.csv')\n",
    "    df['Status'] = df['Status'].fillna('Pending')\n",
    "    print(\"1. View\")\n",
    "    print(\"2. Add\")\n",
    "    print(\"3. Mark as Complete\")\n",
    "    print(\"4. Delete Task\")\n",
    "    print(\"5. Exit\")\n",
    "    options = [1, 2, 3, 4, 5]\n",
    "    while True:\n",
    "        option = int(input(\"Enter the option: \"))\n",
    "        if option in options:\n",
    "            if option == 1:\n",
    "                print(\"\\n\")\n",
    "                print(df)\n",
    "            elif option == 2:\n",
    "                print(\"\\n\")\n",
    "                print(df)\n",
    "                new_task = input(\"Enter the name of the new task: \")\n",
    "                df.loc[len(df)] = [new_task, 'Pending']\n",
    "                df.to_csv('task4.csv', index=False)\n",
    "            elif option == 3:\n",
    "                print(\"\\n\")\n",
    "                print(df)\n",
    "                index = int(input(\"Enter the index you want to mark as completed: \"))\n",
    "                df.at[index, 'Status'] = \"Completed\"\n",
    "                df.to_csv('task4.csv', index=False)\n",
    "                print(df)\n",
    "            elif option == 4:\n",
    "                print(\"\\n\")\n",
    "                print(df)\n",
    "                index = int(input(\"Enter the index you want to delete: \"))\n",
    "                df = df.drop(index).reset_index(drop=True)\n",
    "                df.to_csv('task4.csv', index=False)\n",
    "                print(df)\n",
    "            elif option == 5:\n",
    "                df.to_csv('task4.csv', index=False)\n",
    "                print(\"Exited Successfully\")\n",
    "                break\n",
    "        else:\n",
    "            print(\"Invalid Option.\")"
   ]
  },
  {
   "cell_type": "code",
   "execution_count": 14,
   "id": "6490b214",
   "metadata": {},
   "outputs": [
    {
     "name": "stdout",
     "output_type": "stream",
     "text": [
      "1. View\n",
      "2. Add\n",
      "3. Mark as Complete\n",
      "4. Delete Task\n",
      "5. Exit\n",
      "Enter the option: 1\n",
      "               TO DO TASK     Status\n",
      "0  Read the documentation    Pending\n",
      "1         Do the Exercise  Completed\n",
      "2     Submit the notebook    Pending\n",
      "3        Ask for feedback    Pending\n",
      "4       Read the feedback    Pending\n",
      "Enter the option: 5\n",
      "Exited Successfully\n"
     ]
    }
   ],
   "source": [
    "tdl()"
   ]
  },
  {
   "cell_type": "code",
   "execution_count": null,
   "id": "8f7c73d0",
   "metadata": {},
   "outputs": [],
   "source": []
  }
 ],
 "metadata": {
  "kernelspec": {
   "display_name": ".venv",
   "language": "python",
   "name": "python3"
  },
  "language_info": {
   "codemirror_mode": {
    "name": "ipython",
    "version": 3
   },
   "file_extension": ".py",
   "mimetype": "text/x-python",
   "name": "python",
   "nbconvert_exporter": "python",
   "pygments_lexer": "ipython3",
   "version": "3.11.8"
  }
 },
 "nbformat": 4,
 "nbformat_minor": 5
}
