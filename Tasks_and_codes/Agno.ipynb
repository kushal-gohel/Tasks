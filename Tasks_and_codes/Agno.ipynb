{
  "nbformat": 4,
  "nbformat_minor": 0,
  "metadata": {
    "colab": {
      "provenance": []
    },
    "kernelspec": {
      "name": "python3",
      "display_name": "Python 3"
    },
    "language_info": {
      "name": "python"
    },
    "widgets": {
      "application/vnd.jupyter.widget-state+json": {
        "e26162e0125d4361a4d91a14389b95c6": {
          "model_module": "@jupyter-widgets/output",
          "model_name": "OutputModel",
          "model_module_version": "1.0.0",
          "state": {
            "_dom_classes": [],
            "_model_module": "@jupyter-widgets/output",
            "_model_module_version": "1.0.0",
            "_model_name": "OutputModel",
            "_view_count": null,
            "_view_module": "@jupyter-widgets/output",
            "_view_module_version": "1.0.0",
            "_view_name": "OutputView",
            "layout": "IPY_MODEL_81b5a07550eb4555a86d65d633b533f2",
            "msg_id": "",
            "outputs": [
              {
                "output_type": "display_data",
                "data": {
                  "text/plain": "\u001b[32m▰▰▰▱▱▱▱\u001b[0m Thinking...\n\u001b[36m┏━\u001b[0m\u001b[36m Message \u001b[0m\u001b[36m━━━━━━━━━━━━━━━━━━━━━━━━━━━━━━━━━━━━━━━━━━━━━━━━━━━━━━━━━━━━━━━━━━━━━━━━━━━━━━━━━━━━━━━━━━━━━━━━━━━━━━\u001b[0m\u001b[36m━┓\u001b[0m\n\u001b[36m┃\u001b[0m                                                                                                                 \u001b[36m┃\u001b[0m\n\u001b[36m┃\u001b[0m \u001b[32mWrite a report comparing NVDA to TSLA\u001b[0m                                                                           \u001b[36m┃\u001b[0m\n\u001b[36m┃\u001b[0m                                                                                                                 \u001b[36m┃\u001b[0m\n\u001b[36m┗━━━━━━━━━━━━━━━━━━━━━━━━━━━━━━━━━━━━━━━━━━━━━━━━━━━━━━━━━━━━━━━━━━━━━━━━━━━━━━━━━━━━━━━━━━━━━━━━━━━━━━━━━━━━━━━━━┛\u001b[0m\n\u001b[34m┏━\u001b[0m\u001b[34m Response (7.0s) \u001b[0m\u001b[34m━━━━━━━━━━━━━━━━━━━━━━━━━━━━━━━━━━━━━━━━━━━━━━━━━━━━━━━━━━━━━━━━━━━━━━━━━━━━━━━━━━━━━━━━━━━━━━\u001b[0m\u001b[34m━┓\u001b[0m\n\u001b[34m┃\u001b[0m                                                                                                                 \u001b[34m┃\u001b[0m\n\u001b[34m┃\u001b[0m To provide a comprehensive report comparing NVDA and TSLA, I will follow these steps:                           \u001b[34m┃\u001b[0m\n\u001b[34m┃\u001b[0m                                                                                                                 \u001b[34m┃\u001b[0m\n\u001b[34m┃\u001b[0m \u001b[1;33m  1 \u001b[0m\u001b[1mRetrieve Company Information\u001b[0m: Use \u001b[1;36;40mget_company_info\u001b[0m for both NVDA and TSLA to gather overviews, including    \u001b[34m┃\u001b[0m\n\u001b[34m┃\u001b[0m \u001b[1;33m    \u001b[0mbusiness operations and market capitalization.                                                              \u001b[34m┃\u001b[0m\n\u001b[34m┃\u001b[0m \u001b[1;33m  2 \u001b[0m\u001b[1mObtain Current Stock Prices\u001b[0m: Use \u001b[1;36;40mget_current_stock_price\u001b[0m for both symbols to get the latest stock prices,   \u001b[34m┃\u001b[0m\n\u001b[34m┃\u001b[0m \u001b[1;33m    \u001b[0messential for market performance comparison.                                                                \u001b[34m┃\u001b[0m\n\u001b[34m┃\u001b[0m \u001b[1;33m  3 \u001b[0m\u001b[1mFetch Analyst Recommendations\u001b[0m: Use \u001b[1;36;40mget_analyst_recommendations\u001b[0m to obtain analyst ratings and target prices, \u001b[34m┃\u001b[0m\n\u001b[34m┃\u001b[0m \u001b[1;33m    \u001b[0mproviding insights into market sentiment.                                                                   \u001b[34m┃\u001b[0m\n\u001b[34m┃\u001b[0m \u001b[1;33m  4 \u001b[0m\u001b[1mGather Recent News\u001b[0m: Use \u001b[1;36;40mget_company_news\u001b[0m to retrieve recent news stories for both companies, highlighting   \u001b[34m┃\u001b[0m\n\u001b[34m┃\u001b[0m \u001b[1;33m    \u001b[0mrecent developments and impacts on stock performance.                                                       \u001b[34m┃\u001b[0m\n\u001b[34m┃\u001b[0m \u001b[1;33m  5 \u001b[0m\u001b[1mStructure the Report\u001b[0m: Organize the report with sections for company overviews, stock performance, analyst   \u001b[34m┃\u001b[0m\n\u001b[34m┃\u001b[0m \u001b[1;33m    \u001b[0mrecommendations, recent news, and a comparison table for clarity.                                           \u001b[34m┃\u001b[0m\n\u001b[34m┃\u001b[0m \u001b[1;33m  6 \u001b[0m\u001b[1mConsider Data Limitations\u001b[0m: Acknowledge potential data limitations and the rapid changes in stock markets    \u001b[34m┃\u001b[0m\n\u001b[34m┃\u001b[0m \u001b[1;33m    \u001b[0mand news.                                                                                                   \u001b[34m┃\u001b[0m\n\u001b[34m┃\u001b[0m \u001b[1;33m  7 \u001b[0m\u001b[1mTailor for Audience\u001b[0m: Ensure the report is structured to meet the audience's needs, whether investor-focused \u001b[34m┃\u001b[0m\n\u001b[34m┃\u001b[0m \u001b[1;33m    \u001b[0mor general.                                                                                                 \u001b[34m┃\u001b[0m\n\u001b[34m┃\u001b[0m \u001b[1;33m  8 \u001b[0m\u001b[1mPresent Objectively\u001b[0m: Avoid biases, presenting data objectively, especially regarding analyst                \u001b[34m┃\u001b[0m\n\u001b[34m┃\u001b[0m \u001b[1;33m    \u001b[0mrecommendations.                                                                                            \u001b[34m┃\u001b[0m\n\u001b[34m┃\u001b[0m \u001b[1;33m  9 \u001b[0m\u001b[1mReview for Accuracy\u001b[0m: Ensure the report is concise, comprehensive, and free from errors.                     \u001b[34m┃\u001b[0m\n\u001b[34m┃\u001b[0m                                                                                                                 \u001b[34m┃\u001b[0m\n\u001b[34m┃\u001b[0m The final report will include tables for clear data presentation and a balanced comparison of both companies.   \u001b[34m┃\u001b[0m\n\u001b[34m┃\u001b[0m                                                                                                                 \u001b[34m┃\u001b[0m\n\u001b[34m┃\u001b[0m \u001b[33m───────────────────────────────────────────────────────────────────────────────────────────────────────────────\u001b[0m \u001b[34m┃\u001b[0m\n\u001b[34m┃\u001b[0m \u001b[1mNVDA vs. TSLA Comparative Report\u001b[0m                                                                                \u001b[34m┃\u001b[0m\n\u001b[34m┃\u001b[0m                                                                                                                 \u001b[34m┃\u001b[0m\n\u001b[34m┃\u001b[0m \u001b[1mIntroduction\u001b[0m This report provides a comparison of NVIDIA Corporation (NVDA) and Tesla, Inc. (TSLA), focusing on \u001b[34m┃\u001b[0m\n\u001b[34m┃\u001b[0m company overviews, stock performance, analyst recommendations, and recent news.                                 \u001b[34m┃\u001b[0m\n\u001b[34m┃\u001b[0m                                                                                                                 \u001b[34m┃\u001b[0m\n\u001b[34m┃\u001b[0m \u001b[1mCompany Overviews\u001b[0m                                                                                               \u001b[34m┃\u001b[0m\n\u001b[34m┃\u001b[0m                                                                                                                 \u001b[34m┃\u001b[0m\n\u001b[34m┃\u001b[0m                                                                                                                 \u001b[34m┃\u001b[0m\n\u001b[34m┃\u001b[0m  \u001b[1m \u001b[0m\u001b[1mCompany\u001b[0m\u001b[1m \u001b[0m \u001b[1m \u001b[0m\u001b[1mIndustry\u001b[0m\u001b[1m                 \u001b[0m\u001b[1m \u001b[0m \u001b[1m \u001b[0m\u001b[1mMarket Capitalization\u001b[0m\u001b[1m       \u001b[0m\u001b[1m \u001b[0m \u001b[1m \u001b[0m\u001b[1mBusiness Focus\u001b[0m\u001b[1m                        \u001b[0m\u001b[1m \u001b[0m  \u001b[34m┃\u001b[0m\n\u001b[34m┃\u001b[0m  ━━━━━━━━━━━━━━━━━━━━━━━━━━━━━━━━━━━━━━━━━━━━━━━━━━━━━━━━━━━━━━━━━━━━━━━━━━━━━━━━━━━━━━━━━━━━━━━━━━━━━━━━━━━━━  \u001b[34m┃\u001b[0m\n\u001b[34m┃\u001b[0m   NVDA      Technology/Semiconductors   [Data from get_company_info]   Specializes in graphics, AI, and         \u001b[34m┃\u001b[0m\n\u001b[34m┃\u001b[0m                                                                        high-performance computing               \u001b[34m┃\u001b[0m\n\u001b[34m┃\u001b[0m                                                                        technologies.                            \u001b[34m┃\u001b[0m\n\u001b[34m┃\u001b[0m   TSLA      Automotive/Energy           [Data from get_company_info]   Focuses on electric vehicles, clean      \u001b[34m┃\u001b[0m\n\u001b[34m┃\u001b[0m                                                                        energy, and energy storage products.     \u001b[34m┃\u001b[0m\n\u001b[34m┃\u001b[0m                                                                                                                 \u001b[34m┃\u001b[0m\n\u001b[34m┃\u001b[0m                                                                                                                 \u001b[34m┃\u001b[0m\n\u001b[34m┃\u001b[0m \u001b[1mStock Performance\u001b[0m                                                                                               \u001b[34m┃\u001b[0m\n\u001b[34m┃\u001b[0m                                                                                                                 \u001b[34m┃\u001b[0m\n\u001b[34m┃\u001b[0m                                                                                                                 \u001b[34m┃\u001b[0m\n\u001b[34m┃\u001b[0m  \u001b[1m \u001b[0m\u001b[1mSymbol\u001b[0m\u001b[1m \u001b[0m \u001b[1m \u001b[0m\u001b[1mCurrent Stock Price\u001b[0m\u001b[1m                \u001b[0m\u001b[1m \u001b[0m \u001b[1m \u001b[0m\u001b[1mMarket Cap\u001b[0m\u001b[1m                  \u001b[0m\u001b[1m \u001b[0m                                  \u001b[34m┃\u001b[0m\n\u001b[34m┃\u001b[0m  ━━━━━━━━━━━━━━━━━━━━━━━━━━━━━━━━━━━━━━━━━━━━━━━━━━━━━━━━━━━━━━━━━━━━━━━━━━━━━                                  \u001b[34m┃\u001b[0m\n\u001b[34m┃\u001b[0m   NVDA     [Data from get_current_stock_price]   [Data from get_company_info]                                   \u001b[34m┃\u001b[0m\n\u001b[34m┃\u001b[0m   TSLA     [Data from get_current_stock_price]   [Data from get_company_info]                                   \u001b[34m┃\u001b[0m\n\u001b[34m┃\u001b[0m                                                                                                                 \u001b[34m┃\u001b[0m\n\u001b[34m┃\u001b[0m                                                                                                                 \u001b[34m┃\u001b[0m\n\u001b[34m┃\u001b[0m \u001b[1mAnalyst Recommendations\u001b[0m                                                                                         \u001b[34m┃\u001b[0m\n\u001b[34m┃\u001b[0m                                                                                                                 \u001b[34m┃\u001b[0m\n\u001b[34m┃\u001b[0m                                                                                                                 \u001b[34m┃\u001b[0m\n\u001b[34m┃\u001b[0m  \u001b[1m \u001b[0m\u001b[1mSymbol\u001b[0m\u001b[1m \u001b[0m \u001b[1m \u001b[0m\u001b[1mRecommendation\u001b[0m\u001b[1m                         \u001b[0m\u001b[1m \u001b[0m \u001b[1m \u001b[0m\u001b[1mTarget Price\u001b[0m\u001b[1m                           \u001b[0m\u001b[1m \u001b[0m                   \u001b[34m┃\u001b[0m\n\u001b[34m┃\u001b[0m  ━━━━━━━━━━━━━━━━━━━━━━━━━━━━━━━━━━━━━━━━━━━━━━━━━━━━━━━━━━━━━━━━━━━━━━━━━━━━━━━━━━━━━━━━━━━━                   \u001b[34m┃\u001b[0m\n\u001b[34m┃\u001b[0m   NVDA     [Data from get_analyst_recommendations]   [Data from get_analyst_recommendations]                    \u001b[34m┃\u001b[0m\n\u001b[34m┃\u001b[0m   TSLA     [Data from get_analyst_recommendations]   [Data from get_analyst_recommendations]                    \u001b[34m┃\u001b[0m\n\u001b[34m┃\u001b[0m                                                                                                                 \u001b[34m┃\u001b[0m\n\u001b[34m┃\u001b[0m                                                                                                                 \u001b[34m┃\u001b[0m\n\u001b[34m┃\u001b[0m \u001b[1mRecent News\u001b[0m                                                                                                     \u001b[34m┃\u001b[0m\n\u001b[34m┃\u001b[0m                                                                                                                 \u001b[34m┃\u001b[0m\n\u001b[34m┃\u001b[0m \u001b[1;33m • \u001b[0m\u001b[1mNVDA\u001b[0m: [Data from get_company_news]                                                                           \u001b[34m┃\u001b[0m\n\u001b[34m┃\u001b[0m \u001b[1;33m • \u001b[0m\u001b[1mTSLA\u001b[0m: [Data from get_company_news]                                                                           \u001b[34m┃\u001b[0m\n\u001b[34m┃\u001b[0m                                                                                                                 \u001b[34m┃\u001b[0m\n\u001b[34m┃\u001b[0m \u001b[1mComparison and Conclusion\u001b[0m                                                                                       \u001b[34m┃\u001b[0m\n\u001b[34m┃\u001b[0m                                                                                                                 \u001b[34m┃\u001b[0m\n\u001b[34m┃\u001b[0m [Insert comparative analysis based on the data retrieved, highlighting key differences and similarities.]       \u001b[34m┃\u001b[0m\n\u001b[34m┃\u001b[0m                                                                                                                 \u001b[34m┃\u001b[0m\n\u001b[34m┃\u001b[0m This report provides a snapshot of NVDA and TSLA, offering insights into their market positions and recent      \u001b[34m┃\u001b[0m\n\u001b[34m┃\u001b[0m developments. For investment decisions, further fundamental and technical analysis is recommended.              \u001b[34m┃\u001b[0m\n\u001b[34m┃\u001b[0m                                                                                                                 \u001b[34m┃\u001b[0m\n\u001b[34m┃\u001b[0m \u001b[33m───────────────────────────────────────────────────────────────────────────────────────────────────────────────\u001b[0m \u001b[34m┃\u001b[0m\n\u001b[34m┃\u001b[0m This structured approach ensures a clear and informative comparison, aiding readers in understanding the        \u001b[34m┃\u001b[0m\n\u001b[34m┃\u001b[0m companies' standings and potential.                                                                             \u001b[34m┃\u001b[0m\n\u001b[34m┃\u001b[0m                                                                                                                 \u001b[34m┃\u001b[0m\n\u001b[34m┗━━━━━━━━━━━━━━━━━━━━━━━━━━━━━━━━━━━━━━━━━━━━━━━━━━━━━━━━━━━━━━━━━━━━━━━━━━━━━━━━━━━━━━━━━━━━━━━━━━━━━━━━━━━━━━━━━┛\u001b[0m\n",
                  "text/html": "<pre style=\"white-space:pre;overflow-x:auto;line-height:normal;font-family:Menlo,'DejaVu Sans Mono',consolas,'Courier New',monospace\"><span style=\"color: #008000; text-decoration-color: #008000\">▰▰▰▱▱▱▱</span> Thinking...\n<span style=\"color: #008080; text-decoration-color: #008080\">┏━ Message ━━━━━━━━━━━━━━━━━━━━━━━━━━━━━━━━━━━━━━━━━━━━━━━━━━━━━━━━━━━━━━━━━━━━━━━━━━━━━━━━━━━━━━━━━━━━━━━━━━━━━━━┓</span>\n<span style=\"color: #008080; text-decoration-color: #008080\">┃</span>                                                                                                                 <span style=\"color: #008080; text-decoration-color: #008080\">┃</span>\n<span style=\"color: #008080; text-decoration-color: #008080\">┃</span> <span style=\"color: #008000; text-decoration-color: #008000\">Write a report comparing NVDA to TSLA</span>                                                                           <span style=\"color: #008080; text-decoration-color: #008080\">┃</span>\n<span style=\"color: #008080; text-decoration-color: #008080\">┃</span>                                                                                                                 <span style=\"color: #008080; text-decoration-color: #008080\">┃</span>\n<span style=\"color: #008080; text-decoration-color: #008080\">┗━━━━━━━━━━━━━━━━━━━━━━━━━━━━━━━━━━━━━━━━━━━━━━━━━━━━━━━━━━━━━━━━━━━━━━━━━━━━━━━━━━━━━━━━━━━━━━━━━━━━━━━━━━━━━━━━━┛</span>\n<span style=\"color: #000080; text-decoration-color: #000080\">┏━ Response (7.0s) ━━━━━━━━━━━━━━━━━━━━━━━━━━━━━━━━━━━━━━━━━━━━━━━━━━━━━━━━━━━━━━━━━━━━━━━━━━━━━━━━━━━━━━━━━━━━━━━┓</span>\n<span style=\"color: #000080; text-decoration-color: #000080\">┃</span>                                                                                                                 <span style=\"color: #000080; text-decoration-color: #000080\">┃</span>\n<span style=\"color: #000080; text-decoration-color: #000080\">┃</span> To provide a comprehensive report comparing NVDA and TSLA, I will follow these steps:                           <span style=\"color: #000080; text-decoration-color: #000080\">┃</span>\n<span style=\"color: #000080; text-decoration-color: #000080\">┃</span>                                                                                                                 <span style=\"color: #000080; text-decoration-color: #000080\">┃</span>\n<span style=\"color: #000080; text-decoration-color: #000080\">┃</span> <span style=\"color: #808000; text-decoration-color: #808000; font-weight: bold\">  1 </span><span style=\"font-weight: bold\">Retrieve Company Information</span>: Use <span style=\"color: #008080; text-decoration-color: #008080; background-color: #000000; font-weight: bold\">get_company_info</span> for both NVDA and TSLA to gather overviews, including    <span style=\"color: #000080; text-decoration-color: #000080\">┃</span>\n<span style=\"color: #000080; text-decoration-color: #000080\">┃</span> <span style=\"color: #808000; text-decoration-color: #808000; font-weight: bold\">    </span>business operations and market capitalization.                                                              <span style=\"color: #000080; text-decoration-color: #000080\">┃</span>\n<span style=\"color: #000080; text-decoration-color: #000080\">┃</span> <span style=\"color: #808000; text-decoration-color: #808000; font-weight: bold\">  2 </span><span style=\"font-weight: bold\">Obtain Current Stock Prices</span>: Use <span style=\"color: #008080; text-decoration-color: #008080; background-color: #000000; font-weight: bold\">get_current_stock_price</span> for both symbols to get the latest stock prices,   <span style=\"color: #000080; text-decoration-color: #000080\">┃</span>\n<span style=\"color: #000080; text-decoration-color: #000080\">┃</span> <span style=\"color: #808000; text-decoration-color: #808000; font-weight: bold\">    </span>essential for market performance comparison.                                                                <span style=\"color: #000080; text-decoration-color: #000080\">┃</span>\n<span style=\"color: #000080; text-decoration-color: #000080\">┃</span> <span style=\"color: #808000; text-decoration-color: #808000; font-weight: bold\">  3 </span><span style=\"font-weight: bold\">Fetch Analyst Recommendations</span>: Use <span style=\"color: #008080; text-decoration-color: #008080; background-color: #000000; font-weight: bold\">get_analyst_recommendations</span> to obtain analyst ratings and target prices, <span style=\"color: #000080; text-decoration-color: #000080\">┃</span>\n<span style=\"color: #000080; text-decoration-color: #000080\">┃</span> <span style=\"color: #808000; text-decoration-color: #808000; font-weight: bold\">    </span>providing insights into market sentiment.                                                                   <span style=\"color: #000080; text-decoration-color: #000080\">┃</span>\n<span style=\"color: #000080; text-decoration-color: #000080\">┃</span> <span style=\"color: #808000; text-decoration-color: #808000; font-weight: bold\">  4 </span><span style=\"font-weight: bold\">Gather Recent News</span>: Use <span style=\"color: #008080; text-decoration-color: #008080; background-color: #000000; font-weight: bold\">get_company_news</span> to retrieve recent news stories for both companies, highlighting   <span style=\"color: #000080; text-decoration-color: #000080\">┃</span>\n<span style=\"color: #000080; text-decoration-color: #000080\">┃</span> <span style=\"color: #808000; text-decoration-color: #808000; font-weight: bold\">    </span>recent developments and impacts on stock performance.                                                       <span style=\"color: #000080; text-decoration-color: #000080\">┃</span>\n<span style=\"color: #000080; text-decoration-color: #000080\">┃</span> <span style=\"color: #808000; text-decoration-color: #808000; font-weight: bold\">  5 </span><span style=\"font-weight: bold\">Structure the Report</span>: Organize the report with sections for company overviews, stock performance, analyst   <span style=\"color: #000080; text-decoration-color: #000080\">┃</span>\n<span style=\"color: #000080; text-decoration-color: #000080\">┃</span> <span style=\"color: #808000; text-decoration-color: #808000; font-weight: bold\">    </span>recommendations, recent news, and a comparison table for clarity.                                           <span style=\"color: #000080; text-decoration-color: #000080\">┃</span>\n<span style=\"color: #000080; text-decoration-color: #000080\">┃</span> <span style=\"color: #808000; text-decoration-color: #808000; font-weight: bold\">  6 </span><span style=\"font-weight: bold\">Consider Data Limitations</span>: Acknowledge potential data limitations and the rapid changes in stock markets    <span style=\"color: #000080; text-decoration-color: #000080\">┃</span>\n<span style=\"color: #000080; text-decoration-color: #000080\">┃</span> <span style=\"color: #808000; text-decoration-color: #808000; font-weight: bold\">    </span>and news.                                                                                                   <span style=\"color: #000080; text-decoration-color: #000080\">┃</span>\n<span style=\"color: #000080; text-decoration-color: #000080\">┃</span> <span style=\"color: #808000; text-decoration-color: #808000; font-weight: bold\">  7 </span><span style=\"font-weight: bold\">Tailor for Audience</span>: Ensure the report is structured to meet the audience's needs, whether investor-focused <span style=\"color: #000080; text-decoration-color: #000080\">┃</span>\n<span style=\"color: #000080; text-decoration-color: #000080\">┃</span> <span style=\"color: #808000; text-decoration-color: #808000; font-weight: bold\">    </span>or general.                                                                                                 <span style=\"color: #000080; text-decoration-color: #000080\">┃</span>\n<span style=\"color: #000080; text-decoration-color: #000080\">┃</span> <span style=\"color: #808000; text-decoration-color: #808000; font-weight: bold\">  8 </span><span style=\"font-weight: bold\">Present Objectively</span>: Avoid biases, presenting data objectively, especially regarding analyst                <span style=\"color: #000080; text-decoration-color: #000080\">┃</span>\n<span style=\"color: #000080; text-decoration-color: #000080\">┃</span> <span style=\"color: #808000; text-decoration-color: #808000; font-weight: bold\">    </span>recommendations.                                                                                            <span style=\"color: #000080; text-decoration-color: #000080\">┃</span>\n<span style=\"color: #000080; text-decoration-color: #000080\">┃</span> <span style=\"color: #808000; text-decoration-color: #808000; font-weight: bold\">  9 </span><span style=\"font-weight: bold\">Review for Accuracy</span>: Ensure the report is concise, comprehensive, and free from errors.                     <span style=\"color: #000080; text-decoration-color: #000080\">┃</span>\n<span style=\"color: #000080; text-decoration-color: #000080\">┃</span>                                                                                                                 <span style=\"color: #000080; text-decoration-color: #000080\">┃</span>\n<span style=\"color: #000080; text-decoration-color: #000080\">┃</span> The final report will include tables for clear data presentation and a balanced comparison of both companies.   <span style=\"color: #000080; text-decoration-color: #000080\">┃</span>\n<span style=\"color: #000080; text-decoration-color: #000080\">┃</span>                                                                                                                 <span style=\"color: #000080; text-decoration-color: #000080\">┃</span>\n<span style=\"color: #000080; text-decoration-color: #000080\">┃</span> <span style=\"color: #808000; text-decoration-color: #808000\">───────────────────────────────────────────────────────────────────────────────────────────────────────────────</span> <span style=\"color: #000080; text-decoration-color: #000080\">┃</span>\n<span style=\"color: #000080; text-decoration-color: #000080\">┃</span> <span style=\"font-weight: bold\">NVDA vs. TSLA Comparative Report</span>                                                                                <span style=\"color: #000080; text-decoration-color: #000080\">┃</span>\n<span style=\"color: #000080; text-decoration-color: #000080\">┃</span>                                                                                                                 <span style=\"color: #000080; text-decoration-color: #000080\">┃</span>\n<span style=\"color: #000080; text-decoration-color: #000080\">┃</span> <span style=\"font-weight: bold\">Introduction</span> This report provides a comparison of NVIDIA Corporation (NVDA) and Tesla, Inc. (TSLA), focusing on <span style=\"color: #000080; text-decoration-color: #000080\">┃</span>\n<span style=\"color: #000080; text-decoration-color: #000080\">┃</span> company overviews, stock performance, analyst recommendations, and recent news.                                 <span style=\"color: #000080; text-decoration-color: #000080\">┃</span>\n<span style=\"color: #000080; text-decoration-color: #000080\">┃</span>                                                                                                                 <span style=\"color: #000080; text-decoration-color: #000080\">┃</span>\n<span style=\"color: #000080; text-decoration-color: #000080\">┃</span> <span style=\"font-weight: bold\">Company Overviews</span>                                                                                               <span style=\"color: #000080; text-decoration-color: #000080\">┃</span>\n<span style=\"color: #000080; text-decoration-color: #000080\">┃</span>                                                                                                                 <span style=\"color: #000080; text-decoration-color: #000080\">┃</span>\n<span style=\"color: #000080; text-decoration-color: #000080\">┃</span>                                                                                                                 <span style=\"color: #000080; text-decoration-color: #000080\">┃</span>\n<span style=\"color: #000080; text-decoration-color: #000080\">┃</span>  <span style=\"font-weight: bold\"> Company </span> <span style=\"font-weight: bold\"> Industry                  </span> <span style=\"font-weight: bold\"> Market Capitalization        </span> <span style=\"font-weight: bold\"> Business Focus                         </span>  <span style=\"color: #000080; text-decoration-color: #000080\">┃</span>\n<span style=\"color: #000080; text-decoration-color: #000080\">┃</span>  ━━━━━━━━━━━━━━━━━━━━━━━━━━━━━━━━━━━━━━━━━━━━━━━━━━━━━━━━━━━━━━━━━━━━━━━━━━━━━━━━━━━━━━━━━━━━━━━━━━━━━━━━━━━━━  <span style=\"color: #000080; text-decoration-color: #000080\">┃</span>\n<span style=\"color: #000080; text-decoration-color: #000080\">┃</span>   NVDA      Technology/Semiconductors   [Data from get_company_info]   Specializes in graphics, AI, and         <span style=\"color: #000080; text-decoration-color: #000080\">┃</span>\n<span style=\"color: #000080; text-decoration-color: #000080\">┃</span>                                                                        high-performance computing               <span style=\"color: #000080; text-decoration-color: #000080\">┃</span>\n<span style=\"color: #000080; text-decoration-color: #000080\">┃</span>                                                                        technologies.                            <span style=\"color: #000080; text-decoration-color: #000080\">┃</span>\n<span style=\"color: #000080; text-decoration-color: #000080\">┃</span>   TSLA      Automotive/Energy           [Data from get_company_info]   Focuses on electric vehicles, clean      <span style=\"color: #000080; text-decoration-color: #000080\">┃</span>\n<span style=\"color: #000080; text-decoration-color: #000080\">┃</span>                                                                        energy, and energy storage products.     <span style=\"color: #000080; text-decoration-color: #000080\">┃</span>\n<span style=\"color: #000080; text-decoration-color: #000080\">┃</span>                                                                                                                 <span style=\"color: #000080; text-decoration-color: #000080\">┃</span>\n<span style=\"color: #000080; text-decoration-color: #000080\">┃</span>                                                                                                                 <span style=\"color: #000080; text-decoration-color: #000080\">┃</span>\n<span style=\"color: #000080; text-decoration-color: #000080\">┃</span> <span style=\"font-weight: bold\">Stock Performance</span>                                                                                               <span style=\"color: #000080; text-decoration-color: #000080\">┃</span>\n<span style=\"color: #000080; text-decoration-color: #000080\">┃</span>                                                                                                                 <span style=\"color: #000080; text-decoration-color: #000080\">┃</span>\n<span style=\"color: #000080; text-decoration-color: #000080\">┃</span>                                                                                                                 <span style=\"color: #000080; text-decoration-color: #000080\">┃</span>\n<span style=\"color: #000080; text-decoration-color: #000080\">┃</span>  <span style=\"font-weight: bold\"> Symbol </span> <span style=\"font-weight: bold\"> Current Stock Price                 </span> <span style=\"font-weight: bold\"> Market Cap                   </span>                                  <span style=\"color: #000080; text-decoration-color: #000080\">┃</span>\n<span style=\"color: #000080; text-decoration-color: #000080\">┃</span>  ━━━━━━━━━━━━━━━━━━━━━━━━━━━━━━━━━━━━━━━━━━━━━━━━━━━━━━━━━━━━━━━━━━━━━━━━━━━━━                                  <span style=\"color: #000080; text-decoration-color: #000080\">┃</span>\n<span style=\"color: #000080; text-decoration-color: #000080\">┃</span>   NVDA     [Data from get_current_stock_price]   [Data from get_company_info]                                   <span style=\"color: #000080; text-decoration-color: #000080\">┃</span>\n<span style=\"color: #000080; text-decoration-color: #000080\">┃</span>   TSLA     [Data from get_current_stock_price]   [Data from get_company_info]                                   <span style=\"color: #000080; text-decoration-color: #000080\">┃</span>\n<span style=\"color: #000080; text-decoration-color: #000080\">┃</span>                                                                                                                 <span style=\"color: #000080; text-decoration-color: #000080\">┃</span>\n<span style=\"color: #000080; text-decoration-color: #000080\">┃</span>                                                                                                                 <span style=\"color: #000080; text-decoration-color: #000080\">┃</span>\n<span style=\"color: #000080; text-decoration-color: #000080\">┃</span> <span style=\"font-weight: bold\">Analyst Recommendations</span>                                                                                         <span style=\"color: #000080; text-decoration-color: #000080\">┃</span>\n<span style=\"color: #000080; text-decoration-color: #000080\">┃</span>                                                                                                                 <span style=\"color: #000080; text-decoration-color: #000080\">┃</span>\n<span style=\"color: #000080; text-decoration-color: #000080\">┃</span>                                                                                                                 <span style=\"color: #000080; text-decoration-color: #000080\">┃</span>\n<span style=\"color: #000080; text-decoration-color: #000080\">┃</span>  <span style=\"font-weight: bold\"> Symbol </span> <span style=\"font-weight: bold\"> Recommendation                          </span> <span style=\"font-weight: bold\"> Target Price                            </span>                   <span style=\"color: #000080; text-decoration-color: #000080\">┃</span>\n<span style=\"color: #000080; text-decoration-color: #000080\">┃</span>  ━━━━━━━━━━━━━━━━━━━━━━━━━━━━━━━━━━━━━━━━━━━━━━━━━━━━━━━━━━━━━━━━━━━━━━━━━━━━━━━━━━━━━━━━━━━━                   <span style=\"color: #000080; text-decoration-color: #000080\">┃</span>\n<span style=\"color: #000080; text-decoration-color: #000080\">┃</span>   NVDA     [Data from get_analyst_recommendations]   [Data from get_analyst_recommendations]                    <span style=\"color: #000080; text-decoration-color: #000080\">┃</span>\n<span style=\"color: #000080; text-decoration-color: #000080\">┃</span>   TSLA     [Data from get_analyst_recommendations]   [Data from get_analyst_recommendations]                    <span style=\"color: #000080; text-decoration-color: #000080\">┃</span>\n<span style=\"color: #000080; text-decoration-color: #000080\">┃</span>                                                                                                                 <span style=\"color: #000080; text-decoration-color: #000080\">┃</span>\n<span style=\"color: #000080; text-decoration-color: #000080\">┃</span>                                                                                                                 <span style=\"color: #000080; text-decoration-color: #000080\">┃</span>\n<span style=\"color: #000080; text-decoration-color: #000080\">┃</span> <span style=\"font-weight: bold\">Recent News</span>                                                                                                     <span style=\"color: #000080; text-decoration-color: #000080\">┃</span>\n<span style=\"color: #000080; text-decoration-color: #000080\">┃</span>                                                                                                                 <span style=\"color: #000080; text-decoration-color: #000080\">┃</span>\n<span style=\"color: #000080; text-decoration-color: #000080\">┃</span> <span style=\"color: #808000; text-decoration-color: #808000; font-weight: bold\"> • </span><span style=\"font-weight: bold\">NVDA</span>: [Data from get_company_news]                                                                           <span style=\"color: #000080; text-decoration-color: #000080\">┃</span>\n<span style=\"color: #000080; text-decoration-color: #000080\">┃</span> <span style=\"color: #808000; text-decoration-color: #808000; font-weight: bold\"> • </span><span style=\"font-weight: bold\">TSLA</span>: [Data from get_company_news]                                                                           <span style=\"color: #000080; text-decoration-color: #000080\">┃</span>\n<span style=\"color: #000080; text-decoration-color: #000080\">┃</span>                                                                                                                 <span style=\"color: #000080; text-decoration-color: #000080\">┃</span>\n<span style=\"color: #000080; text-decoration-color: #000080\">┃</span> <span style=\"font-weight: bold\">Comparison and Conclusion</span>                                                                                       <span style=\"color: #000080; text-decoration-color: #000080\">┃</span>\n<span style=\"color: #000080; text-decoration-color: #000080\">┃</span>                                                                                                                 <span style=\"color: #000080; text-decoration-color: #000080\">┃</span>\n<span style=\"color: #000080; text-decoration-color: #000080\">┃</span> [Insert comparative analysis based on the data retrieved, highlighting key differences and similarities.]       <span style=\"color: #000080; text-decoration-color: #000080\">┃</span>\n<span style=\"color: #000080; text-decoration-color: #000080\">┃</span>                                                                                                                 <span style=\"color: #000080; text-decoration-color: #000080\">┃</span>\n<span style=\"color: #000080; text-decoration-color: #000080\">┃</span> This report provides a snapshot of NVDA and TSLA, offering insights into their market positions and recent      <span style=\"color: #000080; text-decoration-color: #000080\">┃</span>\n<span style=\"color: #000080; text-decoration-color: #000080\">┃</span> developments. For investment decisions, further fundamental and technical analysis is recommended.              <span style=\"color: #000080; text-decoration-color: #000080\">┃</span>\n<span style=\"color: #000080; text-decoration-color: #000080\">┃</span>                                                                                                                 <span style=\"color: #000080; text-decoration-color: #000080\">┃</span>\n<span style=\"color: #000080; text-decoration-color: #000080\">┃</span> <span style=\"color: #808000; text-decoration-color: #808000\">───────────────────────────────────────────────────────────────────────────────────────────────────────────────</span> <span style=\"color: #000080; text-decoration-color: #000080\">┃</span>\n<span style=\"color: #000080; text-decoration-color: #000080\">┃</span> This structured approach ensures a clear and informative comparison, aiding readers in understanding the        <span style=\"color: #000080; text-decoration-color: #000080\">┃</span>\n<span style=\"color: #000080; text-decoration-color: #000080\">┃</span> companies' standings and potential.                                                                             <span style=\"color: #000080; text-decoration-color: #000080\">┃</span>\n<span style=\"color: #000080; text-decoration-color: #000080\">┃</span>                                                                                                                 <span style=\"color: #000080; text-decoration-color: #000080\">┃</span>\n<span style=\"color: #000080; text-decoration-color: #000080\">┗━━━━━━━━━━━━━━━━━━━━━━━━━━━━━━━━━━━━━━━━━━━━━━━━━━━━━━━━━━━━━━━━━━━━━━━━━━━━━━━━━━━━━━━━━━━━━━━━━━━━━━━━━━━━━━━━━┛</span>\n</pre>\n"
                },
                "metadata": {}
              }
            ]
          }
        },
        "81b5a07550eb4555a86d65d633b533f2": {
          "model_module": "@jupyter-widgets/base",
          "model_name": "LayoutModel",
          "model_module_version": "1.2.0",
          "state": {
            "_model_module": "@jupyter-widgets/base",
            "_model_module_version": "1.2.0",
            "_model_name": "LayoutModel",
            "_view_count": null,
            "_view_module": "@jupyter-widgets/base",
            "_view_module_version": "1.2.0",
            "_view_name": "LayoutView",
            "align_content": null,
            "align_items": null,
            "align_self": null,
            "border": null,
            "bottom": null,
            "display": null,
            "flex": null,
            "flex_flow": null,
            "grid_area": null,
            "grid_auto_columns": null,
            "grid_auto_flow": null,
            "grid_auto_rows": null,
            "grid_column": null,
            "grid_gap": null,
            "grid_row": null,
            "grid_template_areas": null,
            "grid_template_columns": null,
            "grid_template_rows": null,
            "height": null,
            "justify_content": null,
            "justify_items": null,
            "left": null,
            "margin": null,
            "max_height": null,
            "max_width": null,
            "min_height": null,
            "min_width": null,
            "object_fit": null,
            "object_position": null,
            "order": null,
            "overflow": null,
            "overflow_x": null,
            "overflow_y": null,
            "padding": null,
            "right": null,
            "top": null,
            "visibility": null,
            "width": null
          }
        },
        "ce81938d9ae043aba6d3feec432e31d2": {
          "model_module": "@jupyter-widgets/output",
          "model_name": "OutputModel",
          "model_module_version": "1.0.0",
          "state": {
            "_dom_classes": [],
            "_model_module": "@jupyter-widgets/output",
            "_model_module_version": "1.0.0",
            "_model_name": "OutputModel",
            "_view_count": null,
            "_view_module": "@jupyter-widgets/output",
            "_view_module_version": "1.0.0",
            "_view_name": "OutputView",
            "layout": "IPY_MODEL_7f9895e2fa5047feba4e38cc918f713e",
            "msg_id": "",
            "outputs": [
              {
                "output_type": "display_data",
                "data": {
                  "text/plain": "\u001b[32m▰▰▰▱▱▱▱\u001b[0m Thinking...\n\u001b[36m┏━\u001b[0m\u001b[36m Message \u001b[0m\u001b[36m━━━━━━━━━━━━━━━━━━━━━━━━━━━━━━━━━━━━━━━━━━━━━━━━━━━━━━━━━━━━━━━━━━━━━━━━━━━━━━━━━━━━━━━━━━━━━━━━━━━━━━\u001b[0m\u001b[36m━┓\u001b[0m\n\u001b[36m┃\u001b[0m                                                                                                                 \u001b[36m┃\u001b[0m\n\u001b[36m┃\u001b[0m \u001b[32mWrite a blog post introduction about the benefits of remote work.\u001b[0m                                               \u001b[36m┃\u001b[0m\n\u001b[36m┃\u001b[0m                                                                                                                 \u001b[36m┃\u001b[0m\n\u001b[36m┗━━━━━━━━━━━━━━━━━━━━━━━━━━━━━━━━━━━━━━━━━━━━━━━━━━━━━━━━━━━━━━━━━━━━━━━━━━━━━━━━━━━━━━━━━━━━━━━━━━━━━━━━━━━━━━━━━┛\u001b[0m\n",
                  "text/html": "<pre style=\"white-space:pre;overflow-x:auto;line-height:normal;font-family:Menlo,'DejaVu Sans Mono',consolas,'Courier New',monospace\"><span style=\"color: #008000; text-decoration-color: #008000\">▰▰▰▱▱▱▱</span> Thinking...\n<span style=\"color: #008080; text-decoration-color: #008080\">┏━ Message ━━━━━━━━━━━━━━━━━━━━━━━━━━━━━━━━━━━━━━━━━━━━━━━━━━━━━━━━━━━━━━━━━━━━━━━━━━━━━━━━━━━━━━━━━━━━━━━━━━━━━━━┓</span>\n<span style=\"color: #008080; text-decoration-color: #008080\">┃</span>                                                                                                                 <span style=\"color: #008080; text-decoration-color: #008080\">┃</span>\n<span style=\"color: #008080; text-decoration-color: #008080\">┃</span> <span style=\"color: #008000; text-decoration-color: #008000\">Write a blog post introduction about the benefits of remote work.</span>                                               <span style=\"color: #008080; text-decoration-color: #008080\">┃</span>\n<span style=\"color: #008080; text-decoration-color: #008080\">┃</span>                                                                                                                 <span style=\"color: #008080; text-decoration-color: #008080\">┃</span>\n<span style=\"color: #008080; text-decoration-color: #008080\">┗━━━━━━━━━━━━━━━━━━━━━━━━━━━━━━━━━━━━━━━━━━━━━━━━━━━━━━━━━━━━━━━━━━━━━━━━━━━━━━━━━━━━━━━━━━━━━━━━━━━━━━━━━━━━━━━━━┛</span>\n</pre>\n"
                },
                "metadata": {}
              }
            ]
          }
        },
        "7f9895e2fa5047feba4e38cc918f713e": {
          "model_module": "@jupyter-widgets/base",
          "model_name": "LayoutModel",
          "model_module_version": "1.2.0",
          "state": {
            "_model_module": "@jupyter-widgets/base",
            "_model_module_version": "1.2.0",
            "_model_name": "LayoutModel",
            "_view_count": null,
            "_view_module": "@jupyter-widgets/base",
            "_view_module_version": "1.2.0",
            "_view_name": "LayoutView",
            "align_content": null,
            "align_items": null,
            "align_self": null,
            "border": null,
            "bottom": null,
            "display": null,
            "flex": null,
            "flex_flow": null,
            "grid_area": null,
            "grid_auto_columns": null,
            "grid_auto_flow": null,
            "grid_auto_rows": null,
            "grid_column": null,
            "grid_gap": null,
            "grid_row": null,
            "grid_template_areas": null,
            "grid_template_columns": null,
            "grid_template_rows": null,
            "height": null,
            "justify_content": null,
            "justify_items": null,
            "left": null,
            "margin": null,
            "max_height": null,
            "max_width": null,
            "min_height": null,
            "min_width": null,
            "object_fit": null,
            "object_position": null,
            "order": null,
            "overflow": null,
            "overflow_x": null,
            "overflow_y": null,
            "padding": null,
            "right": null,
            "top": null,
            "visibility": null,
            "width": null
          }
        },
        "1c5e91fa2dd54163a06491dbbf720a86": {
          "model_module": "@jupyter-widgets/output",
          "model_name": "OutputModel",
          "model_module_version": "1.0.0",
          "state": {
            "_dom_classes": [],
            "_model_module": "@jupyter-widgets/output",
            "_model_module_version": "1.0.0",
            "_model_name": "OutputModel",
            "_view_count": null,
            "_view_module": "@jupyter-widgets/output",
            "_view_module_version": "1.0.0",
            "_view_name": "OutputView",
            "layout": "IPY_MODEL_1c469628b92b4e85be7cd6c83ee90d0f",
            "msg_id": "",
            "outputs": [
              {
                "output_type": "display_data",
                "data": {
                  "text/plain": "\u001b[32m▰▰▰▰▱▱▱\u001b[0m Thinking...\n\u001b[36m┏━\u001b[0m\u001b[36m Message \u001b[0m\u001b[36m━━━━━━━━━━━━━━━━━━━━━━━━━━━━━━━━━━━━━━━━━━━━━━━━━━━━━━━━━━━━━━━━━━━━━━━━━━━━━━━━━━━━━━━━━━━━━━━━━━━━━━\u001b[0m\u001b[36m━┓\u001b[0m\n\u001b[36m┃\u001b[0m                                                                                                                 \u001b[36m┃\u001b[0m\n\u001b[36m┃\u001b[0m \u001b[32mCritique the following blog post introduction:\u001b[0m                                                                  \u001b[36m┃\u001b[0m\n\u001b[36m┃\u001b[0m                                                                                                                 \u001b[36m┃\u001b[0m\n\u001b[36m┃\u001b[0m \u001b[32mNone\u001b[0m                                                                                                            \u001b[36m┃\u001b[0m\n\u001b[36m┃\u001b[0m                                                                                                                 \u001b[36m┃\u001b[0m\n\u001b[36m┗━━━━━━━━━━━━━━━━━━━━━━━━━━━━━━━━━━━━━━━━━━━━━━━━━━━━━━━━━━━━━━━━━━━━━━━━━━━━━━━━━━━━━━━━━━━━━━━━━━━━━━━━━━━━━━━━━┛\u001b[0m\n",
                  "text/html": "<pre style=\"white-space:pre;overflow-x:auto;line-height:normal;font-family:Menlo,'DejaVu Sans Mono',consolas,'Courier New',monospace\"><span style=\"color: #008000; text-decoration-color: #008000\">▰▰▰▰▱▱▱</span> Thinking...\n<span style=\"color: #008080; text-decoration-color: #008080\">┏━ Message ━━━━━━━━━━━━━━━━━━━━━━━━━━━━━━━━━━━━━━━━━━━━━━━━━━━━━━━━━━━━━━━━━━━━━━━━━━━━━━━━━━━━━━━━━━━━━━━━━━━━━━━┓</span>\n<span style=\"color: #008080; text-decoration-color: #008080\">┃</span>                                                                                                                 <span style=\"color: #008080; text-decoration-color: #008080\">┃</span>\n<span style=\"color: #008080; text-decoration-color: #008080\">┃</span> <span style=\"color: #008000; text-decoration-color: #008000\">Critique the following blog post introduction:</span>                                                                  <span style=\"color: #008080; text-decoration-color: #008080\">┃</span>\n<span style=\"color: #008080; text-decoration-color: #008080\">┃</span>                                                                                                                 <span style=\"color: #008080; text-decoration-color: #008080\">┃</span>\n<span style=\"color: #008080; text-decoration-color: #008080\">┃</span> <span style=\"color: #008000; text-decoration-color: #008000\">None</span>                                                                                                            <span style=\"color: #008080; text-decoration-color: #008080\">┃</span>\n<span style=\"color: #008080; text-decoration-color: #008080\">┃</span>                                                                                                                 <span style=\"color: #008080; text-decoration-color: #008080\">┃</span>\n<span style=\"color: #008080; text-decoration-color: #008080\">┗━━━━━━━━━━━━━━━━━━━━━━━━━━━━━━━━━━━━━━━━━━━━━━━━━━━━━━━━━━━━━━━━━━━━━━━━━━━━━━━━━━━━━━━━━━━━━━━━━━━━━━━━━━━━━━━━━┛</span>\n</pre>\n"
                },
                "metadata": {}
              }
            ]
          }
        },
        "1c469628b92b4e85be7cd6c83ee90d0f": {
          "model_module": "@jupyter-widgets/base",
          "model_name": "LayoutModel",
          "model_module_version": "1.2.0",
          "state": {
            "_model_module": "@jupyter-widgets/base",
            "_model_module_version": "1.2.0",
            "_model_name": "LayoutModel",
            "_view_count": null,
            "_view_module": "@jupyter-widgets/base",
            "_view_module_version": "1.2.0",
            "_view_name": "LayoutView",
            "align_content": null,
            "align_items": null,
            "align_self": null,
            "border": null,
            "bottom": null,
            "display": null,
            "flex": null,
            "flex_flow": null,
            "grid_area": null,
            "grid_auto_columns": null,
            "grid_auto_flow": null,
            "grid_auto_rows": null,
            "grid_column": null,
            "grid_gap": null,
            "grid_row": null,
            "grid_template_areas": null,
            "grid_template_columns": null,
            "grid_template_rows": null,
            "height": null,
            "justify_content": null,
            "justify_items": null,
            "left": null,
            "margin": null,
            "max_height": null,
            "max_width": null,
            "min_height": null,
            "min_width": null,
            "object_fit": null,
            "object_position": null,
            "order": null,
            "overflow": null,
            "overflow_x": null,
            "overflow_y": null,
            "padding": null,
            "right": null,
            "top": null,
            "visibility": null,
            "width": null
          }
        },
        "47bd4fea979f47adb2b11951480ebebd": {
          "model_module": "@jupyter-widgets/output",
          "model_name": "OutputModel",
          "model_module_version": "1.0.0",
          "state": {
            "_dom_classes": [],
            "_model_module": "@jupyter-widgets/output",
            "_model_module_version": "1.0.0",
            "_model_name": "OutputModel",
            "_view_count": null,
            "_view_module": "@jupyter-widgets/output",
            "_view_module_version": "1.0.0",
            "_view_name": "OutputView",
            "layout": "IPY_MODEL_bf0acde43f164c09a75a598817c54285",
            "msg_id": "",
            "outputs": [
              {
                "output_type": "display_data",
                "data": {
                  "text/plain": "\u001b[32m▰▰▰▰▱▱▱\u001b[0m Thinking...\n\u001b[36m┏━\u001b[0m\u001b[36m Message \u001b[0m\u001b[36m━━━━━━━━━━━━━━━━━━━━━━━━━━━━━━━━━━━━━━━━━━━━━━━━━━━━━━━━━━━━━━━━━━━━━━━━━━━━━━━━━━━━━━━━━━━━━━━━━━━━━━\u001b[0m\u001b[36m━┓\u001b[0m\n\u001b[36m┃\u001b[0m                                                                                                                 \u001b[36m┃\u001b[0m\n\u001b[36m┃\u001b[0m \u001b[32mRevise the following blog post introduction based on the critique. Ensure it is under 200 words and easy to \u001b[0m    \u001b[36m┃\u001b[0m\n\u001b[36m┃\u001b[0m \u001b[32mread:\u001b[0m                                                                                                           \u001b[36m┃\u001b[0m\n\u001b[36m┃\u001b[0m                                                                                                                 \u001b[36m┃\u001b[0m\n\u001b[36m┃\u001b[0m \u001b[32mInitial Draft:\u001b[0m                                                                                                  \u001b[36m┃\u001b[0m\n\u001b[36m┃\u001b[0m \u001b[32mNone\u001b[0m                                                                                                            \u001b[36m┃\u001b[0m\n\u001b[36m┃\u001b[0m                                                                                                                 \u001b[36m┃\u001b[0m\n\u001b[36m┃\u001b[0m \u001b[32mCritique:\u001b[0m                                                                                                       \u001b[36m┃\u001b[0m\n\u001b[36m┃\u001b[0m \u001b[32mNone\u001b[0m                                                                                                            \u001b[36m┃\u001b[0m\n\u001b[36m┃\u001b[0m                                                                                                                 \u001b[36m┃\u001b[0m\n\u001b[36m┗━━━━━━━━━━━━━━━━━━━━━━━━━━━━━━━━━━━━━━━━━━━━━━━━━━━━━━━━━━━━━━━━━━━━━━━━━━━━━━━━━━━━━━━━━━━━━━━━━━━━━━━━━━━━━━━━━┛\u001b[0m\n",
                  "text/html": "<pre style=\"white-space:pre;overflow-x:auto;line-height:normal;font-family:Menlo,'DejaVu Sans Mono',consolas,'Courier New',monospace\"><span style=\"color: #008000; text-decoration-color: #008000\">▰▰▰▰▱▱▱</span> Thinking...\n<span style=\"color: #008080; text-decoration-color: #008080\">┏━ Message ━━━━━━━━━━━━━━━━━━━━━━━━━━━━━━━━━━━━━━━━━━━━━━━━━━━━━━━━━━━━━━━━━━━━━━━━━━━━━━━━━━━━━━━━━━━━━━━━━━━━━━━┓</span>\n<span style=\"color: #008080; text-decoration-color: #008080\">┃</span>                                                                                                                 <span style=\"color: #008080; text-decoration-color: #008080\">┃</span>\n<span style=\"color: #008080; text-decoration-color: #008080\">┃</span> <span style=\"color: #008000; text-decoration-color: #008000\">Revise the following blog post introduction based on the critique. Ensure it is under 200 words and easy to </span>    <span style=\"color: #008080; text-decoration-color: #008080\">┃</span>\n<span style=\"color: #008080; text-decoration-color: #008080\">┃</span> <span style=\"color: #008000; text-decoration-color: #008000\">read:</span>                                                                                                           <span style=\"color: #008080; text-decoration-color: #008080\">┃</span>\n<span style=\"color: #008080; text-decoration-color: #008080\">┃</span>                                                                                                                 <span style=\"color: #008080; text-decoration-color: #008080\">┃</span>\n<span style=\"color: #008080; text-decoration-color: #008080\">┃</span> <span style=\"color: #008000; text-decoration-color: #008000\">Initial Draft:</span>                                                                                                  <span style=\"color: #008080; text-decoration-color: #008080\">┃</span>\n<span style=\"color: #008080; text-decoration-color: #008080\">┃</span> <span style=\"color: #008000; text-decoration-color: #008000\">None</span>                                                                                                            <span style=\"color: #008080; text-decoration-color: #008080\">┃</span>\n<span style=\"color: #008080; text-decoration-color: #008080\">┃</span>                                                                                                                 <span style=\"color: #008080; text-decoration-color: #008080\">┃</span>\n<span style=\"color: #008080; text-decoration-color: #008080\">┃</span> <span style=\"color: #008000; text-decoration-color: #008000\">Critique:</span>                                                                                                       <span style=\"color: #008080; text-decoration-color: #008080\">┃</span>\n<span style=\"color: #008080; text-decoration-color: #008080\">┃</span> <span style=\"color: #008000; text-decoration-color: #008000\">None</span>                                                                                                            <span style=\"color: #008080; text-decoration-color: #008080\">┃</span>\n<span style=\"color: #008080; text-decoration-color: #008080\">┃</span>                                                                                                                 <span style=\"color: #008080; text-decoration-color: #008080\">┃</span>\n<span style=\"color: #008080; text-decoration-color: #008080\">┗━━━━━━━━━━━━━━━━━━━━━━━━━━━━━━━━━━━━━━━━━━━━━━━━━━━━━━━━━━━━━━━━━━━━━━━━━━━━━━━━━━━━━━━━━━━━━━━━━━━━━━━━━━━━━━━━━┛</span>\n</pre>\n"
                },
                "metadata": {}
              }
            ]
          }
        },
        "bf0acde43f164c09a75a598817c54285": {
          "model_module": "@jupyter-widgets/base",
          "model_name": "LayoutModel",
          "model_module_version": "1.2.0",
          "state": {
            "_model_module": "@jupyter-widgets/base",
            "_model_module_version": "1.2.0",
            "_model_name": "LayoutModel",
            "_view_count": null,
            "_view_module": "@jupyter-widgets/base",
            "_view_module_version": "1.2.0",
            "_view_name": "LayoutView",
            "align_content": null,
            "align_items": null,
            "align_self": null,
            "border": null,
            "bottom": null,
            "display": null,
            "flex": null,
            "flex_flow": null,
            "grid_area": null,
            "grid_auto_columns": null,
            "grid_auto_flow": null,
            "grid_auto_rows": null,
            "grid_column": null,
            "grid_gap": null,
            "grid_row": null,
            "grid_template_areas": null,
            "grid_template_columns": null,
            "grid_template_rows": null,
            "height": null,
            "justify_content": null,
            "justify_items": null,
            "left": null,
            "margin": null,
            "max_height": null,
            "max_width": null,
            "min_height": null,
            "min_width": null,
            "object_fit": null,
            "object_position": null,
            "order": null,
            "overflow": null,
            "overflow_x": null,
            "overflow_y": null,
            "padding": null,
            "right": null,
            "top": null,
            "visibility": null,
            "width": null
          }
        }
      }
    }
  },
  "cells": [
    {
      "cell_type": "code",
      "source": [
        "from google.colab import userdata\n",
        "userdata.get('Groq_api_key')"
      ],
      "metadata": {
        "colab": {
          "base_uri": "https://localhost:8080/",
          "height": 36
        },
        "id": "nvZckT240rVa",
        "outputId": "f86f787c-bbd6-4915-ad40-881efcc90dfe"
      },
      "execution_count": null,
      "outputs": [
        {
          "output_type": "execute_result",
          "data": {
            "text/plain": [
              "'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'"
            ],
            "application/vnd.google.colaboratory.intrinsic+json": {
              "type": "string"
            }
          },
          "metadata": {},
          "execution_count": 1
        }
      ]
    },
    {
      "cell_type": "code",
      "source": [
        "pip install agno groq"
      ],
      "metadata": {
        "colab": {
          "base_uri": "https://localhost:8080/"
        },
        "id": "R2Dq6hWk03wW",
        "outputId": "c20de591-fd53-4e26-ead2-0d0a466dd7e8"
      },
      "execution_count": null,
      "outputs": [
        {
          "output_type": "stream",
          "name": "stdout",
          "text": [
            "Requirement already satisfied: agno in /usr/local/lib/python3.11/dist-packages (1.7.2)\n",
            "Collecting groq\n",
            "  Downloading groq-0.29.0-py3-none-any.whl.metadata (16 kB)\n",
            "Requirement already satisfied: docstring-parser in /usr/local/lib/python3.11/dist-packages (from agno) (0.16)\n",
            "Requirement already satisfied: gitpython in /usr/local/lib/python3.11/dist-packages (from agno) (3.1.44)\n",
            "Requirement already satisfied: httpx in /usr/local/lib/python3.11/dist-packages (from agno) (0.28.1)\n",
            "Requirement already satisfied: pydantic-settings in /usr/local/lib/python3.11/dist-packages (from agno) (2.10.1)\n",
            "Requirement already satisfied: pydantic in /usr/local/lib/python3.11/dist-packages (from agno) (2.11.7)\n",
            "Requirement already satisfied: python-dotenv in /usr/local/lib/python3.11/dist-packages (from agno) (1.1.1)\n",
            "Requirement already satisfied: python-multipart in /usr/local/lib/python3.11/dist-packages (from agno) (0.0.20)\n",
            "Requirement already satisfied: pyyaml in /usr/local/lib/python3.11/dist-packages (from agno) (6.0.2)\n",
            "Requirement already satisfied: rich in /usr/local/lib/python3.11/dist-packages (from agno) (13.9.4)\n",
            "Requirement already satisfied: tomli in /usr/local/lib/python3.11/dist-packages (from agno) (2.2.1)\n",
            "Requirement already satisfied: typer in /usr/local/lib/python3.11/dist-packages (from agno) (0.16.0)\n",
            "Requirement already satisfied: typing-extensions in /usr/local/lib/python3.11/dist-packages (from agno) (4.14.1)\n",
            "Requirement already satisfied: anyio<5,>=3.5.0 in /usr/local/lib/python3.11/dist-packages (from groq) (4.9.0)\n",
            "Requirement already satisfied: distro<2,>=1.7.0 in /usr/local/lib/python3.11/dist-packages (from groq) (1.9.0)\n",
            "Requirement already satisfied: sniffio in /usr/local/lib/python3.11/dist-packages (from groq) (1.3.1)\n",
            "Requirement already satisfied: idna>=2.8 in /usr/local/lib/python3.11/dist-packages (from anyio<5,>=3.5.0->groq) (3.10)\n",
            "Requirement already satisfied: certifi in /usr/local/lib/python3.11/dist-packages (from httpx->agno) (2025.6.15)\n",
            "Requirement already satisfied: httpcore==1.* in /usr/local/lib/python3.11/dist-packages (from httpx->agno) (1.0.9)\n",
            "Requirement already satisfied: h11>=0.16 in /usr/local/lib/python3.11/dist-packages (from httpcore==1.*->httpx->agno) (0.16.0)\n",
            "Requirement already satisfied: annotated-types>=0.6.0 in /usr/local/lib/python3.11/dist-packages (from pydantic->agno) (0.7.0)\n",
            "Requirement already satisfied: pydantic-core==2.33.2 in /usr/local/lib/python3.11/dist-packages (from pydantic->agno) (2.33.2)\n",
            "Requirement already satisfied: typing-inspection>=0.4.0 in /usr/local/lib/python3.11/dist-packages (from pydantic->agno) (0.4.1)\n",
            "Requirement already satisfied: gitdb<5,>=4.0.1 in /usr/local/lib/python3.11/dist-packages (from gitpython->agno) (4.0.12)\n",
            "Requirement already satisfied: markdown-it-py>=2.2.0 in /usr/local/lib/python3.11/dist-packages (from rich->agno) (3.0.0)\n",
            "Requirement already satisfied: pygments<3.0.0,>=2.13.0 in /usr/local/lib/python3.11/dist-packages (from rich->agno) (2.19.2)\n",
            "Requirement already satisfied: click>=8.0.0 in /usr/local/lib/python3.11/dist-packages (from typer->agno) (8.2.1)\n",
            "Requirement already satisfied: shellingham>=1.3.0 in /usr/local/lib/python3.11/dist-packages (from typer->agno) (1.5.4)\n",
            "Requirement already satisfied: smmap<6,>=3.0.1 in /usr/local/lib/python3.11/dist-packages (from gitdb<5,>=4.0.1->gitpython->agno) (5.0.2)\n",
            "Requirement already satisfied: mdurl~=0.1 in /usr/local/lib/python3.11/dist-packages (from markdown-it-py>=2.2.0->rich->agno) (0.1.2)\n",
            "Downloading groq-0.29.0-py3-none-any.whl (130 kB)\n",
            "\u001b[2K   \u001b[90m━━━━━━━━━━━━━━━━━━━━━━━━━━━━━━━━━━━━━━━━\u001b[0m \u001b[32m130.8/130.8 kB\u001b[0m \u001b[31m3.7 MB/s\u001b[0m eta \u001b[36m0:00:00\u001b[0m\n",
            "\u001b[?25hInstalling collected packages: groq\n",
            "Successfully installed groq-0.29.0\n"
          ]
        }
      ]
    },
    {
      "cell_type": "code",
      "execution_count": null,
      "metadata": {
        "colab": {
          "base_uri": "https://localhost:8080/",
          "height": 1000,
          "referenced_widgets": [
            "e26162e0125d4361a4d91a14389b95c6",
            "81b5a07550eb4555a86d65d633b533f2"
          ]
        },
        "id": "FnVDmhVE0Xtx",
        "outputId": "e2636a78-4d1d-40c0-e503-238613e3931d"
      },
      "outputs": [
        {
          "output_type": "display_data",
          "data": {
            "text/plain": [
              "Output()"
            ],
            "application/vnd.jupyter.widget-view+json": {
              "version_major": 2,
              "version_minor": 0,
              "model_id": "e26162e0125d4361a4d91a14389b95c6"
            }
          },
          "metadata": {}
        },
        {
          "output_type": "display_data",
          "data": {
            "text/plain": [],
            "text/html": [
              "<pre style=\"white-space:pre;overflow-x:auto;line-height:normal;font-family:Menlo,'DejaVu Sans Mono',consolas,'Courier New',monospace\"></pre>\n"
            ]
          },
          "metadata": {}
        }
      ],
      "source": [
        "from textwrap import dedent\n",
        "from agno.agent import Agent\n",
        "from agno.models.groq import Groq\n",
        "from agno.tools.thinking import ThinkingTools\n",
        "from agno.tools.yfinance import YFinanceTools\n",
        "import os\n",
        "from google.colab import userdata\n",
        "\n",
        "# load_dotenv()\n",
        "\n",
        "GROQ_API_KEY = userdata.get(\"Groq_api_key\")\n",
        "\n",
        "thinking_agent = Agent(\n",
        "        model=Groq(id=\"deepseek-r1-distill-llama-70b\", api_key=GROQ_API_KEY),\n",
        "        tools=[ ThinkingTools(add_instructions=True),\n",
        "        YFinanceTools(\n",
        "            stock_price=True,\n",
        "            analyst_recommendations=True,\n",
        "            company_info=True,\n",
        "            company_news=True,\n",
        "        ),\n",
        "    ],\n",
        "    instructions=\"Use tables where possible\",\n",
        "    show_tool_calls=True,\n",
        "    markdown=True,\n",
        ")\n",
        "thinking_agent.print_response(\"Write a report comparing NVDA to TSLA\", stream=True)\n",
        "\n"
      ]
    },
    {
      "cell_type": "code",
      "source": [
        "from textwrap import dedent\n",
        "from agno.agent import Agent\n",
        "from agno.models.groq import Groq\n",
        "from agno.tools.thinking import ThinkingTools\n",
        "import os\n",
        "from google.colab import userdata\n",
        "\n",
        "# load_dotenv()\n",
        "\n",
        "GROQ_API_KEY = userdata.get(\"Groq_api_key\")\n",
        "\n",
        "class SelfCritiquingWriter:\n",
        "    def __init__(self, api_key: str):\n",
        "        self.api_key = api_key\n",
        "        self.initial_draft_agent = Agent(\n",
        "            model=Groq(id=\"deepseek-r1-distill-llama-70b\", api_key=self.api_key),\n",
        "            tools=[ThinkingTools(add_instructions=True)],\n",
        "            instructions=\"You are a blog post writer. Your task is to write a short, engaging introduction for a blog post on a given topic. The introduction should be concise and capture the reader's attention.\",\n",
        "            show_tool_calls=False,\n",
        "            markdown=True,\n",
        "        )\n",
        "\n",
        "        self.critique_agent = Agent(\n",
        "            model=Groq(id=\"deepseek-r1-distill-llama-70b\", api_key=self.api_key),\n",
        "            tools=[ThinkingTools(add_instructions=True)],\n",
        "            instructions=dedent(\"\"\"\n",
        "                You are a critical editor. Your task is to review a blog post introduction and provide constructive feedback on its clarity, tone, and conciseness.\n",
        "                Focus on identifying areas for improvement to make the introduction more engaging and easier to understand for a general audience.\n",
        "                Your feedback should be actionable and specific. Do not rewrite the introduction, just provide critique.\n",
        "                \"\"\"),\n",
        "            show_tool_calls=False,\n",
        "            markdown=True,\n",
        "        )\n",
        "\n",
        "        self.revision_agent = Agent(\n",
        "            model=Groq(id=\"deepseek-r1-distill-llama-70b\", api_key=self.api_key),\n",
        "            tools=[ThinkingTools(add_instructions=True)],\n",
        "            instructions=dedent(\"\"\"\n",
        "                You are a meticulous reviser. Your task is to take an initial blog post introduction and a critique, and then rewrite the introduction based on the feedback.\n",
        "                The revised introduction should be clear, engaging, concise, and easy to read for a general audience.\n",
        "                Ensure the final output is no more than 200 words. Do not include any critique or additional commentary in your final output, only the revised introduction.\n",
        "                \"\"\"),\n",
        "            show_tool_calls=False,\n",
        "            markdown=True,\n",
        "        )\n",
        "\n",
        "    def write_and_critique(self, topic: str) -> str:\n",
        "        print(f\"\\n--- Generating initial draft for: {topic} ---\")\n",
        "        initial_draft = self.initial_draft_agent.print_response(\n",
        "            f\"Write a blog post introduction about {topic}.\", stream=False\n",
        "        )\n",
        "        print(f\"Initial Draft:\\n{initial_draft}\")\n",
        "\n",
        "        print(\"\\n--- Critiquing initial draft ---\")\n",
        "        critique = self.critique_agent.print_response(\n",
        "            f\"Critique the following blog post introduction:\\n\\n{initial_draft}\", stream=False\n",
        "        )\n",
        "        print(f\"Critique:\\n{critique}\")\n",
        "\n",
        "        print(\"\\n--- Revising draft based on critique ---\")\n",
        "        final_version = self.revision_agent.print_response(\n",
        "            f\"Revise the following blog post introduction based on the critique. Ensure it is under 200 words and easy to read:\\n\\nInitial Draft:\\n{initial_draft}\\n\\nCritique:\\n{critique}\", stream=False\n",
        "        )\n",
        "        print(f\"Final Version:\\n{final_version}\")\n",
        "\n",
        "        return final_version\n",
        "\n",
        "if __name__ == \"__main__\":\n",
        "    writer = SelfCritiquingWriter(api_key=GROQ_API_KEY)\n",
        "    final_post = writer.write_and_critique(\"the benefits of remote work\")\n",
        "    print(f\"\\n--- Final Polished Blog Post Introduction ---\")\n",
        "    print(final_post)"
      ],
      "metadata": {
        "colab": {
          "base_uri": "https://localhost:8080/",
          "height": 725,
          "referenced_widgets": [
            "ce81938d9ae043aba6d3feec432e31d2",
            "7f9895e2fa5047feba4e38cc918f713e",
            "1c5e91fa2dd54163a06491dbbf720a86",
            "1c469628b92b4e85be7cd6c83ee90d0f",
            "47bd4fea979f47adb2b11951480ebebd",
            "bf0acde43f164c09a75a598817c54285"
          ]
        },
        "id": "FiNiyiwB03RN",
        "outputId": "8dd9a913-e958-4c6d-9c3b-fd5c7d678804"
      },
      "execution_count": null,
      "outputs": [
        {
          "output_type": "stream",
          "name": "stdout",
          "text": [
            "\n",
            "--- Generating initial draft for: the benefits of remote work ---\n"
          ]
        },
        {
          "output_type": "display_data",
          "data": {
            "text/plain": [
              "Output()"
            ],
            "application/vnd.jupyter.widget-view+json": {
              "version_major": 2,
              "version_minor": 0,
              "model_id": "ce81938d9ae043aba6d3feec432e31d2"
            }
          },
          "metadata": {}
        },
        {
          "output_type": "display_data",
          "data": {
            "text/plain": [],
            "text/html": [
              "<pre style=\"white-space:pre;overflow-x:auto;line-height:normal;font-family:Menlo,'DejaVu Sans Mono',consolas,'Courier New',monospace\"></pre>\n"
            ]
          },
          "metadata": {}
        },
        {
          "output_type": "stream",
          "name": "stdout",
          "text": [
            "Initial Draft:\n",
            "None\n",
            "\n",
            "--- Critiquing initial draft ---\n"
          ]
        },
        {
          "output_type": "display_data",
          "data": {
            "text/plain": [
              "Output()"
            ],
            "application/vnd.jupyter.widget-view+json": {
              "version_major": 2,
              "version_minor": 0,
              "model_id": "1c5e91fa2dd54163a06491dbbf720a86"
            }
          },
          "metadata": {}
        },
        {
          "output_type": "display_data",
          "data": {
            "text/plain": [],
            "text/html": [
              "<pre style=\"white-space:pre;overflow-x:auto;line-height:normal;font-family:Menlo,'DejaVu Sans Mono',consolas,'Courier New',monospace\"></pre>\n"
            ]
          },
          "metadata": {}
        },
        {
          "output_type": "stream",
          "name": "stdout",
          "text": [
            "Critique:\n",
            "None\n",
            "\n",
            "--- Revising draft based on critique ---\n"
          ]
        },
        {
          "output_type": "display_data",
          "data": {
            "text/plain": [
              "Output()"
            ],
            "application/vnd.jupyter.widget-view+json": {
              "version_major": 2,
              "version_minor": 0,
              "model_id": "47bd4fea979f47adb2b11951480ebebd"
            }
          },
          "metadata": {}
        },
        {
          "output_type": "display_data",
          "data": {
            "text/plain": [],
            "text/html": [
              "<pre style=\"white-space:pre;overflow-x:auto;line-height:normal;font-family:Menlo,'DejaVu Sans Mono',consolas,'Courier New',monospace\"></pre>\n"
            ]
          },
          "metadata": {}
        },
        {
          "output_type": "stream",
          "name": "stdout",
          "text": [
            "Final Version:\n",
            "None\n",
            "\n",
            "--- Final Polished Blog Post Introduction ---\n",
            "None\n"
          ]
        }
      ]
    },
    {
      "cell_type": "code",
      "source": [
        "from textwrap import dedent\n",
        "from agno.agent import Agent\n",
        "from agno.models.groq import Groq\n",
        "from agno.tools.thinking import ThinkingTools\n",
        "import os\n",
        "from google.colab import userdata  # If you're running this in Colab\n",
        "\n",
        "GROQ_API_KEY = userdata.get(\"Groq_api_key\")  # or use os.getenv(\"GROQ_API_KEY\") if from .env\n",
        "\n",
        "class SelfCritiquingWriter:\n",
        "    def __init__(self, api_key: str):\n",
        "        self.api_key = api_key\n",
        "        self.initial_draft_agent = Agent(\n",
        "            model=Groq(id=\"deepseek-r1-distill-llama-70b\", api_key=self.api_key),\n",
        "            tools=[ThinkingTools(add_instructions=True)],\n",
        "            instructions=\"You are a blog post writer. Your task is to write a short, engaging introduction for a blog post on a given topic. The introduction should be concise and capture the reader's attention.\",\n",
        "            show_tool_calls=False,\n",
        "            markdown=True,\n",
        "        )\n",
        "\n",
        "        self.critique_agent = Agent(\n",
        "            model=Groq(id=\"deepseek-r1-distill-llama-70b\", api_key=self.api_key),\n",
        "            tools=[ThinkingTools(add_instructions=True)],\n",
        "            instructions=dedent(\"\"\"\n",
        "                You are a critical editor. Your task is to review a blog post introduction and provide constructive feedback on its clarity, tone, and conciseness.\n",
        "                Focus on identifying areas for improvement to make the introduction more engaging and easier to understand for a general audience.\n",
        "                Your feedback should be actionable and specific. Do not rewrite the introduction, just provide critique.\n",
        "            \"\"\"),\n",
        "            show_tool_calls=False,\n",
        "            markdown=True,\n",
        "        )\n",
        "\n",
        "        self.revision_agent = Agent(\n",
        "            model=Groq(id=\"deepseek-r1-distill-llama-70b\", api_key=self.api_key),\n",
        "            tools=[ThinkingTools(add_instructions=True)],\n",
        "            instructions=dedent(\"\"\"\n",
        "                You are a meticulous reviser. Your task is to take an initial blog post introduction and a critique, and then rewrite the introduction based on the feedback.\n",
        "                The revised introduction should be clear, engaging, concise, and easy to read for a general audience.\n",
        "                Ensure the final output is no more than 200 words. Do not include any critique or additional commentary in your final output, only the revised introduction.\n",
        "            \"\"\"),\n",
        "            show_tool_calls=False,\n",
        "            markdown=True,\n",
        "        )\n",
        "\n",
        "    def write_and_critique(self, topic: str) -> str:\n",
        "        print(f\"\\n--- Generating initial draft for: {topic} ---\")\n",
        "        initial_draft_generator = self.initial_draft_agent.run(\n",
        "            f\"Write a blog post introduction about {topic}.\", stream=True\n",
        "        )\n",
        "        initial_draft = \"\".join([chunk.content for chunk in initial_draft_generator if chunk and chunk.content])\n",
        "        print(f\"Initial Draft:\\n{initial_draft}\")\n",
        "\n",
        "        print(\"\\n--- Critiquing initial draft ---\")\n",
        "        critique_generator = self.critique_agent.run(\n",
        "            f\"Critique the following blog post introduction:\\n\\n{initial_draft}\", stream=True\n",
        "        )\n",
        "        critique = \"\".join([chunk.content for chunk in critique_generator if chunk and chunk.content])\n",
        "        print(f\"Critique:\\n{critique}\")\n",
        "\n",
        "        print(\"\\n--- Revising draft based on critique ---\")\n",
        "        final_version_generator = self.revision_agent.run(\n",
        "            f\"Revise the following blog post introduction based on the critique. Ensure it is under 200 words and easy to read:\\n\\nInitial Draft:\\n{initial_draft}\\n\\nCritique:\\n{critique}\",\n",
        "            stream=True\n",
        "        )\n",
        "        final_version = \"\".join([chunk.content for chunk in final_version_generator if chunk and chunk.content])\n",
        "        print(f\"Final Version:\\n{final_version}\")\n",
        "\n",
        "        return final_version\n",
        "\n",
        "if __name__ == \"__main__\":\n",
        "    writer = SelfCritiquingWriter(api_key=GROQ_API_KEY)\n",
        "    final_post = writer.write_and_critique(\"the benefits of remote work\")\n",
        "    print(f\"\\n--- Final Polished Blog Post Introduction ---\")\n",
        "    print(final_post)"
      ],
      "metadata": {
        "colab": {
          "base_uri": "https://localhost:8080/"
        },
        "id": "uMVb4cLW01uj",
        "outputId": "216aade2-6543-45dd-9e4f-77a3a8116638"
      },
      "execution_count": null,
      "outputs": [
        {
          "output_type": "stream",
          "name": "stdout",
          "text": [
            "\n",
            "--- Generating initial draft for: the benefits of remote work ---\n",
            "Initial Draft:\n",
            "# Embracing the Future of Work: The Benefits of Remote Work\n",
            "\n",
            "In today's rapidly evolving work culture, remote work has emerged as more than just a trend—it's a transformative shift that's reshaping how we approach our careers and lives. With the flexibility to work from anywhere, remote work offers a multitude of benefits, from improved work-life balance and increased productivity to cost savings and a reduced environmental impact. For employers, it opens doors to a global talent pool, fostering innovation and growth. Are you ready to embrace this new era of work? Dive into our blog post to explore the advantages of remote work and discover how it can revolutionize your professional journey.\n",
            "\n",
            "--- Critiquing initial draft ---\n",
            "Critique:\n",
            "### Feedback on Blog Post Introduction: \"Embracing the Future of Work: The Benefits of Remote Work\"\n",
            "\n",
            "#### **Clarity**\n",
            "- The introduction is clear and effectively conveys the significance of remote work in the modern workplace.\n",
            "- However, the second sentence is slightly overloaded with information (e.g., \"improved work-life balance, increased productivity, cost savings, and a reduced environmental impact\"). Consider breaking this into shorter, more digestible sentences or grouping related ideas together for better readability.\n",
            "- The phrase \"reshaping how we approach our careers and lives\" is a bit vague. Adding a specific example or consequence could make it more concrete and impactful.\n",
            "\n",
            "#### **Tone**\n",
            "- The tone is professional and optimistic, which is appropriate for a general audience.\n",
            "- The closing question (\"Are you ready to embrace this new era of work?\") is engaging, but it could be more compelling if tied to a specific benefit or statistic to draw the reader in further.\n",
            "- The phrase \"dive into our blog post\" feels slightly informal compared to the rest of the introduction. Consider using a phrase like \"explore in this blog post\" to maintain consistency.\n",
            "\n",
            "#### **Conciseness**\n",
            "- The introduction is concise overall, but some sentences could be tightened for greater impact. For example, \"With the flexibility to work from anywhere, remote work offers a multitude of benefits\" could be simplified to \"Remote work offers a multitude of benefits, including the flexibility to work from anywhere.\"\n",
            "- The third sentence about employers (\"For employers, it opens doors to a global talent pool, fostering innovation and growth\") is strong but could be more concise. Consider combining it with the previous sentence or breaking it into two shorter sentences for better flow.\n",
            "\n",
            "#### **Additional Suggestions**\n",
            "- The introduction could benefit from a hook or surprising statistic at the beginning to grab the reader's attention immediately. For example, \"Did you know that 70% of professionals now prefer remote work?\"\n",
            "- The phrase \"transformative shift\" is a bit abstract. Consider replacing it with a more specific descriptor, such as \"fundamental change\" or \"revolutionary change,\" to make it more relatable.\n",
            "\n",
            "Overall, the introduction is well-written and effectively communicates the importance of remote work. With a few tweaks to improve clarity, tone, and conciseness, it could be even more engaging and impactful for a general audience.\n",
            "\n",
            "--- Revising draft based on critique ---\n",
            "Final Version:\n",
            "# Embracing the Future of Work: The Benefits of Remote Work\n",
            "\n",
            "Did you know that 70% of professionals now prefer remote work? This fundamental change in work culture is reshaping how we approach our careers and lives. Remote work offers a multitude of benefits, including the flexibility to work from anywhere, which leads to improved work-life balance and increased productivity. It also results in cost savings and a reduced environmental impact. For employers, this shift opens doors to a global talent pool, fostering innovation and growth. Ready to explore how remote work can revolutionize your professional journey? Discover the advantages in this blog post and find out how you can embrace this new era of work.\n",
            "\n",
            "--- Final Polished Blog Post Introduction ---\n",
            "# Embracing the Future of Work: The Benefits of Remote Work\n",
            "\n",
            "Did you know that 70% of professionals now prefer remote work? This fundamental change in work culture is reshaping how we approach our careers and lives. Remote work offers a multitude of benefits, including the flexibility to work from anywhere, which leads to improved work-life balance and increased productivity. It also results in cost savings and a reduced environmental impact. For employers, this shift opens doors to a global talent pool, fostering innovation and growth. Ready to explore how remote work can revolutionize your professional journey? Discover the advantages in this blog post and find out how you can embrace this new era of work.\n"
          ]
        }
      ]
    },
    {
      "cell_type": "code",
      "source": [
        "from textwrap import dedent\n",
        "from agno.agent import Agent\n",
        "from agno.team.team import Team\n",
        "from agno.models.groq import Groq\n",
        "from agno.tools.thinking import ThinkingTools\n",
        "from google.colab import userdata\n",
        "\n",
        "GROQ_API_KEY = userdata.get(\"Groq_api_key\")\n",
        "\n",
        "# 1️⃣ Writer Agent\n",
        "writer = Agent(\n",
        "    name=\"Blog Writer\",\n",
        "    role=\"Draft an engaging, concise blog intro\",\n",
        "    model=Groq(id=\"deepseek-r1-distill-llama-70b\", api_key=GROQ_API_KEY),\n",
        "    tools=[ThinkingTools(add_instructions=True)],\n",
        "    instructions=\"Write a blog post introduction on the given topic (up to 200 words).\",\n",
        "    markdown=True,\n",
        "    show_tool_calls=True,  # show internal thought/tool steps\n",
        ")\n",
        "\n",
        "# 2️⃣ Critique Agent\n",
        "critic = Agent(\n",
        "    name=\"Critique Agent\",\n",
        "    role=\"Provide actionable feedback on clarity, tone, conciseness\",\n",
        "    model=Groq(id=\"deepseek-r1-distill-llama-70b\", api_key=GROQ_API_KEY),\n",
        "    tools=[ThinkingTools(add_instructions=True)],\n",
        "    instructions=dedent(\"\"\"\n",
        "        You're an editor. Review the intro and suggest improvements:\n",
        "        - clarity\n",
        "        - engagement\n",
        "        - brevity\n",
        "    \"\"\"),\n",
        "    markdown=True,\n",
        "    show_tool_calls=True,\n",
        ")\n",
        "\n",
        "# 3️⃣ Revision Agent\n",
        "revisor = Agent(\n",
        "    name=\"Revision Agent\",\n",
        "    role=\"Revise the introduction based on critique\",\n",
        "    model=Groq(id=\"deepseek-r1-distill-llama-70b\", api_key=GROQ_API_KEY),\n",
        "    tools=[ThinkingTools(add_instructions=True)],\n",
        "    instructions=dedent(\"\"\"\n",
        "        You're a reviser. Incorporate the critique to improve the intro:\n",
        "        - clear, engaging, concise (<200 words)\n",
        "        - output only the final intro\n",
        "    \"\"\"),\n",
        "    markdown=True,\n",
        "    show_tool_calls=True,\n",
        ")\n",
        "\n",
        "# 👥 Team with step-by-step output\n",
        "blog_team = Team(\n",
        "    name=\"Blog Writing Team\",\n",
        "    mode=\"pipeline\",\n",
        "    members=[writer, critic, revisor],\n",
        "    model=Groq(id=\"deepseek-r1-distill-llama-70b\", api_key=GROQ_API_KEY), # Explicitly set model for the team\n",
        "    instructions=[\n",
        "        \"Chain agents: writer → critic → revisor.\",\n",
        "        \"Final output: the revised introduction only.\"\n",
        "    ],\n",
        "    markdown=True,\n",
        "    show_tool_calls = True,\n",
        "    show_members_responses=True,  # this will print each agent’s output\n",
        ")\n",
        "\n",
        "def generate_intro(topic: str, stream: bool = False):\n",
        "    prompt = f\"Topic: {topic}\"\n",
        "    if stream:\n",
        "        for chunk in blog_team.run(prompt, stream=True):\n",
        "            print(chunk.content, end=\"\", flush=True)\n",
        "    else:\n",
        "        result = blog_team.run(prompt)\n",
        "        print(result)\n",
        "\n",
        "if __name__ == \"__main__\":\n",
        "    generate_intro(\"Why is machine learning important?\", stream=False)\n"
      ],
      "metadata": {
        "colab": {
          "base_uri": "https://localhost:8080/"
        },
        "id": "3xW3Fn4e86Hu",
        "outputId": "1ced22f3-bca3-4b21-9e7d-1ef126d1bad0"
      },
      "execution_count": null,
      "outputs": [
        {
          "output_type": "stream",
          "name": "stdout",
          "text": [
            "TeamRunResponse(content=\"<think>\\nOkay, so I need to figure out why machine learning is important. Hmm, where do I start? I guess machine learning is a type of artificial intelligence that allows systems to learn from data without being explicitly programmed. That sounds pretty powerful. \\n\\nFirst, maybe I should think about the applications. Like, how is machine learning used in real life? I know it's used in things like recommendation systems on Netflix or Spotify. That's pretty cool because it personalizes what we watch or listen to. But why is that important? Well, it makes the user experience better, right? People get content that's more relevant to them, which keeps them engaged longer.\\n\\nThen there's healthcare. I've heard that machine learning can help with diagnosing diseases. Maybe it can analyze medical images or patient data to predict outcomes. That could lead to earlier detection of illnesses and better treatment plans. That's definitely important because it can save lives.\\n\\nAnother area is finance. Machine learning can detect fraud by recognizing patterns in transactions that don't seem normal. That helps protect people's money and maintain trust in financial systems. Plus, it can help in algorithmic trading, which might make markets more efficient.\\n\\nIn manufacturing, machine learning can predict when equipment might fail, allowing for preemptive maintenance. This can reduce downtime and save companies money. It can also optimize supply chains, making production more efficient.\\n\\nBut wait, is machine learning only about these big applications? What about everyday uses? Like virtual assistants, such as Siri or Alexa, use machine learning to understand and respond to voice commands. That's pretty common now, but it's still an important part of how we interact with technology.\\n\\nI also wonder about the ethical side. Machine learning can have biases if the data it's trained on is biased. That's a problem because it can lead to unfair outcomes in areas like hiring or law enforcement. So, understanding the importance of machine learning also means addressing these issues to ensure it's used responsibly.\\n\\nOn a more technical level, machine learning allows for automation of complex tasks. Instead of writing code for every possible scenario, the system can learn from data and improve over time. This can lead to innovations that we might not have thought possible yet.\\n\\nEducation is another area. Machine learning can help personalize learning experiences for students. Adaptive learning systems can adjust the difficulty of material based on a student's performance, helping them learn more effectively.\\n\\nEnvironmental applications come to mind too. Machine learning can analyze satellite data to monitor deforestation or track wildlife populations. It can also optimize energy consumption in buildings and grids, leading to more sustainable practices.\\n\\nSo, putting it all together, machine learning is important because it drives innovation, improves efficiency, and enables personalization across various industries. It helps solve complex problems that would be difficult or time-consuming for humans to handle on their own. However, it's crucial to use it responsibly to avoid negative consequences.\\n\\nI think I've covered a lot of points, but I should make sure I'm not missing anything. Maybe the importance also lies in its ability to scale solutions. For example, once a machine learning model is trained, it can be deployed widely without much additional cost. This scalability makes it a valuable tool for businesses and organizations looking to expand their reach and impact.\\n\\nAlso, considering the future, machine learning will likely play a key role in emerging technologies like autonomous vehicles, advanced robotics, and the Internet of Things. As these technologies develop, the importance of machine learning will only grow.\\n\\nIn summary, machine learning is important because it enhances decision-making, automates processes, drives innovation, and has a wide range of applications across industries. It helps tackle complex challenges and improve outcomes, making it a fundamental technology for the future.\\n</think>\\n\\nMachine learning is important because it enhances decision-making, automates processes, and drives innovation across various industries. It improves user experiences through personalization, aids in healthcare with early disease detection, optimizes financial transactions, and boosts manufacturing efficiency. Additionally, it supports environmental sustainability and scalable solutions, while addressing ethical considerations to ensure responsible use. As technology advances, machine learning will remain a cornerstone in emerging fields like autonomous vehicles and robotics, making it a fundamental tool for solving complex challenges and improving future outcomes.\", content_type='str', thinking=None, messages=[Message(role='system', content=\"You are the leader of a team and sub-teams of AI Agents.\\nYour task is to coordinate the team to complete the user's request.\\n\\nHere are the members in your team:\\n<team_members>\\n - Agent 1:\\n   - ID: blog-writer\\n   - Name: Blog Writer\\n   - Role: Draft an engaging, concise blog intro\\n   - Member tools:\\n    - think\\n - Agent 2:\\n   - ID: critique-agent\\n   - Name: Critique Agent\\n   - Role: Provide actionable feedback on clarity, tone, conciseness\\n   - Member tools:\\n    - think\\n - Agent 3:\\n   - ID: revision-agent\\n   - Name: Revision Agent\\n   - Role: Revise the introduction based on critique\\n   - Member tools:\\n    - think\\n</team_members>\\n\\n<how_to_respond>\\n</how_to_respond>\\n\\nYour name is: Blog Writing Team\\n\\n<instructions>\\n- Chain agents: writer → critic → revisor.\\n- Final output: the revised introduction only.\\n</instructions>\\n\\n<additional_information>\\n- Use markdown to format your answers.\\n</additional_information>\", name=None, tool_call_id=None, tool_calls=None, audio=None, images=None, videos=None, files=None, audio_output=None, image_output=None, thinking=None, redacted_thinking=None, provider_data=None, citations=None, reasoning_content=None, tool_name=None, tool_args=None, tool_call_error=None, stop_after_tool_call=False, add_to_agent_memory=True, from_history=False, metrics=MessageMetrics(input_tokens=0, output_tokens=0, total_tokens=0, audio_tokens=0, input_audio_tokens=0, output_audio_tokens=0, cached_tokens=0, cache_write_tokens=0, reasoning_tokens=0, prompt_tokens=0, completion_tokens=0, prompt_tokens_details=None, completion_tokens_details=None, additional_metrics=None, time=None, time_to_first_token=None, timer=None), references=None, created_at=1752235455), Message(role='user', content='Topic: Why is machine learning important?', name=None, tool_call_id=None, tool_calls=None, audio=None, images=None, videos=None, files=None, audio_output=None, image_output=None, thinking=None, redacted_thinking=None, provider_data=None, citations=None, reasoning_content=None, tool_name=None, tool_args=None, tool_call_error=None, stop_after_tool_call=False, add_to_agent_memory=True, from_history=False, metrics=MessageMetrics(input_tokens=0, output_tokens=0, total_tokens=0, audio_tokens=0, input_audio_tokens=0, output_audio_tokens=0, cached_tokens=0, cache_write_tokens=0, reasoning_tokens=0, prompt_tokens=0, completion_tokens=0, prompt_tokens_details=None, completion_tokens_details=None, additional_metrics=None, time=None, time_to_first_token=None, timer=None), references=None, created_at=1752235455), Message(role='assistant', content=\"<think>\\nOkay, so I need to figure out why machine learning is important. Hmm, where do I start? I guess machine learning is a type of artificial intelligence that allows systems to learn from data without being explicitly programmed. That sounds pretty powerful. \\n\\nFirst, maybe I should think about the applications. Like, how is machine learning used in real life? I know it's used in things like recommendation systems on Netflix or Spotify. That's pretty cool because it personalizes what we watch or listen to. But why is that important? Well, it makes the user experience better, right? People get content that's more relevant to them, which keeps them engaged longer.\\n\\nThen there's healthcare. I've heard that machine learning can help with diagnosing diseases. Maybe it can analyze medical images or patient data to predict outcomes. That could lead to earlier detection of illnesses and better treatment plans. That's definitely important because it can save lives.\\n\\nAnother area is finance. Machine learning can detect fraud by recognizing patterns in transactions that don't seem normal. That helps protect people's money and maintain trust in financial systems. Plus, it can help in algorithmic trading, which might make markets more efficient.\\n\\nIn manufacturing, machine learning can predict when equipment might fail, allowing for preemptive maintenance. This can reduce downtime and save companies money. It can also optimize supply chains, making production more efficient.\\n\\nBut wait, is machine learning only about these big applications? What about everyday uses? Like virtual assistants, such as Siri or Alexa, use machine learning to understand and respond to voice commands. That's pretty common now, but it's still an important part of how we interact with technology.\\n\\nI also wonder about the ethical side. Machine learning can have biases if the data it's trained on is biased. That's a problem because it can lead to unfair outcomes in areas like hiring or law enforcement. So, understanding the importance of machine learning also means addressing these issues to ensure it's used responsibly.\\n\\nOn a more technical level, machine learning allows for automation of complex tasks. Instead of writing code for every possible scenario, the system can learn from data and improve over time. This can lead to innovations that we might not have thought possible yet.\\n\\nEducation is another area. Machine learning can help personalize learning experiences for students. Adaptive learning systems can adjust the difficulty of material based on a student's performance, helping them learn more effectively.\\n\\nEnvironmental applications come to mind too. Machine learning can analyze satellite data to monitor deforestation or track wildlife populations. It can also optimize energy consumption in buildings and grids, leading to more sustainable practices.\\n\\nSo, putting it all together, machine learning is important because it drives innovation, improves efficiency, and enables personalization across various industries. It helps solve complex problems that would be difficult or time-consuming for humans to handle on their own. However, it's crucial to use it responsibly to avoid negative consequences.\\n\\nI think I've covered a lot of points, but I should make sure I'm not missing anything. Maybe the importance also lies in its ability to scale solutions. For example, once a machine learning model is trained, it can be deployed widely without much additional cost. This scalability makes it a valuable tool for businesses and organizations looking to expand their reach and impact.\\n\\nAlso, considering the future, machine learning will likely play a key role in emerging technologies like autonomous vehicles, advanced robotics, and the Internet of Things. As these technologies develop, the importance of machine learning will only grow.\\n\\nIn summary, machine learning is important because it enhances decision-making, automates processes, drives innovation, and has a wide range of applications across industries. It helps tackle complex challenges and improve outcomes, making it a fundamental technology for the future.\\n</think>\\n\\nMachine learning is important because it enhances decision-making, automates processes, and drives innovation across various industries. It improves user experiences through personalization, aids in healthcare with early disease detection, optimizes financial transactions, and boosts manufacturing efficiency. Additionally, it supports environmental sustainability and scalable solutions, while addressing ethical considerations to ensure responsible use. As technology advances, machine learning will remain a cornerstone in emerging fields like autonomous vehicles and robotics, making it a fundamental tool for solving complex challenges and improving future outcomes.\", name=None, tool_call_id=None, tool_calls=None, audio=None, images=None, videos=None, files=None, audio_output=None, image_output=None, thinking=None, redacted_thinking=None, provider_data=None, citations=None, reasoning_content=None, tool_name=None, tool_args=None, tool_call_error=None, stop_after_tool_call=False, add_to_agent_memory=True, from_history=False, metrics=MessageMetrics(input_tokens=244, output_tokens=852, total_tokens=1096, audio_tokens=0, input_audio_tokens=0, output_audio_tokens=0, cached_tokens=0, cache_write_tokens=0, reasoning_tokens=0, prompt_tokens=0, completion_tokens=0, prompt_tokens_details=None, completion_tokens_details=None, additional_metrics={'completion_time': 4.027070646, 'prompt_time': 0.017343943, 'queue_time': 0.201393193, 'total_time': 4.044414589}, time=4.377991530000145, time_to_first_token=None, timer=<agno.utils.timer.Timer object at 0x7fd541a47110>), references=None, created_at=1752235455)], metrics={'input_tokens': [244], 'output_tokens': [852], 'total_tokens': [1096], 'audio_tokens': [0], 'input_audio_tokens': [0], 'output_audio_tokens': [0], 'cached_tokens': [0], 'cache_write_tokens': [0], 'reasoning_tokens': [0], 'prompt_tokens': [0], 'completion_tokens': [0], 'additional_metrics': [{'completion_time': 4.027070646, 'prompt_time': 0.017343943, 'queue_time': 0.201393193, 'total_time': 4.044414589}], 'time': [4.377991530000145]}, model='deepseek-r1-distill-llama-70b', model_provider='Groq', member_responses=[], run_id='48da02b6-27d1-4f40-a83d-6b35ab7e699d', team_id='2c9b1468-c9c0-4a2b-a34f-accd37dc1c4b', team_name='Blog Writing Team', session_id='d8017c9d-320a-4f47-bf1a-1921630b7dcf', team_session_id=None, tools=[], formatted_tool_calls=[], images=None, videos=None, audio=None, response_audio=None, reasoning_content=None, citations=None, extra_data=None, created_at=1752226337, events=None, status=<RunStatus.running: 'RUNNING'>)\n"
          ]
        }
      ]
    },
    {
      "cell_type": "code",
      "source": [
        "5"
      ],
      "metadata": {
        "id": "7vPHR13cRFiE"
      },
      "execution_count": null,
      "outputs": []
    }
  ]
}